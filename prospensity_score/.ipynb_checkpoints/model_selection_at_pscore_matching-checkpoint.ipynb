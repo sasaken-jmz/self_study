{
 "cells": [
  {
   "cell_type": "markdown",
   "id": "124ebfb3-95c9-43d6-92eb-942667bacc0a",
   "metadata": {},
   "source": [
    "# 傾向スコアマッチングにおけるモデル選択法を考える"
   ]
  },
  {
   "cell_type": "markdown",
   "id": "070bf8c8-e67f-4eec-9ce4-1bcaf37381e4",
   "metadata": {},
   "source": [
    "## モジュールインポート"
   ]
  },
  {
   "cell_type": "code",
   "execution_count": 243,
   "id": "b31b542c-3b47-49d8-89aa-691912406388",
   "metadata": {},
   "outputs": [],
   "source": [
    "import numpy as np\n",
    "import pandas as pd\n",
    "from sklearn.linear_model import LogisticRegression\n",
    "from sklearn.neighbors import NearestNeighbors\n",
    "from sklearn.metrics import roc_auc_score, log_loss, precision_score, recall_score, accuracy_score, average_precision_score\n",
    "from tqdm import tqdm\n",
    "from sklearn.ensemble import GradientBoostingClassifier\n",
    "import matplotlib.pyplot as plt\n",
    "import japanize_matplotlib"
   ]
  },
  {
   "cell_type": "markdown",
   "id": "fe60a1fb-4c3b-403a-a43e-8e5cd379221a",
   "metadata": {},
   "source": [
    "## 関数定義"
   ]
  },
  {
   "cell_type": "code",
   "execution_count": 330,
   "id": "49cb34e1-f652-44dc-8463-aa0ceb27caf5",
   "metadata": {},
   "outputs": [],
   "source": [
    "def generate_data_for_ps_matching(random_seed: int, data_size: int, true_att: float):\n",
    "    '''効果検証対象となるデータを作成する\n",
    "    Args:\n",
    "        random_seed (int)  : 乱数のシード値\n",
    "        data_size   (int)  : データの行数\n",
    "        true_att    (float):真のATT\n",
    "\n",
    "    Returns:\n",
    "        df: 効果検証対象となるデータフレーム\n",
    "            ├X1      : 特徴量1（サイト回遊意欲・購入意欲の高さを示す交絡因子）\n",
    "            ├X2      : 特徴量2（サイト回遊意欲・購入意欲の高さを示す交絡因子）\n",
    "            ├X3      : 特徴量3（サイト回遊意欲・購入意欲の高さを示す交絡因子）\n",
    "            ├X4      : 特徴量4（サイト回遊意欲・購入意欲の高さを示す交絡因子）\n",
    "            ├X5      : 特徴量5（サイト回遊意欲・購入意欲の高さを示す交絡因子）\n",
    "            ├T       : 介入有無\n",
    "            ├Y_past  : 観測される目的変数（過去）\n",
    "            ├Y       : 観測される目的変数\n",
    "            ├true_ps : 真の傾向スコア\n",
    "            ├Y0      : 介入されなかった場合の目的変数\n",
    "            └Y1      : 介入された場合の目的変数\n",
    "    '''\n",
    "    # シードを固定\n",
    "    np.random.seed(random_seed)\n",
    "    \n",
    "    # サンプルサイズ\n",
    "    N = data_size\n",
    "    \n",
    "    # 共変量Xを生成（さらに複雑な分布を使用）\n",
    "    X1 = np.random.normal(0, 1, N) + 0.5 * np.random.normal(0, 1, N)  # ノイズ追加\n",
    "    X2 = np.random.gamma(shape=2, scale=2, size=N) - 1.5  # 非対称な分布\n",
    "    X3 = np.random.binomial(1, 0.5, N)\n",
    "    X4 = np.sin(X1) + np.random.normal(0, 0.2, N)  # 非線形要素\n",
    "    X5 = (X2 > np.median(X2)).astype(int)  # 二値変数\n",
    "    \n",
    "    # 傾向スコアの非線形関数（ロジスティック関数ではなく、シグモイド＋サイン波を混ぜる）\n",
    "    base_ps = 0.5 * (np.sin(X1 * X2) + 1) * (1 / (1 + np.exp(-0.5 * X3 + 0.3 * X4 - 0.4 * X5))) + np.random.normal(0, 0.1, N)\n",
    "\n",
    "    # 不均衡を加える（処置群の割合を変動させる）\n",
    "    imbalance_ratio = 1.5\n",
    "    adjusted_ps = imbalance_ratio * base_ps + (1 - imbalance_ratio) * (1 - base_ps)\n",
    "    \n",
    "    # 0〜1の範囲に収める（確率なので）\n",
    "    true_ps = np.clip(adjusted_ps, 0.05, 0.95)\n",
    "    \n",
    "    # 処置変数 T（確率的に割り当て）\n",
    "    T = np.random.binomial(1, true_ps, N)\n",
    "    \n",
    "    # 潜在的結果（Y0: 控除群, Y1: 処置群）\n",
    "    Y_past = 3 + 0.7 * X1 - 0.5 * X2 + 0.3 * X3 + 0.4 * X4 - 0.2 * X5 + np.random.normal(0, 1.5, N)\n",
    "    ATT = true_att  # 真のATT\n",
    "    Y1 = Y_past + ATT + np.random.normal(0, true_att*0.1 , N)\n",
    "    Y0 = Y_past       + np.random.normal(0, true_att*0.1 , N)\n",
    "    \n",
    "    # 観測される結果\n",
    "    Y = np.where(T == 1, Y1, Y0)\n",
    "    \n",
    "    # データフレーム作成\n",
    "    df = pd.DataFrame({\n",
    "        'X1': X1,\n",
    "        'X2': X2,\n",
    "        'X3': X3,\n",
    "        'X4': X4,\n",
    "        'X5': X5,\n",
    "        'T': T,\n",
    "        'Y_past': Y_past,\n",
    "        'Y': Y,\n",
    "        'true_ps': true_ps,\n",
    "        'Y0': Y0,\n",
    "        'Y1': Y1\n",
    "    })\n",
    "        \n",
    "    return df"
   ]
  },
  {
   "cell_type": "code",
   "execution_count": 331,
   "id": "982aa73d-3b35-4d6d-b84d-9b1a694d88cc",
   "metadata": {},
   "outputs": [],
   "source": [
    "def return_pscore_by_logistic_regression(df: pd.DataFrame):\n",
    "    '''効果検証対象となるデータから、ロジスティック回帰にて傾向スコアを得る\n",
    "    Args:\n",
    "        df (pd.DataFrame): 効果検証対象となるデータ\n",
    "\n",
    "    Returns:\n",
    "        pscore: ロジスティック回帰により得られた傾向スコア\n",
    "    '''\n",
    "    # 共変量のカラムを指定する\n",
    "    x_columns = [col for col in df.columns if col.startswith('X')]\n",
    "    # ロジスティック回帰で傾向スコアを推定\n",
    "    logit_model = LogisticRegression()\n",
    "    logit_model.fit(df[x_columns], df['T'])\n",
    "    pscore = logit_model.predict_proba(df[x_columns])[:, 1]\n",
    "\n",
    "    return pscore"
   ]
  },
  {
   "cell_type": "code",
   "execution_count": 332,
   "id": "89f14f30-a57f-4d3f-bc51-9d77e5acf441",
   "metadata": {},
   "outputs": [],
   "source": [
    "def return_pscore_by_gbm(df: pd.DataFrame):\n",
    "    '''効果検証対象となるデータから、勾配ブースティング木にて傾向スコアを得る\n",
    "    Args:\n",
    "        df (pd.DataFrame): 効果検証対象となるデータ\n",
    "\n",
    "    Returns:\n",
    "        pscore: 勾配ブースティング木により得られた傾向スコア\n",
    "    '''\n",
    "    # 共変量のカラムを指定する\n",
    "    x_columns = [col for col in df.columns if col.startswith('X')]\n",
    "    # 勾配ブースティング木で傾向スコアを推定\n",
    "    gbm_model = GradientBoostingClassifier(n_estimators=100, learning_rate=0.1, max_depth=3, random_state=42)\n",
    "    gbm_model.fit(df[x_columns], df['T'])\n",
    "    pscore = gbm_model.predict_proba(df[x_columns])[:, 1]\n",
    "\n",
    "    return pscore"
   ]
  },
  {
   "cell_type": "code",
   "execution_count": 333,
   "id": "63406063-10bf-4b16-949a-92fe60a493e2",
   "metadata": {},
   "outputs": [],
   "source": [
    "# 傾向スコアモデルの評価関数\n",
    "def evaluate_ps_model(df: pd.DataFrame, pscore_column: str):\n",
    "    \"\"\"傾向スコアモデルの評価指標を計算する\n",
    "\n",
    "    Args:\n",
    "        df               (pd.DataFrame): 効果検証対象となるデータ\n",
    "        pscore_column    (str)         : 傾向スコアのカラム名\n",
    "\n",
    "    Returns:\n",
    "        dict: モデルの評価指標（AUC, ロジ損失, 正解率, 適合率, 再現率, PR-AUC）\n",
    "    \"\"\"\n",
    "    # 予測確率を基に閾値 0.5 でクラス分類\n",
    "    predicted_T = (df[pscore_column] >= 0.5).astype(int)\n",
    "\n",
    "    # 評価指標を計算\n",
    "    auc_score = roc_auc_score(df['T'], df[pscore_column])\n",
    "    log_loss_score = log_loss(df['T'], df[pscore_column])\n",
    "    accuracy = accuracy_score(df['T'], predicted_T)\n",
    "    precision = precision_score(df['T'], predicted_T, zero_division=0)\n",
    "    recall = recall_score(df['T'], predicted_T, zero_division=0)\n",
    "    pr_auc = average_precision_score(df['T'], df[pscore_column])\n",
    "\n",
    "    # 結果を返す\n",
    "    return {\n",
    "        'AUC': auc_score,\n",
    "        'Log Loss': log_loss_score,\n",
    "        'Accuracy': accuracy,\n",
    "        'Precision': precision,\n",
    "        'Recall': recall,\n",
    "        'PR-AUC': pr_auc\n",
    "    }"
   ]
  },
  {
   "cell_type": "code",
   "execution_count": 334,
   "id": "aed7d600-1b29-481a-8de7-ce69cd08c79e",
   "metadata": {},
   "outputs": [],
   "source": [
    "def return_matched_df(df: pd.DataFrame, pscore_column: str):\n",
    "    \"\"\"傾向スコアマッチングを行う\n",
    "\n",
    "    Args:\n",
    "        df               (pd.DataFrame): 効果検証対象となるデータ\n",
    "        pscore_column    (str)         : 傾向スコアのカラム名\n",
    "\n",
    "    Returns:\n",
    "        matched_df: マッチング後のデータ\n",
    "    \"\"\"\n",
    "    # 最近傍マッチングによるATT推定\n",
    "    treated = df[df['T'] == 1].copy()\n",
    "    control = df[df['T'] == 0].copy()\n",
    "    \n",
    "    # 1対1最近傍マッチング（傾向スコアに基づく）\n",
    "    nbrs = NearestNeighbors(n_neighbors=1, algorithm='ball_tree').fit(control[[pscore_column]])\n",
    "    distances, indices = nbrs.kneighbors(treated[[pscore_column]])\n",
    "    \n",
    "    # マッチングされた対を取得\n",
    "    matched_control = control.iloc[indices.flatten()].reset_index(drop=True)\n",
    "    matched_treated = treated.reset_index(drop=True)\n",
    "    # マッチング後のデータセットを作成\n",
    "    matched_df = pd.concat([matched_treated, matched_control], axis=0).reset_index(drop=True)\n",
    "\n",
    "    return matched_df"
   ]
  },
  {
   "cell_type": "code",
   "execution_count": 335,
   "id": "58540ea4-0970-42d9-9c1c-398a0e8aa78a",
   "metadata": {},
   "outputs": [],
   "source": [
    "def return_att(matched_df: pd.DataFrame):\n",
    "    \"\"\"ATTを推定する\n",
    "\n",
    "    Args:\n",
    "        matched_df(pd.DataFrame): マッチング後のデータ\n",
    "\n",
    "    Returns:\n",
    "        att_hat: 推定されたATT\n",
    "    \"\"\"\n",
    "    att_hat = (matched_df[matched_df['T']==1]['Y'].values - matched_df[matched_df['T']==0]['Y'].values).mean()\n",
    "    return att_hat"
   ]
  },
  {
   "cell_type": "code",
   "execution_count": 336,
   "id": "c17966f1-e2a8-493e-9dc6-8ccd034a58e2",
   "metadata": {},
   "outputs": [],
   "source": [
    "def compute_smd(df):\n",
    "    \"\"\"標準化平均差 (SMD) を計算する関数\n",
    "    \n",
    "    Args:\n",
    "        df          (pd.DataFrame): データフレーム\n",
    "        covariates  (list): 共変量のリスト\n",
    "    \n",
    "    Returns:\n",
    "        pd.DataFrame: SMD のデータフレーム\n",
    "    \"\"\"\n",
    "    smd_results = {}\n",
    "    treated = df[df['T'] == 1]\n",
    "    control = df[df['T'] == 0]\n",
    "\n",
    "    covariates = [col for col in df.columns if col.startswith('X')]\n",
    "    for covariate in covariates:\n",
    "        mean_t = treated[covariate].mean()\n",
    "        mean_c = control[covariate].mean()\n",
    "        std_t = treated[covariate].std()\n",
    "        std_c = control[covariate].std()\n",
    "\n",
    "        smd = abs(mean_t - mean_c) / np.sqrt((std_t**2 + std_c**2) / 2)\n",
    "        smd_results[covariate] = smd\n",
    "\n",
    "    return pd.DataFrame.from_dict(smd_results, orient='index', columns=['SMD'])"
   ]
  },
  {
   "cell_type": "code",
   "execution_count": 337,
   "id": "d674b008-93af-400c-be58-c5922a751a7f",
   "metadata": {},
   "outputs": [],
   "source": [
    "def plot_smd(before_smd_df: pd.DataFrame, after_smd_df: pd.DataFrame):\n",
    "    \"\"\"標準化平均差 (SMD) を描画する関数\n",
    "    \n",
    "    Args:\n",
    "        before_smd(pd.DataFrame): マッチング前のSMD\n",
    "        after_smd (pd.DataFrame): マッチング後のSMD\n",
    "    \"\"\"\n",
    "    # SMDを横向きの散布図で可視化\n",
    "    fig, ax = plt.subplots(figsize=(8, 5))\n",
    "    \n",
    "    # 横向きの散布図を作成\n",
    "    ax.scatter(before_smd_df['SMD'], before_smd_df.index, label='Before Matching', color='skyblue'  , marker='o', alpha=0.7)\n",
    "    ax.scatter(after_smd_df['SMD'] , after_smd_df.index, label='After Matching'  , color='lightpink', marker='s', alpha=0.7)\n",
    "    \n",
    "    # 閾値線（0.1）を追加\n",
    "    ax.axvline(x=0.1, color='black', linestyle='--', label='Threshold (0.1)')\n",
    "    \n",
    "    # 軸ラベルとタイトル\n",
    "    ax.set_xlabel(\"Standardized Mean Difference (SMD)\")\n",
    "    ax.set_ylabel(\"Covariates\")\n",
    "    ax.set_title(\"SMD Before and After Matching (1:1 Nearest Neighbor)\")\n",
    "    ax.legend()\n",
    "    ax.invert_yaxis()\n",
    "\n",
    "    # グラフを表示\n",
    "    plt.show()"
   ]
  },
  {
   "cell_type": "markdown",
   "id": "becf12ff-dc5e-4eef-a143-0708f8529618",
   "metadata": {},
   "source": [
    "## ロジスティック回帰と勾配ブースティング木それぞれを用いた傾向スコアマッチングの精度を比較する"
   ]
  },
  {
   "cell_type": "code",
   "execution_count": 327,
   "id": "44fb1f50-157f-40ac-9089-b5f64f0c1419",
   "metadata": {},
   "outputs": [
    {
     "name": "stderr",
     "output_type": "stream",
     "text": [
      "100%|████████████████████████████████████████████████████████████████████████████████████████████████████| 100/100 [00:03<00:00, 31.09it/s]\n",
      "100%|████████████████████████████████████████████████████████████████████████████████████████████████████| 100/100 [01:08<00:00,  1.46it/s]\n"
     ]
    }
   ],
   "source": [
    "n_trials = 100\n",
    "data_size=10000\n",
    "true_att=0.5\n",
    "avg_att_hat_list = []\n",
    "std_att_hat_list = []\n",
    "avg_accuracy_list = []\n",
    "std_accuracy_list = []\n",
    "avg_precision_list = []\n",
    "std_precision_list = []\n",
    "avg_recall_list = []\n",
    "std_recall_list = []\n",
    "\n",
    "att_hat_list = []\n",
    "evaluate_dict_list = []\n",
    "for i in tqdm(range(n_trials)):\n",
    "    df = generate_data_for_ps_matching(random_seed=i, data_size=data_size, true_att=true_att)\n",
    "    df['pscore'] = return_pscore_by_logistic_regression(df=df)\n",
    "    evaluate_dict = evaluate_ps_model(df=df, pscore_column='pscore')\n",
    "    evaluate_dict_list.append(evaluate_dict)\n",
    "    matched_df = return_matched_df(df=df, pscore_column='pscore')\n",
    "    att_hat = return_att(matched_df)\n",
    "    att_hat_list.append(att_hat)\n",
    "\n",
    "avg_att_hat_list.append(np.array(att_hat_list).mean())\n",
    "std_att_hat_list.append(np.array(att_hat_list).std())\n",
    "evaluate_df = pd.DataFrame(evaluate_dict_list)\n",
    "summary_stats = {'mean': evaluate_df.mean().to_dict(), 'std': evaluate_df.std().to_dict()}\n",
    "avg_accuracy_list.append(summary_stats['mean']['Accuracy'])\n",
    "std_accuracy_list.append(summary_stats['std']['Accuracy'])\n",
    "avg_precision_list.append(summary_stats['mean']['Precision'])\n",
    "std_precision_list.append(summary_stats['std']['Precision'])\n",
    "avg_recall_list.append(summary_stats['mean']['Recall'])\n",
    "std_recall_list.append(summary_stats['std']['Recall'])\n",
    "\n",
    "att_hat_list = []\n",
    "for i in tqdm(range(n_trials)):\n",
    "    df = generate_data_for_ps_matching(random_seed=i, data_size=data_size, true_att=true_att)\n",
    "    df['pscore'] = return_pscore_by_gbm(df=df)\n",
    "    evaluate_dict = evaluate_ps_model(df=df, pscore_column='pscore')\n",
    "    evaluate_dict_list.append(evaluate_dict)\n",
    "    matched_df = return_matched_df(df=df, pscore_column='pscore')\n",
    "    att_hat = return_att(matched_df)\n",
    "    att_hat_list.append(att_hat)\n",
    "\n",
    "avg_att_hat_list.append(np.array(att_hat_list).mean())\n",
    "std_att_hat_list.append(np.array(att_hat_list).std())\n",
    "evaluate_df = pd.DataFrame(evaluate_dict_list)\n",
    "summary_stats = {'mean': evaluate_df.mean().to_dict(), 'std': evaluate_df.std().to_dict()}\n",
    "avg_accuracy_list.append(summary_stats['mean']['Accuracy'])\n",
    "std_accuracy_list.append(summary_stats['std']['Accuracy'])\n",
    "avg_precision_list.append(summary_stats['mean']['Precision'])\n",
    "std_precision_list.append(summary_stats['std']['Precision'])\n",
    "avg_recall_list.append(summary_stats['mean']['Recall'])\n",
    "std_recall_list.append(summary_stats['std']['Recall'])"
   ]
  },
  {
   "cell_type": "code",
   "execution_count": 261,
   "id": "a0fae443-2cfd-45a0-b575-f23aa98bdd98",
   "metadata": {},
   "outputs": [
    {
     "data": {
      "image/png": "[encoded data removed]",
      "text/plain": [
       "<Figure size 800x500 with 1 Axes>"
      ]
     },
     "metadata": {},
     "output_type": "display_data"
    }
   ],
   "source": [
    "# 凡例を設定\n",
    "categories = ['①logistic', '②gbm']\n",
    "\n",
    "# 比較結果を描画\n",
    "plt.figure(figsize=(8, 5))\n",
    "# 点とエラーバーを描画\n",
    "plt.errorbar(categories, avg_att_hat_list,yerr=std_att_hat_list,fmt='o', color='blue', ecolor='gray', elinewidth=2, capsize=5, label='Mean ± Std Dev')\n",
    "plt.title('ATT')\n",
    "plt.axhline(y=true_att, color='red', linestyle='--', label='true att')\n",
    "plt.grid(axis='y', linestyle='--', alpha=0.7)\n",
    "plt.legend()\n",
    "# plt.ylim(0, 1)\n",
    "\n",
    "plt.show()"
   ]
  },
  {
   "cell_type": "code",
   "execution_count": 262,
   "id": "a81e9db5-727b-4f26-a3db-f116c97d76b8",
   "metadata": {},
   "outputs": [
    {
     "data": {
      "image/png": "[encoded data removed]",
      "text/plain": [
       "<Figure size 1500x500 with 3 Axes>"
      ]
     },
     "metadata": {},
     "output_type": "display_data"
    }
   ],
   "source": [
    "# 凡例を設定\n",
    "categories = ['①logistic', '②gbm']\n",
    "\n",
    "# 比較結果を描画\n",
    "fig, axes = plt.subplots(1, 3, figsize=(15, 5))\n",
    "# 点とエラーバーを描画\n",
    "axes[0].errorbar(categories, avg_accuracy_list,yerr=std_accuracy_list,fmt='o', color='blue', ecolor='gray', elinewidth=2, capsize=5, label='Mean ± Std Dev')\n",
    "axes[0].set_title('正解率')\n",
    "axes[0].grid(axis='y', linestyle='--', alpha=0.7)\n",
    "axes[0].legend()\n",
    "axes[0].set_ylim(0, 1)\n",
    "\n",
    "axes[1].errorbar(categories, avg_precision_list,yerr=std_precision_list,fmt='o', color='blue', ecolor='gray', elinewidth=2, capsize=5, label='Mean ± Std Dev')\n",
    "axes[1].set_title('適合率')\n",
    "axes[1].grid(axis='y', linestyle='--', alpha=0.7)\n",
    "axes[1].legend()\n",
    "axes[1].set_ylim(0, 1)\n",
    "\n",
    "axes[2].errorbar(categories, avg_recall_list,yerr=std_recall_list,fmt='o', color='blue', ecolor='gray', elinewidth=2, capsize=5, label='Mean ± Std Dev')\n",
    "axes[2].set_title('再現率')\n",
    "axes[2].grid(axis='y', linestyle='--', alpha=0.7)\n",
    "axes[2].legend()\n",
    "axes[2].set_ylim(0, 1)\n",
    "\n",
    "plt.show()"
   ]
  },
  {
   "cell_type": "markdown",
   "id": "f0873188-ae22-4709-9316-2e53db62bf78",
   "metadata": {},
   "source": [
    "## 傾向スコアモデルの良し悪しとATTの推定精度の違いを考える"
   ]
  },
  {
   "cell_type": "code",
   "execution_count": 299,
   "id": "4334886c-cdf4-478c-a779-18cc0b4b7117",
   "metadata": {},
   "outputs": [
    {
     "name": "stdout",
     "output_type": "stream",
     "text": [
      "ロジスティック回帰精度\n"
     ]
    },
    {
     "data": {
      "text/plain": [
       "{'AUC': 0.6123471551850226,\n",
       " 'Log Loss': 0.5558270615505166,\n",
       " 'Accuracy': 0.742,\n",
       " 'Precision': 0.0,\n",
       " 'Recall': 0.0,\n",
       " 'PR-AUC': 0.3369866363976939}"
      ]
     },
     "metadata": {},
     "output_type": "display_data"
    },
    {
     "name": "stdout",
     "output_type": "stream",
     "text": [
      "勾配ブースティング木精度\n"
     ]
    },
    {
     "data": {
      "text/plain": [
       "{'AUC': 0.8089769426858062,\n",
       " 'Log Loss': 0.45624917847122043,\n",
       " 'Accuracy': 0.7848,\n",
       " 'Precision': 0.7336244541484717,\n",
       " 'Recall': 0.26046511627906976,\n",
       " 'PR-AUC': 0.6166231267423555}"
      ]
     },
     "metadata": {},
     "output_type": "display_data"
    }
   ],
   "source": [
    "i = 30\n",
    "data_size = 10000\n",
    "true_att = 0.5\n",
    "df = generate_data_for_ps_matching(random_seed=i, data_size=data_size, true_att=true_att)\n",
    "\n",
    "df['pscore_by_logi'] = return_pscore_by_logistic_regression(df=df)\n",
    "evaluate_dict = evaluate_ps_model(df=df, pscore_column='pscore_by_logi')\n",
    "print('ロジスティック回帰精度')\n",
    "display(evaluate_dict)\n",
    "\n",
    "df['pscore_by_gbm'] = return_pscore_by_gbm(df=df)\n",
    "evaluate_dict = evaluate_ps_model(df=df, pscore_column='pscore_by_gbm')\n",
    "print('勾配ブースティング木精度')\n",
    "display(evaluate_dict)"
   ]
  },
  {
   "cell_type": "code",
   "execution_count": 300,
   "id": "3f1a6f28-c3df-4874-a3e7-7de6124487b9",
   "metadata": {},
   "outputs": [
    {
     "data": {
      "text/plain": [
       "<matplotlib.legend.Legend at 0x302667460>"
      ]
     },
     "execution_count": 300,
     "metadata": {},
     "output_type": "execute_result"
    },
    {
     "data": {
      "image/png": "[encoded data removed]",
      "text/plain": [
       "<Figure size 640x480 with 1 Axes>"
      ]
     },
     "metadata": {},
     "output_type": "display_data"
    }
   ],
   "source": [
    "df['true_ps'].hist(alpha=0.5, label='true')\n",
    "df['pscore_by_logi'].hist(alpha=0.5, label='logi')\n",
    "df['pscore_by_gbm'].hist(alpha=0.5, label='gbm')\n",
    "plt.legend()"
   ]
  },
  {
   "cell_type": "code",
   "execution_count": 301,
   "id": "3dcd9f46-31bd-4591-a0a4-26e7dd13ec01",
   "metadata": {},
   "outputs": [
    {
     "data": {
      "image/png": "[encoded data removed]",
      "text/plain": [
       "<Figure size 800x500 with 1 Axes>"
      ]
     },
     "metadata": {},
     "output_type": "display_data"
    }
   ],
   "source": [
    "# ps_col = 'true_ps'\n",
    "ps_col = 'pscore_by_logi'\n",
    "bin_width = 0.1\n",
    "\n",
    "# 傾向スコアをビン（区間）に分ける\n",
    "bins = np.arange(0, 1 + bin_width, bin_width)\n",
    "df['ps_bin'] = pd.cut(df[ps_col], bins=bins, right=False)\n",
    "\n",
    "# 各ビンごとの処置群（T=1）の割合を計算\n",
    "ps_summary = df.groupby('ps_bin')['T'].mean()\n",
    "\n",
    "# グラフの作成\n",
    "fig, ax = plt.subplots(figsize=(8, 5))\n",
    "ps_summary.plot(kind='bar', color='skyblue', alpha=0.7, ax=ax)\n",
    "\n",
    "# 軸ラベルとタイトル\n",
    "ax.set_xlabel(\"Propensity Score Bins\")\n",
    "ax.set_ylabel(\"Proportion of Treated (T=1)\")\n",
    "ax.set_title(\"Proportion of Treated Individuals by Propensity Score Bins\")\n",
    "ax.set_xticklabels(ps_summary.index, rotation=45)\n",
    "\n",
    "# グリッド追加\n",
    "ax.grid(axis='y', linestyle='--', alpha=0.6)\n",
    "\n",
    "# グラフを表示\n",
    "plt.show()"
   ]
  },
  {
   "cell_type": "code",
   "execution_count": 302,
   "id": "419145b7-4e51-4532-903b-f39391809788",
   "metadata": {},
   "outputs": [
    {
     "data": {
      "image/png": "[encoded data removed]",
      "text/plain": [
       "<Figure size 800x500 with 1 Axes>"
      ]
     },
     "metadata": {},
     "output_type": "display_data"
    }
   ],
   "source": [
    "# ps_col = 'true_ps'\n",
    "ps_col = 'pscore_by_gbm'\n",
    "bin_width = 0.1\n",
    "\n",
    "# 傾向スコアをビン（区間）に分ける\n",
    "bins = np.arange(0, 1 + bin_width, bin_width)\n",
    "df['ps_bin'] = pd.cut(df[ps_col], bins=bins, right=False)\n",
    "\n",
    "# 各ビンごとの処置群（T=1）の割合を計算\n",
    "ps_summary = df.groupby('ps_bin')['T'].mean()\n",
    "\n",
    "# グラフの作成\n",
    "fig, ax = plt.subplots(figsize=(8, 5))\n",
    "ps_summary.plot(kind='bar', color='skyblue', alpha=0.7, ax=ax)\n",
    "\n",
    "# 軸ラベルとタイトル\n",
    "ax.set_xlabel(\"Propensity Score Bins\")\n",
    "ax.set_ylabel(\"Proportion of Treated (T=1)\")\n",
    "ax.set_title(\"Proportion of Treated Individuals by Propensity Score Bins\")\n",
    "ax.set_xticklabels(ps_summary.index, rotation=45)\n",
    "\n",
    "# グリッド追加\n",
    "ax.grid(axis='y', linestyle='--', alpha=0.6)\n",
    "\n",
    "# グラフを表示\n",
    "plt.show()"
   ]
  },
  {
   "cell_type": "code",
   "execution_count": 318,
   "id": "0d7cdc39-f286-44cb-a7a5-162c23f8eadd",
   "metadata": {},
   "outputs": [
    {
     "data": {
      "text/html": [
       "<div>\n",
       "<style scoped>\n",
       "    .dataframe tbody tr th:only-of-type {\n",
       "        vertical-align: middle;\n",
       "    }\n",
       "\n",
       "    .dataframe tbody tr th {\n",
       "        vertical-align: top;\n",
       "    }\n",
       "\n",
       "    .dataframe thead th {\n",
       "        text-align: right;\n",
       "    }\n",
       "</style>\n",
       "<table border=\"1\" class=\"dataframe\">\n",
       "  <thead>\n",
       "    <tr style=\"text-align: right;\">\n",
       "      <th></th>\n",
       "      <th>X1</th>\n",
       "      <th>X2</th>\n",
       "      <th>X3</th>\n",
       "      <th>X4</th>\n",
       "      <th>X5</th>\n",
       "      <th>T</th>\n",
       "      <th>Y</th>\n",
       "      <th>true_ps</th>\n",
       "      <th>Y0</th>\n",
       "      <th>Y1</th>\n",
       "      <th>pscore_by_logi</th>\n",
       "      <th>pscore_by_gbm</th>\n",
       "      <th>ps_bin</th>\n",
       "    </tr>\n",
       "  </thead>\n",
       "  <tbody>\n",
       "    <tr>\n",
       "      <th>0</th>\n",
       "      <td>0.418555</td>\n",
       "      <td>3.577151</td>\n",
       "      <td>1</td>\n",
       "      <td>0.308978</td>\n",
       "      <td>1</td>\n",
       "      <td>1</td>\n",
       "      <td>1.319653</td>\n",
       "      <td>0.816415</td>\n",
       "      <td>0.819653</td>\n",
       "      <td>1.319653</td>\n",
       "      <td>0.372462</td>\n",
       "      <td>0.636163</td>\n",
       "      <td>[0.6, 0.7)</td>\n",
       "    </tr>\n",
       "    <tr>\n",
       "      <th>1</th>\n",
       "      <td>-2.277320</td>\n",
       "      <td>1.666238</td>\n",
       "      <td>1</td>\n",
       "      <td>-0.759443</td>\n",
       "      <td>0</td>\n",
       "      <td>1</td>\n",
       "      <td>2.570574</td>\n",
       "      <td>0.392395</td>\n",
       "      <td>2.070574</td>\n",
       "      <td>2.570574</td>\n",
       "      <td>0.249254</td>\n",
       "      <td>0.203875</td>\n",
       "      <td>[0.2, 0.3)</td>\n",
       "    </tr>\n",
       "    <tr>\n",
       "      <th>2</th>\n",
       "      <td>0.184271</td>\n",
       "      <td>2.161425</td>\n",
       "      <td>1</td>\n",
       "      <td>0.141400</td>\n",
       "      <td>1</td>\n",
       "      <td>1</td>\n",
       "      <td>0.779524</td>\n",
       "      <td>0.814905</td>\n",
       "      <td>0.279524</td>\n",
       "      <td>0.779524</td>\n",
       "      <td>0.372402</td>\n",
       "      <td>0.595156</td>\n",
       "      <td>[0.5, 0.6)</td>\n",
       "    </tr>\n",
       "    <tr>\n",
       "      <th>3</th>\n",
       "      <td>-0.716537</td>\n",
       "      <td>5.278991</td>\n",
       "      <td>0</td>\n",
       "      <td>-0.461101</td>\n",
       "      <td>1</td>\n",
       "      <td>1</td>\n",
       "      <td>0.224048</td>\n",
       "      <td>0.644848</td>\n",
       "      <td>-0.275952</td>\n",
       "      <td>0.224048</td>\n",
       "      <td>0.265899</td>\n",
       "      <td>0.308902</td>\n",
       "      <td>[0.3, 0.4)</td>\n",
       "    </tr>\n",
       "    <tr>\n",
       "      <th>4</th>\n",
       "      <td>0.849343</td>\n",
       "      <td>1.559681</td>\n",
       "      <td>1</td>\n",
       "      <td>0.897004</td>\n",
       "      <td>0</td>\n",
       "      <td>1</td>\n",
       "      <td>5.810282</td>\n",
       "      <td>0.592579</td>\n",
       "      <td>5.310282</td>\n",
       "      <td>5.810282</td>\n",
       "      <td>0.243352</td>\n",
       "      <td>0.475144</td>\n",
       "      <td>[0.4, 0.5)</td>\n",
       "    </tr>\n",
       "  </tbody>\n",
       "</table>\n",
       "</div>"
      ],
      "text/plain": [
       "         X1        X2  X3        X4  X5  T         Y   true_ps        Y0  \\\n",
       "0  0.418555  3.577151   1  0.308978   1  1  1.319653  0.816415  0.819653   \n",
       "1 -2.277320  1.666238   1 -0.759443   0  1  2.570574  0.392395  2.070574   \n",
       "2  0.184271  2.161425   1  0.141400   1  1  0.779524  0.814905  0.279524   \n",
       "3 -0.716537  5.278991   0 -0.461101   1  1  0.224048  0.644848 -0.275952   \n",
       "4  0.849343  1.559681   1  0.897004   0  1  5.810282  0.592579  5.310282   \n",
       "\n",
       "         Y1  pscore_by_logi  pscore_by_gbm      ps_bin  \n",
       "0  1.319653        0.372462       0.636163  [0.6, 0.7)  \n",
       "1  2.570574        0.249254       0.203875  [0.2, 0.3)  \n",
       "2  0.779524        0.372402       0.595156  [0.5, 0.6)  \n",
       "3  0.224048        0.265899       0.308902  [0.3, 0.4)  \n",
       "4  5.810282        0.243352       0.475144  [0.4, 0.5)  "
      ]
     },
     "metadata": {},
     "output_type": "display_data"
    },
    {
     "data": {
      "text/html": [
       "<div>\n",
       "<style scoped>\n",
       "    .dataframe tbody tr th:only-of-type {\n",
       "        vertical-align: middle;\n",
       "    }\n",
       "\n",
       "    .dataframe tbody tr th {\n",
       "        vertical-align: top;\n",
       "    }\n",
       "\n",
       "    .dataframe thead th {\n",
       "        text-align: right;\n",
       "    }\n",
       "</style>\n",
       "<table border=\"1\" class=\"dataframe\">\n",
       "  <thead>\n",
       "    <tr style=\"text-align: right;\">\n",
       "      <th></th>\n",
       "      <th>X1</th>\n",
       "      <th>X2</th>\n",
       "      <th>X3</th>\n",
       "      <th>X4</th>\n",
       "      <th>X5</th>\n",
       "      <th>T</th>\n",
       "      <th>Y</th>\n",
       "      <th>true_ps</th>\n",
       "      <th>Y0</th>\n",
       "      <th>Y1</th>\n",
       "      <th>pscore_by_logi</th>\n",
       "      <th>pscore_by_gbm</th>\n",
       "      <th>ps_bin</th>\n",
       "    </tr>\n",
       "  </thead>\n",
       "  <tbody>\n",
       "    <tr>\n",
       "      <th>2580</th>\n",
       "      <td>0.433211</td>\n",
       "      <td>3.558938</td>\n",
       "      <td>0</td>\n",
       "      <td>0.220024</td>\n",
       "      <td>1</td>\n",
       "      <td>0</td>\n",
       "      <td>2.319404</td>\n",
       "      <td>0.818607</td>\n",
       "      <td>2.319404</td>\n",
       "      <td>2.819404</td>\n",
       "      <td>0.265731</td>\n",
       "      <td>0.509699</td>\n",
       "      <td>[0.5, 0.6)</td>\n",
       "    </tr>\n",
       "    <tr>\n",
       "      <th>2581</th>\n",
       "      <td>1.603356</td>\n",
       "      <td>0.807015</td>\n",
       "      <td>1</td>\n",
       "      <td>1.075406</td>\n",
       "      <td>0</td>\n",
       "      <td>0</td>\n",
       "      <td>2.928340</td>\n",
       "      <td>0.392444</td>\n",
       "      <td>2.928340</td>\n",
       "      <td>3.428340</td>\n",
       "      <td>0.237598</td>\n",
       "      <td>0.388290</td>\n",
       "      <td>[0.3, 0.4)</td>\n",
       "    </tr>\n",
       "    <tr>\n",
       "      <th>2582</th>\n",
       "      <td>-1.373713</td>\n",
       "      <td>2.745037</td>\n",
       "      <td>0</td>\n",
       "      <td>-0.911517</td>\n",
       "      <td>1</td>\n",
       "      <td>0</td>\n",
       "      <td>1.723580</td>\n",
       "      <td>0.812395</td>\n",
       "      <td>1.723580</td>\n",
       "      <td>2.223580</td>\n",
       "      <td>0.265743</td>\n",
       "      <td>0.389050</td>\n",
       "      <td>[0.3, 0.4)</td>\n",
       "    </tr>\n",
       "    <tr>\n",
       "      <th>2583</th>\n",
       "      <td>0.421874</td>\n",
       "      <td>4.166196</td>\n",
       "      <td>0</td>\n",
       "      <td>0.682805</td>\n",
       "      <td>1</td>\n",
       "      <td>0</td>\n",
       "      <td>2.318667</td>\n",
       "      <td>0.644901</td>\n",
       "      <td>2.318667</td>\n",
       "      <td>2.818667</td>\n",
       "      <td>0.276032</td>\n",
       "      <td>0.400563</td>\n",
       "      <td>[0.4, 0.5)</td>\n",
       "    </tr>\n",
       "    <tr>\n",
       "      <th>2584</th>\n",
       "      <td>-1.063541</td>\n",
       "      <td>4.045160</td>\n",
       "      <td>0</td>\n",
       "      <td>-0.742019</td>\n",
       "      <td>1</td>\n",
       "      <td>0</td>\n",
       "      <td>0.883016</td>\n",
       "      <td>0.592600</td>\n",
       "      <td>0.883016</td>\n",
       "      <td>1.383016</td>\n",
       "      <td>0.264834</td>\n",
       "      <td>0.418344</td>\n",
       "      <td>[0.4, 0.5)</td>\n",
       "    </tr>\n",
       "  </tbody>\n",
       "</table>\n",
       "</div>"
      ],
      "text/plain": [
       "            X1        X2  X3        X4  X5  T         Y   true_ps        Y0  \\\n",
       "2580  0.433211  3.558938   0  0.220024   1  0  2.319404  0.818607  2.319404   \n",
       "2581  1.603356  0.807015   1  1.075406   0  0  2.928340  0.392444  2.928340   \n",
       "2582 -1.373713  2.745037   0 -0.911517   1  0  1.723580  0.812395  1.723580   \n",
       "2583  0.421874  4.166196   0  0.682805   1  0  2.318667  0.644901  2.318667   \n",
       "2584 -1.063541  4.045160   0 -0.742019   1  0  0.883016  0.592600  0.883016   \n",
       "\n",
       "            Y1  pscore_by_logi  pscore_by_gbm      ps_bin  \n",
       "2580  2.819404        0.265731       0.509699  [0.5, 0.6)  \n",
       "2581  3.428340        0.237598       0.388290  [0.3, 0.4)  \n",
       "2582  2.223580        0.265743       0.389050  [0.3, 0.4)  \n",
       "2583  2.818667        0.276032       0.400563  [0.4, 0.5)  \n",
       "2584  1.383016        0.264834       0.418344  [0.4, 0.5)  "
      ]
     },
     "metadata": {},
     "output_type": "display_data"
    }
   ],
   "source": [
    "before_smd_df = compute_smd(df)\n",
    "matched_df = return_matched_df(df=df, pscore_column='true_ps')\n",
    "\n",
    "display(matched_df[matched_df['T']==1].head())\n",
    "display(matched_df[matched_df['T']==0].head())"
   ]
  },
  {
   "cell_type": "markdown",
   "id": "542d7c9a-335f-4314-934b-74d314ebb842",
   "metadata": {},
   "source": [
    "真の傾向スコアでマッチングした場合(1:1)、Y0の値が全然揃っていないことがわかる"
   ]
  },
  {
   "cell_type": "markdown",
   "id": "0c0b0d0d-c8d4-4967-a7e5-d04991191881",
   "metadata": {},
   "source": [
    "## 目的変数の過去の値が揃っているかどうかが良さそう"
   ]
  },
  {
   "cell_type": "code",
   "execution_count": 345,
   "id": "7f1c41e9-bda2-4bf8-a0bf-005c742fa181",
   "metadata": {},
   "outputs": [
    {
     "name": "stdout",
     "output_type": "stream",
     "text": [
      "ATT: 0.523\n",
      "Y_past平均誤差: 0.022\n"
     ]
    }
   ],
   "source": [
    "i = 30\n",
    "data_size = 10000\n",
    "true_att = 0.5\n",
    "df = generate_data_for_ps_matching(random_seed=i, data_size=data_size, true_att=true_att)\n",
    "\n",
    "df['pscore'] = return_pscore_by_logistic_regression(df=df)\n",
    "matched_df = return_matched_df(df=df, pscore_column='pscore')\n",
    "att_hat = return_att(matched_df)\n",
    "print(f'ATT: {att_hat:.3f}')\n",
    "\n",
    "me_y_past = (np.array(matched_df[matched_df['T']==1]['Y_past']) - np.array(matched_df[matched_df['T']==0]['Y_past'])).mean()\n",
    "print(f'Y_past平均誤差: {me_y_past:.3f}')"
   ]
  },
  {
   "cell_type": "code",
   "execution_count": 346,
   "id": "67b68ad5-3eb1-4932-930a-28593bacd3b3",
   "metadata": {},
   "outputs": [
    {
     "name": "stdout",
     "output_type": "stream",
     "text": [
      "ATT: 0.390\n",
      "Y_past平均誤差: -0.113\n"
     ]
    }
   ],
   "source": [
    "i = 30\n",
    "data_size = 10000\n",
    "true_att = 0.5\n",
    "df = generate_data_for_ps_matching(random_seed=i, data_size=data_size, true_att=true_att)\n",
    "\n",
    "df['pscore'] = return_pscore_by_gbm(df=df)\n",
    "matched_df = return_matched_df(df=df, pscore_column='pscore')\n",
    "att_hat = return_att(matched_df)\n",
    "print(f'ATT: {att_hat:.3f}')\n",
    "\n",
    "me_y_past = (np.array(matched_df[matched_df['T']==1]['Y_past']) - np.array(matched_df[matched_df['T']==0]['Y_past'])).mean()\n",
    "print(f'Y_past平均誤差: {me_y_past:.3f}')"
   ]
  },
  {
   "cell_type": "code",
   "execution_count": null,
   "id": "c17c9c06-ceb4-42b4-9172-68f485542058",
   "metadata": {},
   "outputs": [],
   "source": []
  }
 ],
 "metadata": {
  "kernelspec": {
   "display_name": "Python 3 (ipykernel)",
   "language": "python",
   "name": "python3"
  },
  "language_info": {
   "codemirror_mode": {
    "name": "ipython",
    "version": 3
   },
   "file_extension": ".py",
   "mimetype": "text/x-python",
   "name": "python",
   "nbconvert_exporter": "python",
   "pygments_lexer": "ipython3",
   "version": "3.9.5"
  }
 },
 "nbformat": 4,
 "nbformat_minor": 5
}
