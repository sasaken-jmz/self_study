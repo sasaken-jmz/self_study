{
 "cells": [
  {
   "cell_type": "markdown",
   "id": "81b0bb22-884a-4999-adac-640418d53b1f",
   "metadata": {},
   "source": [
    "# 標準偏差と標準誤差を理解する\n",
    "参考: [統計WEB](https://bellcurve.jp/statistics/course/8616.html)\n",
    "\n",
    "### 標準偏差\n",
    "- 標準偏差は母集団から得られた個々のデータのばらつきを表すものであり、分散の正の平方根で定義される\n",
    "\n",
    "### 標準誤差\n",
    "- 推定量の標準偏差であり、標本から得られる推定量そのもののバラつき（＝精度）を表す\n",
    "    - 母集団から抽出された標本から標本平均を求める場合、標本平均の値が母平均に対してどの程度ばらついているかを表すもの"
   ]
  },
  {
   "cell_type": "markdown",
   "id": "b3fac25b-70c8-48ff-bc5e-39c6dbbcb129",
   "metadata": {},
   "source": [
    "## モジュールインポート"
   ]
  },
  {
   "cell_type": "code",
   "execution_count": 1,
   "id": "46e99c77-0bda-4dca-a3f6-d7d31ef43c62",
   "metadata": {},
   "outputs": [],
   "source": [
    "import numpy as np\n",
    "import scipy.stats as stats\n",
    "from tqdm import tqdm"
   ]
  },
  {
   "cell_type": "markdown",
   "id": "53bf6f4d-ea39-49c9-812e-0d496141769b",
   "metadata": {},
   "source": [
    "## 標準偏差と標準誤差の違い"
   ]
  },
  {
   "cell_type": "code",
   "execution_count": 2,
   "id": "4024b2e5-a3f4-44cf-be96-cb284fdb73f8",
   "metadata": {},
   "outputs": [
    {
     "name": "stdout",
     "output_type": "stream",
     "text": [
      "標準偏差: 2.242\n",
      "標準誤差: 0.231\n"
     ]
    }
   ],
   "source": [
    "# 母集団平均0、分散5のデータを作成（標準偏差は sqrt(5)）\n",
    "np.random.seed(41)  # 再現性のためのシード設定\n",
    "population_size = 100000  # 母集団のサイズ\n",
    "population = np.random.normal(loc=0, scale=np.sqrt(5), size=population_size)\n",
    "\n",
    "# 標準偏差（Standard Deviation）\n",
    "std_dev = np.std(population, ddof=0)  # 母集団の標準偏差\n",
    "\n",
    "# 標本を抽出し、標準誤差（Standard Error）を計算\n",
    "sample_size = 100  # 標本のサイズ\n",
    "sample = np.random.choice(population, size=sample_size, replace=False)\n",
    "standard_error = np.std(sample, ddof=1) / np.sqrt(sample_size)  # 標準誤差\n",
    "\n",
    "print(f'標準偏差: {std_dev:.3f}')\n",
    "print(f'標準誤差: {standard_error:.3f}')"
   ]
  },
  {
   "cell_type": "markdown",
   "id": "4eccec2a-3763-4355-b075-15e7fae74069",
   "metadata": {},
   "source": [
    "## 信頼区間シミュレーション"
   ]
  },
  {
   "cell_type": "code",
   "execution_count": 9,
   "id": "f773cd1e-00e6-4657-91dc-5c3669364190",
   "metadata": {},
   "outputs": [
    {
     "name": "stderr",
     "output_type": "stream",
     "text": [
      "100%|██████████████████████████████████████████████████████████████████████████████████| 1000/1000 [00:01<00:00, 525.57it/s]"
     ]
    },
    {
     "name": "stdout",
     "output_type": "stream",
     "text": [
      "信頼区間が母平均を含んでいる割合: 0.963\n"
     ]
    },
    {
     "name": "stderr",
     "output_type": "stream",
     "text": [
      "\n"
     ]
    }
   ],
   "source": [
    "population_size = 100000\n",
    "pop_mean = 0\n",
    "pop_var = 5\n",
    "sample_size = 100\n",
    "include_pop_mean_flag_list = []\n",
    "n_trials = 1000\n",
    "\n",
    "for i in tqdm(range(n_trials)):\n",
    "    np.random.seed(i)  # 再現性のためのシード設定\n",
    "    population = np.random.normal(loc=pop_mean, scale=np.sqrt(pop_var), size=population_size)\n",
    "    sample = np.random.choice(population, size=sample_size, replace=False)\n",
    "    \n",
    "    # 標本平均の計算\n",
    "    sample_mean = np.mean(sample)\n",
    "    \n",
    "    # 信頼区間の計算（95%信頼区間）\n",
    "    confidence_level = 0.95\n",
    "    df = sample_size - 1  # 自由度\n",
    "    t_critical = stats.t.ppf((1 + confidence_level) / 2, df)  # t 分布の臨界値\n",
    "    \n",
    "    # 信頼区間の範囲\n",
    "    margin_of_error = t_critical * standard_error\n",
    "    confidence_interval = (sample_mean - margin_of_error, sample_mean + margin_of_error)\n",
    "    confidence_interval_lower = sample_mean - margin_of_error\n",
    "    confidence_interval_upper = sample_mean + margin_of_error\n",
    "    if pop_mean > confidence_interval_lower and pop_mean < confidence_interval_upper:\n",
    "        include_pop_mean_flag = 1\n",
    "    else:\n",
    "        include_pop_mean_flag = 0\n",
    "    include_pop_mean_flag_list.append(include_pop_mean_flag)\n",
    "include_pop_mean_ratio = np.array(include_pop_mean_flag_list).mean()\n",
    "print(f'信頼区間が母平均を含んでいる割合: {include_pop_mean_ratio:.3f}')"
   ]
  },
  {
   "cell_type": "code",
   "execution_count": null,
   "id": "43998c71-5504-4c7b-bb2d-50c90298a968",
   "metadata": {},
   "outputs": [],
   "source": []
  }
 ],
 "metadata": {
  "kernelspec": {
   "display_name": "Python 3 (ipykernel)",
   "language": "python",
   "name": "python3"
  },
  "language_info": {
   "codemirror_mode": {
    "name": "ipython",
    "version": 3
   },
   "file_extension": ".py",
   "mimetype": "text/x-python",
   "name": "python",
   "nbconvert_exporter": "python",
   "pygments_lexer": "ipython3",
   "version": "3.9.5"
  }
 },
 "nbformat": 4,
 "nbformat_minor": 5
}
