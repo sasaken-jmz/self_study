{
 "cells": [
  {
   "cell_type": "markdown",
   "id": "67b32512-6e3a-4db4-a3ed-2b9c90d46c61",
   "metadata": {},
   "source": [
    "# 102_6.1_式理解.ipynb"
   ]
  },
  {
   "cell_type": "markdown",
   "id": "2dd5142c-ead0-4d02-a0e0-9b455bcd36be",
   "metadata": {},
   "source": [
    "ある1年間$t$~$t+11$に観測される報酬$r_{u, t:t+11}$の同時分布に関する分解を考える  \n",
    "$\n",
    "p(r_{u,t:t+11} \\mid x_u, a_{u,t-h:t+11})\n",
    "=\n",
    "p(r_{u,t} \\mid x_u, a_{u,t-h:t}) \\,\n",
    "p(r_{u,t+1:t+11} \\mid x_u, a_{u,t-h+1:t+11}, r_{u,t})\n",
    "$ - (6.9)\n",
    "\n",
    "$\n",
    "\\textcolor{red}{\n",
    "p(r_{u,t:t+11} \\mid x_u, a_{u,t-h:t+11})\n",
    "}\n",
    "=\n",
    "p(r_{u,t} \\mid x_u, a_{u,t-h:t}) \\,\n",
    "p(r_{u,t+1:t+11} \\mid x_u, a_{u,t-h+1:t+11}, r_{u,t})\n",
    "$  \n",
    "左辺:  \n",
    "ユーザの状態$x_u$と$t-h$から$t+11$までに取った行動$a_{u,t-h:t+11}$に基づく、  \n",
    "ユーザ$u$が時刻$t$から$t+11$までに得る報酬$r_{u, t:t+11}$の確率分布\n",
    "\n",
    "$\n",
    "p(r_{u,t:t+11} \\mid x_u, a_{u,t-h:t+11})\n",
    "=\n",
    "\\textcolor{red}{\n",
    "p(r_{u,t} \\mid x_u, a_{u,t-h:t}) \\,\n",
    "}\n",
    "p(r_{u,t+1:t+11} \\mid x_u, a_{u,t-h+1:t+11}, r_{u,t})\n",
    "$  \n",
    "右辺①:  \n",
    "ユーザの状態$x_u$と$t-h$から$t$までに取った行動$a_{u,t-h:t}$に基づく、  \n",
    "ユーザ$u$が時刻$t$に得る報酬$r_{u, t}$の確率分布\n",
    "\n",
    "$\n",
    "p(r_{u,t:t+11} \\mid x_u, a_{u,t-h:t+11})\n",
    "=\n",
    "p(r_{u,t} \\mid x_u, a_{u,t-h:t}) \\,\n",
    "\\textcolor{red}{\n",
    "p(r_{u,t+1:t+11} \\mid x_u, a_{u,t-h+1:t+11}, r_{u,t})\n",
    "}\n",
    "$  \n",
    "右辺②:  \n",
    "ユーザの状態$x_u$と$t-h+1$から$t+11$までに取った行動$a_{u,t-h:t}$と時刻$t$における報酬$r_{u,t}$に基づく、  \n",
    "ユーザ$u$が時刻$t$に得る報酬$r_{u, t:t+11}$の確率分布"
   ]
  },
  {
   "cell_type": "markdown",
   "id": "50db4c9d-9730-4526-aa33-c726372cc591",
   "metadata": {},
   "source": [
    "※gitだと綺麗に反映されないのでスクショ\n",
    "![代替テキスト](6.9式.png)"
   ]
  },
  {
   "cell_type": "code",
   "execution_count": null,
   "id": "bcfbdf60-a1f2-4ddc-95f7-bfc48f25aaae",
   "metadata": {},
   "outputs": [],
   "source": []
  },
  {
   "cell_type": "code",
   "execution_count": null,
   "id": "b94baec8-f1f3-45b6-b949-b468a13e66fa",
   "metadata": {},
   "outputs": [],
   "source": []
  },
  {
   "cell_type": "code",
   "execution_count": null,
   "id": "39f3ac9d-e584-4293-a20a-ff98d9eedb53",
   "metadata": {},
   "outputs": [],
   "source": []
  },
  {
   "cell_type": "code",
   "execution_count": null,
   "id": "9f59d79c-9672-4779-a6c1-923fc037c7b9",
   "metadata": {},
   "outputs": [],
   "source": []
  },
  {
   "cell_type": "code",
   "execution_count": null,
   "id": "6ca93eeb-c0de-44f6-acb6-0d9c8f4a246c",
   "metadata": {},
   "outputs": [],
   "source": []
  },
  {
   "cell_type": "code",
   "execution_count": null,
   "id": "84616038-63c4-4681-b815-fa45f20fcaff",
   "metadata": {},
   "outputs": [],
   "source": []
  },
  {
   "cell_type": "code",
   "execution_count": null,
   "id": "b254f8b4-60b9-456c-a1b6-d79c88e771c4",
   "metadata": {},
   "outputs": [],
   "source": []
  },
  {
   "cell_type": "code",
   "execution_count": null,
   "id": "e65ef908-efe6-4f26-9b1d-57640d2fd09e",
   "metadata": {},
   "outputs": [],
   "source": []
  },
  {
   "cell_type": "code",
   "execution_count": null,
   "id": "1bb5e140-3a46-4e4b-a00e-7c1a141f3a3c",
   "metadata": {},
   "outputs": [],
   "source": []
  },
  {
   "cell_type": "code",
   "execution_count": null,
   "id": "c78f9f77-e767-444b-90e1-df9fb9fcd73e",
   "metadata": {},
   "outputs": [],
   "source": []
  },
  {
   "cell_type": "code",
   "execution_count": null,
   "id": "4c9dcb8b-4233-406c-abae-ced13d285ac5",
   "metadata": {},
   "outputs": [],
   "source": []
  },
  {
   "cell_type": "code",
   "execution_count": null,
   "id": "02283c5f-2cac-4b10-bad7-8d125e48ab9d",
   "metadata": {},
   "outputs": [],
   "source": []
  },
  {
   "cell_type": "code",
   "execution_count": null,
   "id": "5fa0c4f7-6cc1-42b3-90aa-4a3d8361d95a",
   "metadata": {},
   "outputs": [],
   "source": []
  }
 ],
 "metadata": {
  "kernelspec": {
   "display_name": "Python 3 (ipykernel)",
   "language": "python",
   "name": "python3"
  },
  "language_info": {
   "codemirror_mode": {
    "name": "ipython",
    "version": 3
   },
   "file_extension": ".py",
   "mimetype": "text/x-python",
   "name": "python",
   "nbconvert_exporter": "python",
   "pygments_lexer": "ipython3",
   "version": "3.9.5"
  }
 },
 "nbformat": 4,
 "nbformat_minor": 5
}
