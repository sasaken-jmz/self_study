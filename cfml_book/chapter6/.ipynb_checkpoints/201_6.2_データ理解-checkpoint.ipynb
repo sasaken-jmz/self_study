{
 "cells": [
  {
   "cell_type": "markdown",
   "metadata": {},
   "source": [
    "# 201_6.2_データ理解.ipynb"
   ]
  },
  {
   "cell_type": "markdown",
   "metadata": {},
   "source": [
    "## 6.2 プラットフォーム全体で観測される報酬を最適化する方策学習"
   ]
  },
  {
   "cell_type": "code",
   "execution_count": 41,
   "metadata": {},
   "outputs": [],
   "source": [
    "import warnings\n",
    "warnings.filterwarnings('ignore')\n",
    "\n",
    "import torch\n",
    "import numpy as np\n",
    "import pandas as pd\n",
    "from pandas import DataFrame\n",
    "from tqdm import tqdm\n",
    "from sklearn.utils import check_random_state\n",
    "import seaborn as sns\n",
    "import matplotlib.pyplot as plt\n",
    "import japanize_matplotlib\n",
    "plt.style.use('ggplot')\n",
    "\n",
    "from dataset import generate_synthetic_data2\n",
    "from policylearners import IPSBasedGradientPolicyLearner, CateBasedGradientPolicyLearner\n",
    "from utils import softmax"
   ]
  },
  {
   "cell_type": "markdown",
   "metadata": {},
   "source": [
    "### ログデータ(トレーニングデータ)のサイズ$n$を変化させたときの方策性能の変化"
   ]
  },
  {
   "cell_type": "code",
   "execution_count": 42,
   "metadata": {},
   "outputs": [],
   "source": [
    "## シミュレーション設定\n",
    "num_runs = 50 # シミュレーションの繰り返し回数\n",
    "dim_x = 5 # 特徴量xの次元\n",
    "num_actions = 10 # 行動数, |A|\n",
    "beta = -0.1 # データ収集方策のパラメータ\n",
    "max_iter = 21 # エポック数\n",
    "test_data_size = 50000 # テストデータのサイズ\n",
    "random_state = 12345\n",
    "torch.manual_seed(random_state)\n",
    "random_ = check_random_state(random_state)\n",
    "num_actions_list = [2, 10] # 行動数\n",
    "num_data_list = [100, 500, 1000, 2000] # トレーニングデータのサイズ"
   ]
  },
  {
   "cell_type": "code",
   "execution_count": 43,
   "metadata": {},
   "outputs": [],
   "source": [
    "num_actions = num_actions_list[0]\n",
    "## 期待報酬関数を定義するためのパラメータを抽出\n",
    "theta_1 = random_.normal(size=(dim_x, num_actions))\n",
    "M_1 = random_.normal(size=(dim_x, num_actions))\n",
    "b_1 = random_.normal(size=(1, num_actions))\n",
    "theta_0 = random_.normal(size=(dim_x, num_actions))\n",
    "M_0 = random_.normal(size=(dim_x, num_actions))\n",
    "b_0 = random_.normal(size=(1, num_actions))\n",
    "## 学習された方策の真の性能を近似するためのテストデータを生成\n",
    "test_data = generate_synthetic_data2(\n",
    "    num_data=test_data_size, beta=beta,\n",
    "    theta_1=theta_1, M_1=M_1, b_1=b_1, theta_0=theta_0, M_0=M_0, b_0=b_0,\n",
    "    dim_context=dim_x, num_actions=num_actions, random_state = random_state\n",
    ")\n",
    "pi_0, q_x_a_1, q_x_a_0 = test_data[\"pi_0\"], test_data[\"q_x_a_1\"], test_data[\"q_x_a_0\"]\n",
    "pi_0_value = (pi_0 * q_x_a_1 + (1. - pi_0) * q_x_a_0).sum(1).mean()"
   ]
  },
  {
   "cell_type": "code",
   "execution_count": 44,
   "metadata": {},
   "outputs": [],
   "source": [
    "num_data = num_data_list[0]\n",
    "test_policy_value_list = []\n",
    "_ = 0\n",
    "\n",
    "## データ収集方策が形成する分布に従いログデータを生成\n",
    "offline_logged_data = generate_synthetic_data2(\n",
    "    num_data=num_data, beta=beta,\n",
    "    theta_1=theta_1, M_1=M_1, b_1=b_1, theta_0=theta_0, M_0=M_0, b_0=b_0,\n",
    "    dim_context=dim_x, num_actions=num_actions, random_state = _\n",
    ")\n",
    "\n",
    "true_value_of_learned_policies = dict()\n",
    "true_value_of_learned_policies[\"logging\"] = pi_0_value\n",
    "\n",
    "## ログデータを用いてオフ方策学習を実行する\n",
    "### 勾配ベースのアプローチ (IPS推定量で方策勾配を推定)\n",
    "ips = IPSBasedGradientPolicyLearner(\n",
    "    dim_x=dim_x, num_actions=num_actions, max_iter=max_iter, random_state=random_state + _\n",
    ")\n",
    "ips.fit(offline_logged_data, test_data)\n",
    "pi_ips = ips.predict(test_data)\n",
    "true_value_of_learned_policies[\"ips-pg\"] = (pi_ips * q_x_a_1 + (1 - pi_ips) * q_x_a_0).sum(1).mean()\n",
    "### 勾配ベースのアプローチ (新たに開発した推定量で方策勾配を推定)\n",
    "cate = CateBasedGradientPolicyLearner(\n",
    "    dim_x=dim_x, num_actions=num_actions, max_iter=max_iter, random_state=random_state + _\n",
    ")\n",
    "cate.fit(offline_logged_data, test_data)\n",
    "pi_cate = cate.predict(test_data)\n",
    "true_value_of_learned_policies[\"cate-pg\"] = (pi_cate * q_x_a_1 + (1 - pi_cate) * q_x_a_0).sum(1).mean()\n",
    "\n",
    "test_policy_value_list.append(true_value_of_learned_policies)"
   ]
  },
  {
   "cell_type": "code",
   "execution_count": 45,
   "metadata": {},
   "outputs": [
    {
     "data": {
      "text/plain": [
       "dict_keys(['num_data', 'num_actions', 'x', 'a', 'r', 'a_mat', 'r_mat', 'pi_0', 'pscore', 'pscore_mat', 'q_x_a_1', 'q_x_a_0', 'cate_x_a'])"
      ]
     },
     "execution_count": 45,
     "metadata": {},
     "output_type": "execute_result"
    }
   ],
   "source": [
    "offline_logged_data.keys()"
   ]
  },
  {
   "cell_type": "code",
   "execution_count": 46,
   "metadata": {},
   "outputs": [
    {
     "data": {
      "text/plain": [
       "array([[ 1.76405235,  0.40015721,  0.97873798,  2.2408932 ,  1.86755799],\n",
       "       [-0.97727788,  0.95008842, -0.15135721, -0.10321885,  0.4105985 ],\n",
       "       [ 0.14404357,  1.45427351,  0.76103773,  0.12167502,  0.44386323],\n",
       "       [ 0.33367433,  1.49407907, -0.20515826,  0.3130677 , -0.85409574],\n",
       "       [-2.55298982,  0.6536186 ,  0.8644362 , -0.74216502,  2.26975462]])"
      ]
     },
     "execution_count": 46,
     "metadata": {},
     "output_type": "execute_result"
    }
   ],
   "source": [
    "offline_logged_data['x'][0:5] # 100 x 5"
   ]
  },
  {
   "cell_type": "code",
   "execution_count": 47,
   "metadata": {},
   "outputs": [
    {
     "data": {
      "text/plain": [
       "array([0, 1, 1, 1, 1])"
      ]
     },
     "execution_count": 47,
     "metadata": {},
     "output_type": "execute_result"
    }
   ],
   "source": [
    "offline_logged_data['a'][0:5] # 100,"
   ]
  },
  {
   "cell_type": "code",
   "execution_count": 48,
   "metadata": {},
   "outputs": [
    {
     "data": {
      "text/plain": [
       "array([-2.7613185 , -1.92036756,  1.84077523, -0.68413718,  0.19362076])"
      ]
     },
     "execution_count": 48,
     "metadata": {},
     "output_type": "execute_result"
    }
   ],
   "source": [
    "offline_logged_data['r'][0:5] # 100,"
   ]
  },
  {
   "cell_type": "code",
   "execution_count": 49,
   "metadata": {},
   "outputs": [
    {
     "data": {
      "text/plain": [
       "array([[1, 0],\n",
       "       [0, 1],\n",
       "       [0, 1],\n",
       "       [0, 1],\n",
       "       [0, 1]])"
      ]
     },
     "execution_count": 49,
     "metadata": {},
     "output_type": "execute_result"
    }
   ],
   "source": [
    "offline_logged_data['a_mat'][0:5] # 100 x 2"
   ]
  },
  {
   "cell_type": "code",
   "execution_count": 50,
   "metadata": {},
   "outputs": [
    {
     "data": {
      "text/plain": [
       "array([[-2.7613185 ,  2.28860353],\n",
       "       [ 4.95693577, -1.92036756],\n",
       "       [-3.62091517,  1.84077523],\n",
       "       [-3.22197227, -0.68413718],\n",
       "       [-5.71492915,  0.19362076]])"
      ]
     },
     "execution_count": 50,
     "metadata": {},
     "output_type": "execute_result"
    }
   ],
   "source": [
    "offline_logged_data['r_mat'][0:5] # 100 x 2"
   ]
  },
  {
   "cell_type": "code",
   "execution_count": 51,
   "metadata": {},
   "outputs": [
    {
     "data": {
      "text/plain": [
       "array([[0.58288913, 0.41711087],\n",
       "       [0.52160426, 0.47839574],\n",
       "       [0.47015381, 0.52984619],\n",
       "       [0.48640359, 0.51359641],\n",
       "       [0.12279695, 0.87720305]])"
      ]
     },
     "execution_count": 51,
     "metadata": {},
     "output_type": "execute_result"
    }
   ],
   "source": [
    "offline_logged_data['pi_0'][0:5] # 100 x 2"
   ]
  },
  {
   "cell_type": "code",
   "execution_count": 52,
   "metadata": {},
   "outputs": [
    {
     "data": {
      "text/plain": [
       "array([0.58288913, 0.47839574, 0.52984619, 0.51359641, 0.87720305])"
      ]
     },
     "execution_count": 52,
     "metadata": {},
     "output_type": "execute_result"
    }
   ],
   "source": [
    "offline_logged_data['pscore'][0:5] # 100,"
   ]
  },
  {
   "cell_type": "code",
   "execution_count": 53,
   "metadata": {},
   "outputs": [
    {
     "data": {
      "text/plain": [
       "array([[0.58288913, 0.58288913],\n",
       "       [0.47839574, 0.47839574],\n",
       "       [0.52984619, 0.52984619],\n",
       "       [0.51359641, 0.51359641],\n",
       "       [0.87720305, 0.87720305]])"
      ]
     },
     "execution_count": 53,
     "metadata": {},
     "output_type": "execute_result"
    }
   ],
   "source": [
    "offline_logged_data['pscore_mat'][0:5] # 100 x 2"
   ]
  },
  {
   "cell_type": "code",
   "execution_count": 54,
   "metadata": {},
   "outputs": [
    {
     "data": {
      "text/plain": [
       "array([[ -3.14405093, -10.9758933 ],\n",
       "       [  1.30503785,  -1.68615175],\n",
       "       [ -0.23186256,   2.42204371],\n",
       "       [ -0.32851033,   0.88363055],\n",
       "       [  6.37831465,  -1.10780731]])"
      ]
     },
     "execution_count": 54,
     "metadata": {},
     "output_type": "execute_result"
    }
   ],
   "source": [
    "offline_logged_data['q_x_a_1'][0:5] # 100 x 2"
   ]
  },
  {
   "cell_type": "code",
   "execution_count": 55,
   "metadata": {},
   "outputs": [
    {
     "data": {
      "text/plain": [
       "array([[ 1.35011374e+01,  2.32284581e+00],\n",
       "       [ 3.86058892e+00,  4.69063050e-03],\n",
       "       [-3.27346452e+00,  5.75710223e-01],\n",
       "       [-1.58933775e+00,  1.66793683e-01],\n",
       "       [-4.53577122e+00,  7.64016963e+00]])"
      ]
     },
     "execution_count": 55,
     "metadata": {},
     "output_type": "execute_result"
    }
   ],
   "source": [
    "offline_logged_data['q_x_a_0'][0:5] # 100 x 2"
   ]
  },
  {
   "cell_type": "code",
   "execution_count": 56,
   "metadata": {},
   "outputs": [
    {
     "data": {
      "text/plain": [
       "array([[-16.64518835, -13.29873911],\n",
       "       [ -2.55555107,  -1.69084238],\n",
       "       [  3.04160196,   1.84633348],\n",
       "       [  1.26082741,   0.71683686],\n",
       "       [ 10.91408587,  -8.74797694]])"
      ]
     },
     "execution_count": 56,
     "metadata": {},
     "output_type": "execute_result"
    }
   ],
   "source": [
    "offline_logged_data['cate_x_a'][0:5] # 100 x 2"
   ]
  },
  {
   "cell_type": "code",
   "execution_count": null,
   "metadata": {},
   "outputs": [],
   "source": []
  },
  {
   "cell_type": "markdown",
   "metadata": {},
   "source": []
  },
  {
   "cell_type": "code",
   "execution_count": null,
   "metadata": {},
   "outputs": [],
   "source": []
  }
 ],
 "metadata": {
  "kernelspec": {
   "display_name": "Python 3 (ipykernel)",
   "language": "python",
   "name": "python3"
  },
  "language_info": {
   "codemirror_mode": {
    "name": "ipython",
    "version": 3
   },
   "file_extension": ".py",
   "mimetype": "text/x-python",
   "name": "python",
   "nbconvert_exporter": "python",
   "pygments_lexer": "ipython3",
   "version": "3.9.5"
  }
 },
 "nbformat": 4,
 "nbformat_minor": 4
}
