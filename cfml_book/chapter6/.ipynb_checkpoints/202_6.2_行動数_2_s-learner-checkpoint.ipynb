{
 "cells": [
  {
   "cell_type": "markdown",
   "metadata": {},
   "source": [
    "# 202_6.2_行動数_2_s-learner.ipynb"
   ]
  },
  {
   "cell_type": "markdown",
   "metadata": {},
   "source": [
    "## 6.2 プラットフォーム全体で観測される報酬を最適化する方策学習"
   ]
  },
  {
   "cell_type": "code",
   "execution_count": 1,
   "metadata": {},
   "outputs": [],
   "source": [
    "import warnings\n",
    "warnings.filterwarnings('ignore')\n",
    "\n",
    "import torch\n",
    "import numpy as np\n",
    "import pandas as pd\n",
    "from pandas import DataFrame\n",
    "from tqdm import tqdm\n",
    "from sklearn.utils import check_random_state\n",
    "import seaborn as sns\n",
    "import matplotlib.pyplot as plt\n",
    "import japanize_matplotlib\n",
    "plt.style.use('ggplot')\n",
    "\n",
    "from dataset import generate_synthetic_data2\n",
    "from policylearners import IPSBasedGradientPolicyLearner, CateBasedGradientPolicyLearner\n",
    "from utils import softmax\n",
    "\n",
    "import math\n",
    "from sklearn.linear_model import LogisticRegression\n",
    "import lightgbm as lgb\n",
    "from sklearn.ensemble import HistGradientBoostingClassifier\n",
    "from sklearn.ensemble import RandomForestClassifier\n",
    "from sklearn.model_selection import GridSearchCV\n",
    "from lightgbm import LGBMClassifier\n",
    "from catboost import CatBoostClassifier\n",
    "from sklearn.svm import SVC\n",
    "from sklearn.ensemble import RandomForestRegressor\n",
    "from scipy.stats import rankdata\n",
    "from sklearn.linear_model import LinearRegression\n",
    "import xgboost as xgb\n",
    "from xgboost import XGBRegressor"
   ]
  },
  {
   "cell_type": "markdown",
   "metadata": {},
   "source": [
    "### ログデータ(トレーニングデータ)のサイズ$n$を変化させたときの方策性能の変化"
   ]
  },
  {
   "cell_type": "code",
   "execution_count": 2,
   "metadata": {},
   "outputs": [],
   "source": [
    "## シミュレーション設定\n",
    "num_runs = 50 # シミュレーションの繰り返し回数\n",
    "dim_x = 5 # 特徴量xの次元\n",
    "num_actions = 10 # 行動数, |A|\n",
    "beta = -0.1 # データ収集方策のパラメータ\n",
    "max_iter = 21 # エポック数\n",
    "test_data_size = 50000 # テストデータのサイズ\n",
    "random_state = 12345\n",
    "torch.manual_seed(random_state)\n",
    "random_ = check_random_state(random_state)\n",
    "num_actions_list = [2, 10] # 行動数\n",
    "num_data_list = [100, 500, 1000, 2000] # トレーニングデータのサイズ"
   ]
  },
  {
   "cell_type": "code",
   "execution_count": 3,
   "metadata": {},
   "outputs": [],
   "source": [
    "num_actions = num_actions_list[0]\n",
    "## 期待報酬関数を定義するためのパラメータを抽出\n",
    "theta_1 = random_.normal(size=(dim_x, num_actions))\n",
    "M_1 = random_.normal(size=(dim_x, num_actions))\n",
    "b_1 = random_.normal(size=(1, num_actions))\n",
    "theta_0 = random_.normal(size=(dim_x, num_actions))\n",
    "M_0 = random_.normal(size=(dim_x, num_actions))\n",
    "b_0 = random_.normal(size=(1, num_actions))\n",
    "## 学習された方策の真の性能を近似するためのテストデータを生成\n",
    "test_data = generate_synthetic_data2(\n",
    "    num_data=test_data_size, beta=beta,\n",
    "    theta_1=theta_1, M_1=M_1, b_1=b_1, theta_0=theta_0, M_0=M_0, b_0=b_0,\n",
    "    dim_context=dim_x, num_actions=num_actions, random_state = random_state\n",
    ")\n",
    "pi_0, q_x_a_1, q_x_a_0 = test_data[\"pi_0\"], test_data[\"q_x_a_1\"], test_data[\"q_x_a_0\"]\n",
    "pi_0_value = (pi_0 * q_x_a_1 + (1. - pi_0) * q_x_a_0).sum(1).mean()"
   ]
  },
  {
   "cell_type": "code",
   "execution_count": 4,
   "metadata": {},
   "outputs": [],
   "source": [
    "num_data = num_data_list[3]\n",
    "test_policy_value_list = []\n",
    "_ = 0\n",
    "\n",
    "## データ収集方策が形成する分布に従いログデータを生成\n",
    "offline_logged_data = generate_synthetic_data2(\n",
    "    num_data=num_data, beta=beta,\n",
    "    theta_1=theta_1, M_1=M_1, b_1=b_1, theta_0=theta_0, M_0=M_0, b_0=b_0,\n",
    "    dim_context=dim_x, num_actions=num_actions, random_state = _\n",
    ")\n",
    "\n",
    "true_value_of_learned_policies = dict()\n",
    "true_value_of_learned_policies[\"logging\"] = pi_0_value\n",
    "\n",
    "## ログデータを用いてオフ方策学習を実行する\n",
    "### 勾配ベースのアプローチ (IPS推定量で方策勾配を推定)\n",
    "ips = IPSBasedGradientPolicyLearner(\n",
    "    dim_x=dim_x, num_actions=num_actions, max_iter=max_iter, random_state=random_state + _\n",
    ")\n",
    "ips.fit(offline_logged_data, test_data)\n",
    "pi_ips = ips.predict(test_data)\n",
    "true_value_of_learned_policies[\"ips-pg\"] = (pi_ips * q_x_a_1 + (1 - pi_ips) * q_x_a_0).sum(1).mean()\n",
    "ips_pg = (pi_ips * q_x_a_1 + (1 - pi_ips) * q_x_a_0).sum(1).mean()\n",
    "### 勾配ベースのアプローチ (新たに開発した推定量で方策勾配を推定)\n",
    "cate = CateBasedGradientPolicyLearner(\n",
    "    dim_x=dim_x, num_actions=num_actions, max_iter=max_iter, random_state=random_state + _\n",
    ")\n",
    "cate.fit(offline_logged_data, test_data)\n",
    "pi_cate = cate.predict(test_data)\n",
    "true_value_of_learned_policies[\"cate-pg\"] = (pi_cate * q_x_a_1 + (1 - pi_cate) * q_x_a_0).sum(1).mean()\n",
    "cate_pg = (pi_cate * q_x_a_1 + (1 - pi_cate) * q_x_a_0).sum(1).mean()\n",
    "\n",
    "test_policy_value_list.append(true_value_of_learned_policies)"
   ]
  },
  {
   "cell_type": "markdown",
   "metadata": {},
   "source": [
    "## 各方策・報酬期待値理解\n",
    "### 旧方策"
   ]
  },
  {
   "cell_type": "code",
   "execution_count": 5,
   "metadata": {},
   "outputs": [
    {
     "name": "stdout",
     "output_type": "stream",
     "text": [
      "旧方策報酬: 0.487\n"
     ]
    }
   ],
   "source": [
    "print(f'旧方策報酬: {pi_0_value:.3f}')"
   ]
  },
  {
   "cell_type": "markdown",
   "metadata": {},
   "source": [
    "### IPS(勾配)"
   ]
  },
  {
   "cell_type": "code",
   "execution_count": 6,
   "metadata": {},
   "outputs": [
    {
     "name": "stdout",
     "output_type": "stream",
     "text": [
      "IPS(勾配)による方策報酬: 0.163\n"
     ]
    }
   ],
   "source": [
    "print(f'IPS(勾配)による方策報酬: {ips_pg:.3f}')"
   ]
  },
  {
   "cell_type": "markdown",
   "metadata": {},
   "source": [
    "### Newによる方策報酬"
   ]
  },
  {
   "cell_type": "code",
   "execution_count": 7,
   "metadata": {},
   "outputs": [
    {
     "name": "stdout",
     "output_type": "stream",
     "text": [
      "Newによる方策報酬: 3.135\n"
     ]
    }
   ],
   "source": [
    "print(f'Newによる方策報酬: {cate_pg:.3f}')"
   ]
  },
  {
   "cell_type": "markdown",
   "metadata": {},
   "source": [
    "## ここから佐々木の方で方策学習を行い、それによる報酬期待値を得る\n",
    "### ちなみにランダムで推薦アイテムを決めた場合の期待報酬を計算してみる"
   ]
  },
  {
   "cell_type": "code",
   "execution_count": 8,
   "metadata": {},
   "outputs": [
    {
     "name": "stdout",
     "output_type": "stream",
     "text": [
      "ランダム割り当てによる方策報酬: 1.287\n"
     ]
    }
   ],
   "source": [
    "pi_random = np.full((50000, num_actions), 1/num_actions)\n",
    "radom_pg = (pi_random * q_x_a_1 + (1 - pi_random) * q_x_a_0).sum(1).mean()\n",
    "print(f'ランダム割り当てによる方策報酬: {radom_pg:.3f}')"
   ]
  },
  {
   "cell_type": "markdown",
   "metadata": {},
   "source": [
    "(まさかのIPS以上New未満...)"
   ]
  },
  {
   "cell_type": "markdown",
   "metadata": {},
   "source": [
    "### s-learnerでやってみる"
   ]
  },
  {
   "cell_type": "code",
   "execution_count": 9,
   "metadata": {},
   "outputs": [
    {
     "data": {
      "text/html": [
       "<div>\n",
       "<style scoped>\n",
       "    .dataframe tbody tr th:only-of-type {\n",
       "        vertical-align: middle;\n",
       "    }\n",
       "\n",
       "    .dataframe tbody tr th {\n",
       "        vertical-align: top;\n",
       "    }\n",
       "\n",
       "    .dataframe thead th {\n",
       "        text-align: right;\n",
       "    }\n",
       "</style>\n",
       "<table border=\"1\" class=\"dataframe\">\n",
       "  <thead>\n",
       "    <tr style=\"text-align: right;\">\n",
       "      <th></th>\n",
       "      <th>x_0</th>\n",
       "      <th>x_1</th>\n",
       "      <th>x_2</th>\n",
       "      <th>x_3</th>\n",
       "      <th>x_4</th>\n",
       "      <th>a</th>\n",
       "      <th>r</th>\n",
       "    </tr>\n",
       "  </thead>\n",
       "  <tbody>\n",
       "    <tr>\n",
       "      <th>0</th>\n",
       "      <td>1.764052</td>\n",
       "      <td>0.400157</td>\n",
       "      <td>0.978738</td>\n",
       "      <td>2.240893</td>\n",
       "      <td>1.867558</td>\n",
       "      <td>0.0</td>\n",
       "      <td>-3.346168</td>\n",
       "    </tr>\n",
       "    <tr>\n",
       "      <th>1</th>\n",
       "      <td>-0.977278</td>\n",
       "      <td>0.950088</td>\n",
       "      <td>-0.151357</td>\n",
       "      <td>-0.103219</td>\n",
       "      <td>0.410599</td>\n",
       "      <td>1.0</td>\n",
       "      <td>-1.495503</td>\n",
       "    </tr>\n",
       "    <tr>\n",
       "      <th>2</th>\n",
       "      <td>0.144044</td>\n",
       "      <td>1.454274</td>\n",
       "      <td>0.761038</td>\n",
       "      <td>0.121675</td>\n",
       "      <td>0.443863</td>\n",
       "      <td>1.0</td>\n",
       "      <td>1.337019</td>\n",
       "    </tr>\n",
       "    <tr>\n",
       "      <th>3</th>\n",
       "      <td>0.333674</td>\n",
       "      <td>1.494079</td>\n",
       "      <td>-0.205158</td>\n",
       "      <td>0.313068</td>\n",
       "      <td>-0.854096</td>\n",
       "      <td>1.0</td>\n",
       "      <td>2.315102</td>\n",
       "    </tr>\n",
       "    <tr>\n",
       "      <th>4</th>\n",
       "      <td>-2.552990</td>\n",
       "      <td>0.653619</td>\n",
       "      <td>0.864436</td>\n",
       "      <td>-0.742165</td>\n",
       "      <td>2.269755</td>\n",
       "      <td>1.0</td>\n",
       "      <td>-1.731061</td>\n",
       "    </tr>\n",
       "    <tr>\n",
       "      <th>...</th>\n",
       "      <td>...</td>\n",
       "      <td>...</td>\n",
       "      <td>...</td>\n",
       "      <td>...</td>\n",
       "      <td>...</td>\n",
       "      <td>...</td>\n",
       "      <td>...</td>\n",
       "    </tr>\n",
       "    <tr>\n",
       "      <th>1995</th>\n",
       "      <td>0.224821</td>\n",
       "      <td>-1.038472</td>\n",
       "      <td>0.771819</td>\n",
       "      <td>-0.480009</td>\n",
       "      <td>1.834745</td>\n",
       "      <td>1.0</td>\n",
       "      <td>0.324212</td>\n",
       "    </tr>\n",
       "    <tr>\n",
       "      <th>1996</th>\n",
       "      <td>-0.108765</td>\n",
       "      <td>0.454475</td>\n",
       "      <td>0.098709</td>\n",
       "      <td>-0.458305</td>\n",
       "      <td>-0.857044</td>\n",
       "      <td>1.0</td>\n",
       "      <td>-3.360536</td>\n",
       "    </tr>\n",
       "    <tr>\n",
       "      <th>1997</th>\n",
       "      <td>-0.774403</td>\n",
       "      <td>0.708787</td>\n",
       "      <td>0.018474</td>\n",
       "      <td>-0.104081</td>\n",
       "      <td>-0.234858</td>\n",
       "      <td>0.0</td>\n",
       "      <td>1.004499</td>\n",
       "    </tr>\n",
       "    <tr>\n",
       "      <th>1998</th>\n",
       "      <td>-0.250906</td>\n",
       "      <td>-0.962750</td>\n",
       "      <td>0.493405</td>\n",
       "      <td>2.133050</td>\n",
       "      <td>0.983888</td>\n",
       "      <td>1.0</td>\n",
       "      <td>-2.053208</td>\n",
       "    </tr>\n",
       "    <tr>\n",
       "      <th>1999</th>\n",
       "      <td>-1.809282</td>\n",
       "      <td>0.042359</td>\n",
       "      <td>0.516872</td>\n",
       "      <td>-0.032921</td>\n",
       "      <td>1.298111</td>\n",
       "      <td>1.0</td>\n",
       "      <td>-0.486529</td>\n",
       "    </tr>\n",
       "  </tbody>\n",
       "</table>\n",
       "<p>2000 rows × 7 columns</p>\n",
       "</div>"
      ],
      "text/plain": [
       "           x_0       x_1       x_2       x_3       x_4    a         r\n",
       "0     1.764052  0.400157  0.978738  2.240893  1.867558  0.0 -3.346168\n",
       "1    -0.977278  0.950088 -0.151357 -0.103219  0.410599  1.0 -1.495503\n",
       "2     0.144044  1.454274  0.761038  0.121675  0.443863  1.0  1.337019\n",
       "3     0.333674  1.494079 -0.205158  0.313068 -0.854096  1.0  2.315102\n",
       "4    -2.552990  0.653619  0.864436 -0.742165  2.269755  1.0 -1.731061\n",
       "...        ...       ...       ...       ...       ...  ...       ...\n",
       "1995  0.224821 -1.038472  0.771819 -0.480009  1.834745  1.0  0.324212\n",
       "1996 -0.108765  0.454475  0.098709 -0.458305 -0.857044  1.0 -3.360536\n",
       "1997 -0.774403  0.708787  0.018474 -0.104081 -0.234858  0.0  1.004499\n",
       "1998 -0.250906 -0.962750  0.493405  2.133050  0.983888  1.0 -2.053208\n",
       "1999 -1.809282  0.042359  0.516872 -0.032921  1.298111  1.0 -0.486529\n",
       "\n",
       "[2000 rows x 7 columns]"
      ]
     },
     "execution_count": 9,
     "metadata": {},
     "output_type": "execute_result"
    }
   ],
   "source": [
    "# データ整形: 観測される情報のみを持つDataFrameを生成する\n",
    "x = offline_logged_data['x']\n",
    "a = offline_logged_data['a']\n",
    "r = offline_logged_data['r']\n",
    "combined = np.hstack([x, a.reshape(-1, 1), r.reshape(-1, 1)])\n",
    "\n",
    "# データフレームに変換\n",
    "df = pd.DataFrame(combined, columns=[\n",
    "    'x_0',\n",
    "    'x_1',\n",
    "    'x_2',\n",
    "    'x_3',\n",
    "    'x_4',\n",
    "    'a',\n",
    "    'r'\n",
    "])\n",
    "df"
   ]
  },
  {
   "cell_type": "code",
   "execution_count": 10,
   "metadata": {},
   "outputs": [
    {
     "data": {
      "text/html": [
       "<style>#sk-container-id-1 {color: black;background-color: white;}#sk-container-id-1 pre{padding: 0;}#sk-container-id-1 div.sk-toggleable {background-color: white;}#sk-container-id-1 label.sk-toggleable__label {cursor: pointer;display: block;width: 100%;margin-bottom: 0;padding: 0.3em;box-sizing: border-box;text-align: center;}#sk-container-id-1 label.sk-toggleable__label-arrow:before {content: \"▸\";float: left;margin-right: 0.25em;color: #696969;}#sk-container-id-1 label.sk-toggleable__label-arrow:hover:before {color: black;}#sk-container-id-1 div.sk-estimator:hover label.sk-toggleable__label-arrow:before {color: black;}#sk-container-id-1 div.sk-toggleable__content {max-height: 0;max-width: 0;overflow: hidden;text-align: left;background-color: #f0f8ff;}#sk-container-id-1 div.sk-toggleable__content pre {margin: 0.2em;color: black;border-radius: 0.25em;background-color: #f0f8ff;}#sk-container-id-1 input.sk-toggleable__control:checked~div.sk-toggleable__content {max-height: 200px;max-width: 100%;overflow: auto;}#sk-container-id-1 input.sk-toggleable__control:checked~label.sk-toggleable__label-arrow:before {content: \"▾\";}#sk-container-id-1 div.sk-estimator input.sk-toggleable__control:checked~label.sk-toggleable__label {background-color: #d4ebff;}#sk-container-id-1 div.sk-label input.sk-toggleable__control:checked~label.sk-toggleable__label {background-color: #d4ebff;}#sk-container-id-1 input.sk-hidden--visually {border: 0;clip: rect(1px 1px 1px 1px);clip: rect(1px, 1px, 1px, 1px);height: 1px;margin: -1px;overflow: hidden;padding: 0;position: absolute;width: 1px;}#sk-container-id-1 div.sk-estimator {font-family: monospace;background-color: #f0f8ff;border: 1px dotted black;border-radius: 0.25em;box-sizing: border-box;margin-bottom: 0.5em;}#sk-container-id-1 div.sk-estimator:hover {background-color: #d4ebff;}#sk-container-id-1 div.sk-parallel-item::after {content: \"\";width: 100%;border-bottom: 1px solid gray;flex-grow: 1;}#sk-container-id-1 div.sk-label:hover label.sk-toggleable__label {background-color: #d4ebff;}#sk-container-id-1 div.sk-serial::before {content: \"\";position: absolute;border-left: 1px solid gray;box-sizing: border-box;top: 0;bottom: 0;left: 50%;z-index: 0;}#sk-container-id-1 div.sk-serial {display: flex;flex-direction: column;align-items: center;background-color: white;padding-right: 0.2em;padding-left: 0.2em;position: relative;}#sk-container-id-1 div.sk-item {position: relative;z-index: 1;}#sk-container-id-1 div.sk-parallel {display: flex;align-items: stretch;justify-content: center;background-color: white;position: relative;}#sk-container-id-1 div.sk-item::before, #sk-container-id-1 div.sk-parallel-item::before {content: \"\";position: absolute;border-left: 1px solid gray;box-sizing: border-box;top: 0;bottom: 0;left: 50%;z-index: -1;}#sk-container-id-1 div.sk-parallel-item {display: flex;flex-direction: column;z-index: 1;position: relative;background-color: white;}#sk-container-id-1 div.sk-parallel-item:first-child::after {align-self: flex-end;width: 50%;}#sk-container-id-1 div.sk-parallel-item:last-child::after {align-self: flex-start;width: 50%;}#sk-container-id-1 div.sk-parallel-item:only-child::after {width: 0;}#sk-container-id-1 div.sk-dashed-wrapped {border: 1px dashed gray;margin: 0 0.4em 0.5em 0.4em;box-sizing: border-box;padding-bottom: 0.4em;background-color: white;}#sk-container-id-1 div.sk-label label {font-family: monospace;font-weight: bold;display: inline-block;line-height: 1.2em;}#sk-container-id-1 div.sk-label-container {text-align: center;}#sk-container-id-1 div.sk-container {/* jupyter's `normalize.less` sets `[hidden] { display: none; }` but bootstrap.min.css set `[hidden] { display: none !important; }` so we also need the `!important` here to be able to override the default hidden behavior on the sphinx rendered scikit-learn.org. See: https://github.com/scikit-learn/scikit-learn/issues/21755 */display: inline-block !important;position: relative;}#sk-container-id-1 div.sk-text-repr-fallback {display: none;}</style><div id=\"sk-container-id-1\" class=\"sk-top-container\"><div class=\"sk-text-repr-fallback\"><pre>RandomForestRegressor(random_state=42)</pre><b>In a Jupyter environment, please rerun this cell to show the HTML representation or trust the notebook. <br />On GitHub, the HTML representation is unable to render, please try loading this page with nbviewer.org.</b></div><div class=\"sk-container\" hidden><div class=\"sk-item\"><div class=\"sk-estimator sk-toggleable\"><input class=\"sk-toggleable__control sk-hidden--visually\" id=\"sk-estimator-id-1\" type=\"checkbox\" checked><label for=\"sk-estimator-id-1\" class=\"sk-toggleable__label sk-toggleable__label-arrow\">RandomForestRegressor</label><div class=\"sk-toggleable__content\"><pre>RandomForestRegressor(random_state=42)</pre></div></div></div></div></div>"
      ],
      "text/plain": [
       "RandomForestRegressor(random_state=42)"
      ]
     },
     "execution_count": 10,
     "metadata": {},
     "output_type": "execute_result"
    }
   ],
   "source": [
    "# 説明変数: x0〜x4 + a（処置変数）\n",
    "feature_cols = ['x_0', 'x_1', 'x_2', 'x_3', 'x_4', 'a']\n",
    "X = df[feature_cols]\n",
    "y = df['r']  # 目的変数\n",
    "\n",
    "# 学習\n",
    "model = RandomForestRegressor(random_state=42)\n",
    "model.fit(X, y)"
   ]
  },
  {
   "cell_type": "code",
   "execution_count": 11,
   "metadata": {},
   "outputs": [
    {
     "data": {
      "text/html": [
       "<div>\n",
       "<style scoped>\n",
       "    .dataframe tbody tr th:only-of-type {\n",
       "        vertical-align: middle;\n",
       "    }\n",
       "\n",
       "    .dataframe tbody tr th {\n",
       "        vertical-align: top;\n",
       "    }\n",
       "\n",
       "    .dataframe thead th {\n",
       "        text-align: right;\n",
       "    }\n",
       "</style>\n",
       "<table border=\"1\" class=\"dataframe\">\n",
       "  <thead>\n",
       "    <tr style=\"text-align: right;\">\n",
       "      <th></th>\n",
       "      <th>x_0</th>\n",
       "      <th>x_1</th>\n",
       "      <th>x_2</th>\n",
       "      <th>x_3</th>\n",
       "      <th>x_4</th>\n",
       "      <th>a</th>\n",
       "    </tr>\n",
       "  </thead>\n",
       "  <tbody>\n",
       "    <tr>\n",
       "      <th>0</th>\n",
       "      <td>-0.204708</td>\n",
       "      <td>0.478943</td>\n",
       "      <td>-0.519439</td>\n",
       "      <td>-0.555730</td>\n",
       "      <td>1.965781</td>\n",
       "      <td>0</td>\n",
       "    </tr>\n",
       "    <tr>\n",
       "      <th>1</th>\n",
       "      <td>1.393406</td>\n",
       "      <td>0.092908</td>\n",
       "      <td>0.281746</td>\n",
       "      <td>0.769023</td>\n",
       "      <td>1.246435</td>\n",
       "      <td>0</td>\n",
       "    </tr>\n",
       "    <tr>\n",
       "      <th>2</th>\n",
       "      <td>1.007189</td>\n",
       "      <td>-1.296221</td>\n",
       "      <td>0.274992</td>\n",
       "      <td>0.228913</td>\n",
       "      <td>1.352917</td>\n",
       "      <td>0</td>\n",
       "    </tr>\n",
       "    <tr>\n",
       "      <th>3</th>\n",
       "      <td>0.886429</td>\n",
       "      <td>-2.001637</td>\n",
       "      <td>-0.371843</td>\n",
       "      <td>1.669025</td>\n",
       "      <td>-0.438570</td>\n",
       "      <td>0</td>\n",
       "    </tr>\n",
       "    <tr>\n",
       "      <th>4</th>\n",
       "      <td>-0.539741</td>\n",
       "      <td>0.476985</td>\n",
       "      <td>3.248944</td>\n",
       "      <td>-1.021228</td>\n",
       "      <td>-0.577087</td>\n",
       "      <td>0</td>\n",
       "    </tr>\n",
       "  </tbody>\n",
       "</table>\n",
       "</div>"
      ],
      "text/plain": [
       "        x_0       x_1       x_2       x_3       x_4  a\n",
       "0 -0.204708  0.478943 -0.519439 -0.555730  1.965781  0\n",
       "1  1.393406  0.092908  0.281746  0.769023  1.246435  0\n",
       "2  1.007189 -1.296221  0.274992  0.228913  1.352917  0\n",
       "3  0.886429 -2.001637 -0.371843  1.669025 -0.438570  0\n",
       "4 -0.539741  0.476985  3.248944 -1.021228 -0.577087  0"
      ]
     },
     "metadata": {},
     "output_type": "display_data"
    },
    {
     "data": {
      "text/html": [
       "<div>\n",
       "<style scoped>\n",
       "    .dataframe tbody tr th:only-of-type {\n",
       "        vertical-align: middle;\n",
       "    }\n",
       "\n",
       "    .dataframe tbody tr th {\n",
       "        vertical-align: top;\n",
       "    }\n",
       "\n",
       "    .dataframe thead th {\n",
       "        text-align: right;\n",
       "    }\n",
       "</style>\n",
       "<table border=\"1\" class=\"dataframe\">\n",
       "  <thead>\n",
       "    <tr style=\"text-align: right;\">\n",
       "      <th></th>\n",
       "      <th>x_0</th>\n",
       "      <th>x_1</th>\n",
       "      <th>x_2</th>\n",
       "      <th>x_3</th>\n",
       "      <th>x_4</th>\n",
       "      <th>a</th>\n",
       "    </tr>\n",
       "  </thead>\n",
       "  <tbody>\n",
       "    <tr>\n",
       "      <th>0</th>\n",
       "      <td>-0.204708</td>\n",
       "      <td>0.478943</td>\n",
       "      <td>-0.519439</td>\n",
       "      <td>-0.555730</td>\n",
       "      <td>1.965781</td>\n",
       "      <td>1</td>\n",
       "    </tr>\n",
       "    <tr>\n",
       "      <th>1</th>\n",
       "      <td>1.393406</td>\n",
       "      <td>0.092908</td>\n",
       "      <td>0.281746</td>\n",
       "      <td>0.769023</td>\n",
       "      <td>1.246435</td>\n",
       "      <td>1</td>\n",
       "    </tr>\n",
       "    <tr>\n",
       "      <th>2</th>\n",
       "      <td>1.007189</td>\n",
       "      <td>-1.296221</td>\n",
       "      <td>0.274992</td>\n",
       "      <td>0.228913</td>\n",
       "      <td>1.352917</td>\n",
       "      <td>1</td>\n",
       "    </tr>\n",
       "    <tr>\n",
       "      <th>3</th>\n",
       "      <td>0.886429</td>\n",
       "      <td>-2.001637</td>\n",
       "      <td>-0.371843</td>\n",
       "      <td>1.669025</td>\n",
       "      <td>-0.438570</td>\n",
       "      <td>1</td>\n",
       "    </tr>\n",
       "    <tr>\n",
       "      <th>4</th>\n",
       "      <td>-0.539741</td>\n",
       "      <td>0.476985</td>\n",
       "      <td>3.248944</td>\n",
       "      <td>-1.021228</td>\n",
       "      <td>-0.577087</td>\n",
       "      <td>1</td>\n",
       "    </tr>\n",
       "  </tbody>\n",
       "</table>\n",
       "</div>"
      ],
      "text/plain": [
       "        x_0       x_1       x_2       x_3       x_4  a\n",
       "0 -0.204708  0.478943 -0.519439 -0.555730  1.965781  1\n",
       "1  1.393406  0.092908  0.281746  0.769023  1.246435  1\n",
       "2  1.007189 -1.296221  0.274992  0.228913  1.352917  1\n",
       "3  0.886429 -2.001637 -0.371843  1.669025 -0.438570  1\n",
       "4 -0.539741  0.476985  3.248944 -1.021228 -0.577087  1"
      ]
     },
     "metadata": {},
     "output_type": "display_data"
    }
   ],
   "source": [
    "# testデータをデータフレームに変換\n",
    "test_data_df = pd.DataFrame(test_data['x'], columns=[\n",
    "    'x_0',\n",
    "    'x_1',\n",
    "    'x_2',\n",
    "    'x_3',\n",
    "    'x_4',\n",
    "])\n",
    "test_data_df_list = []\n",
    "for a in range(num_actions):\n",
    "    tmp_test_data_df = test_data_df.copy()\n",
    "    tmp_test_data_df['a'] = a\n",
    "    test_data_df_list.append(tmp_test_data_df)\n",
    "display(test_data_df_list[0].head())\n",
    "display(test_data_df_list[1].head())"
   ]
  },
  {
   "cell_type": "code",
   "execution_count": 12,
   "metadata": {},
   "outputs": [
    {
     "data": {
      "text/html": [
       "<div>\n",
       "<style scoped>\n",
       "    .dataframe tbody tr th:only-of-type {\n",
       "        vertical-align: middle;\n",
       "    }\n",
       "\n",
       "    .dataframe tbody tr th {\n",
       "        vertical-align: top;\n",
       "    }\n",
       "\n",
       "    .dataframe thead th {\n",
       "        text-align: right;\n",
       "    }\n",
       "</style>\n",
       "<table border=\"1\" class=\"dataframe\">\n",
       "  <thead>\n",
       "    <tr style=\"text-align: right;\">\n",
       "      <th></th>\n",
       "      <th>x_0</th>\n",
       "      <th>x_1</th>\n",
       "      <th>x_2</th>\n",
       "      <th>x_3</th>\n",
       "      <th>x_4</th>\n",
       "      <th>r_hat_0</th>\n",
       "      <th>r_hat_1</th>\n",
       "      <th>uplift_r_hat</th>\n",
       "    </tr>\n",
       "  </thead>\n",
       "  <tbody>\n",
       "    <tr>\n",
       "      <th>0</th>\n",
       "      <td>-0.204708</td>\n",
       "      <td>0.478943</td>\n",
       "      <td>-0.519439</td>\n",
       "      <td>-0.555730</td>\n",
       "      <td>1.965781</td>\n",
       "      <td>5.679499</td>\n",
       "      <td>-1.943560</td>\n",
       "      <td>-7.623059</td>\n",
       "    </tr>\n",
       "    <tr>\n",
       "      <th>1</th>\n",
       "      <td>1.393406</td>\n",
       "      <td>0.092908</td>\n",
       "      <td>0.281746</td>\n",
       "      <td>0.769023</td>\n",
       "      <td>1.246435</td>\n",
       "      <td>2.853402</td>\n",
       "      <td>-3.100100</td>\n",
       "      <td>-5.953502</td>\n",
       "    </tr>\n",
       "    <tr>\n",
       "      <th>2</th>\n",
       "      <td>1.007189</td>\n",
       "      <td>-1.296221</td>\n",
       "      <td>0.274992</td>\n",
       "      <td>0.228913</td>\n",
       "      <td>1.352917</td>\n",
       "      <td>2.722208</td>\n",
       "      <td>0.406896</td>\n",
       "      <td>-2.315312</td>\n",
       "    </tr>\n",
       "    <tr>\n",
       "      <th>3</th>\n",
       "      <td>0.886429</td>\n",
       "      <td>-2.001637</td>\n",
       "      <td>-0.371843</td>\n",
       "      <td>1.669025</td>\n",
       "      <td>-0.438570</td>\n",
       "      <td>-3.893530</td>\n",
       "      <td>-2.112685</td>\n",
       "      <td>1.780844</td>\n",
       "    </tr>\n",
       "    <tr>\n",
       "      <th>4</th>\n",
       "      <td>-0.539741</td>\n",
       "      <td>0.476985</td>\n",
       "      <td>3.248944</td>\n",
       "      <td>-1.021228</td>\n",
       "      <td>-0.577087</td>\n",
       "      <td>13.894875</td>\n",
       "      <td>13.667827</td>\n",
       "      <td>-0.227048</td>\n",
       "    </tr>\n",
       "    <tr>\n",
       "      <th>...</th>\n",
       "      <td>...</td>\n",
       "      <td>...</td>\n",
       "      <td>...</td>\n",
       "      <td>...</td>\n",
       "      <td>...</td>\n",
       "      <td>...</td>\n",
       "      <td>...</td>\n",
       "      <td>...</td>\n",
       "    </tr>\n",
       "    <tr>\n",
       "      <th>49995</th>\n",
       "      <td>-1.502279</td>\n",
       "      <td>0.338190</td>\n",
       "      <td>-0.573258</td>\n",
       "      <td>-0.377969</td>\n",
       "      <td>-1.742207</td>\n",
       "      <td>-1.428479</td>\n",
       "      <td>-4.118508</td>\n",
       "      <td>-2.690030</td>\n",
       "    </tr>\n",
       "    <tr>\n",
       "      <th>49996</th>\n",
       "      <td>-0.238790</td>\n",
       "      <td>0.361659</td>\n",
       "      <td>0.050803</td>\n",
       "      <td>1.136654</td>\n",
       "      <td>-1.520213</td>\n",
       "      <td>-1.562017</td>\n",
       "      <td>-3.924873</td>\n",
       "      <td>-2.362856</td>\n",
       "    </tr>\n",
       "    <tr>\n",
       "      <th>49997</th>\n",
       "      <td>0.111191</td>\n",
       "      <td>1.349551</td>\n",
       "      <td>-0.887112</td>\n",
       "      <td>1.432936</td>\n",
       "      <td>-0.347411</td>\n",
       "      <td>-2.833996</td>\n",
       "      <td>-2.327073</td>\n",
       "      <td>0.506923</td>\n",
       "    </tr>\n",
       "    <tr>\n",
       "      <th>49998</th>\n",
       "      <td>0.438447</td>\n",
       "      <td>0.399579</td>\n",
       "      <td>-0.526843</td>\n",
       "      <td>0.779586</td>\n",
       "      <td>-1.400417</td>\n",
       "      <td>0.234203</td>\n",
       "      <td>-3.482636</td>\n",
       "      <td>-3.716839</td>\n",
       "    </tr>\n",
       "    <tr>\n",
       "      <th>49999</th>\n",
       "      <td>-1.682674</td>\n",
       "      <td>3.151994</td>\n",
       "      <td>-0.457301</td>\n",
       "      <td>0.499976</td>\n",
       "      <td>-1.115103</td>\n",
       "      <td>0.001054</td>\n",
       "      <td>0.431173</td>\n",
       "      <td>0.430119</td>\n",
       "    </tr>\n",
       "  </tbody>\n",
       "</table>\n",
       "<p>50000 rows × 8 columns</p>\n",
       "</div>"
      ],
      "text/plain": [
       "            x_0       x_1       x_2       x_3       x_4    r_hat_0    r_hat_1  \\\n",
       "0     -0.204708  0.478943 -0.519439 -0.555730  1.965781   5.679499  -1.943560   \n",
       "1      1.393406  0.092908  0.281746  0.769023  1.246435   2.853402  -3.100100   \n",
       "2      1.007189 -1.296221  0.274992  0.228913  1.352917   2.722208   0.406896   \n",
       "3      0.886429 -2.001637 -0.371843  1.669025 -0.438570  -3.893530  -2.112685   \n",
       "4     -0.539741  0.476985  3.248944 -1.021228 -0.577087  13.894875  13.667827   \n",
       "...         ...       ...       ...       ...       ...        ...        ...   \n",
       "49995 -1.502279  0.338190 -0.573258 -0.377969 -1.742207  -1.428479  -4.118508   \n",
       "49996 -0.238790  0.361659  0.050803  1.136654 -1.520213  -1.562017  -3.924873   \n",
       "49997  0.111191  1.349551 -0.887112  1.432936 -0.347411  -2.833996  -2.327073   \n",
       "49998  0.438447  0.399579 -0.526843  0.779586 -1.400417   0.234203  -3.482636   \n",
       "49999 -1.682674  3.151994 -0.457301  0.499976 -1.115103   0.001054   0.431173   \n",
       "\n",
       "       uplift_r_hat  \n",
       "0         -7.623059  \n",
       "1         -5.953502  \n",
       "2         -2.315312  \n",
       "3          1.780844  \n",
       "4         -0.227048  \n",
       "...             ...  \n",
       "49995     -2.690030  \n",
       "49996     -2.362856  \n",
       "49997      0.506923  \n",
       "49998     -3.716839  \n",
       "49999      0.430119  \n",
       "\n",
       "[50000 rows x 8 columns]"
      ]
     },
     "execution_count": 12,
     "metadata": {},
     "output_type": "execute_result"
    }
   ],
   "source": [
    "for a in range(num_actions):\n",
    "    test_data_df[f'r_hat_{a}'] = model.predict(test_data_df_list[a][['x_0', 'x_1', 'x_2', 'x_3', 'x_4', 'a']])\n",
    "test_data_df['uplift_r_hat'] = test_data_df['r_hat_1'] - test_data_df['r_hat_0']\n",
    "test_data_df"
   ]
  },
  {
   "cell_type": "code",
   "execution_count": 13,
   "metadata": {},
   "outputs": [
    {
     "data": {
      "text/plain": [
       "<Axes: >"
      ]
     },
     "execution_count": 13,
     "metadata": {},
     "output_type": "execute_result"
    },
    {
     "data": {
      "image/png": "[encoded data removed]",
      "text/plain": [
       "<Figure size 640x480 with 1 Axes>"
      ]
     },
     "metadata": {},
     "output_type": "display_data"
    }
   ],
   "source": [
    "test_data_df['uplift_r_hat'].hist()"
   ]
  },
  {
   "cell_type": "code",
   "execution_count": 29,
   "metadata": {},
   "outputs": [
    {
     "data": {
      "text/html": [
       "<div>\n",
       "<style scoped>\n",
       "    .dataframe tbody tr th:only-of-type {\n",
       "        vertical-align: middle;\n",
       "    }\n",
       "\n",
       "    .dataframe tbody tr th {\n",
       "        vertical-align: top;\n",
       "    }\n",
       "\n",
       "    .dataframe thead th {\n",
       "        text-align: right;\n",
       "    }\n",
       "</style>\n",
       "<table border=\"1\" class=\"dataframe\">\n",
       "  <thead>\n",
       "    <tr style=\"text-align: right;\">\n",
       "      <th></th>\n",
       "      <th>pi_sasaken_0</th>\n",
       "      <th>pi_sasaken_1</th>\n",
       "    </tr>\n",
       "  </thead>\n",
       "  <tbody>\n",
       "    <tr>\n",
       "      <th>0</th>\n",
       "      <td>0.9</td>\n",
       "      <td>0.1</td>\n",
       "    </tr>\n",
       "    <tr>\n",
       "      <th>1</th>\n",
       "      <td>0.9</td>\n",
       "      <td>0.1</td>\n",
       "    </tr>\n",
       "    <tr>\n",
       "      <th>2</th>\n",
       "      <td>0.6</td>\n",
       "      <td>0.4</td>\n",
       "    </tr>\n",
       "    <tr>\n",
       "      <th>3</th>\n",
       "      <td>0.1</td>\n",
       "      <td>0.9</td>\n",
       "    </tr>\n",
       "    <tr>\n",
       "      <th>4</th>\n",
       "      <td>0.2</td>\n",
       "      <td>0.8</td>\n",
       "    </tr>\n",
       "  </tbody>\n",
       "</table>\n",
       "</div>"
      ],
      "text/plain": [
       "   pi_sasaken_0  pi_sasaken_1\n",
       "0           0.9           0.1\n",
       "1           0.9           0.1\n",
       "2           0.6           0.4\n",
       "3           0.1           0.9\n",
       "4           0.2           0.8"
      ]
     },
     "execution_count": 29,
     "metadata": {},
     "output_type": "execute_result"
    }
   ],
   "source": [
    "# 元のインデックスを保ったまま、uplift_r_hatの順位を取る\n",
    "ranks = test_data_df['uplift_r_hat'].rank(method='first', ascending=False)\n",
    "\n",
    "# 全データ数\n",
    "n = len(test_data_df)\n",
    "\n",
    "# ランクに応じてグループ（0〜8）を割り振り\n",
    "group = (ranks / n * 9).astype(int).clip(upper=8)  # 0〜8の整数にする\n",
    "\n",
    "# pi_sasaken_0を設定（グループ番号+1）/10\n",
    "test_data_df['pi_sasaken_0'] = (group + 1) / 10\n",
    "\n",
    "test_data_df['pi_sasaken_1'] = 1 - test_data_df['pi_sasaken_0']\n",
    "pi_sasaken = test_data_df[['pi_sasaken_0', 'pi_sasaken_1']]\n",
    "pi_sasaken[0:5]"
   ]
  },
  {
   "cell_type": "code",
   "execution_count": 28,
   "metadata": {},
   "outputs": [
    {
     "name": "stdout",
     "output_type": "stream",
     "text": [
      "ささけん割り当てによる方策報酬: 1.178\n"
     ]
    }
   ],
   "source": [
    "# 報酬期待値を計算\n",
    "sasaken_pg = (pi_sasaken * q_x_a_1 + (1 - pi_sasaken) * q_x_a_0).sum(1).mean()\n",
    "print(f'ささけん割り当てによる方策報酬: {sasaken_pg:.3f}')"
   ]
  },
  {
   "cell_type": "markdown",
   "metadata": {},
   "source": [
    "旧方策・IPS以上ランダム未満、まだまだかな、、、"
   ]
  },
  {
   "cell_type": "code",
   "execution_count": null,
   "metadata": {},
   "outputs": [],
   "source": []
  }
 ],
 "metadata": {
  "kernelspec": {
   "display_name": "Python 3 (ipykernel)",
   "language": "python",
   "name": "python3"
  },
  "language_info": {
   "codemirror_mode": {
    "name": "ipython",
    "version": 3
   },
   "file_extension": ".py",
   "mimetype": "text/x-python",
   "name": "python",
   "nbconvert_exporter": "python",
   "pygments_lexer": "ipython3",
   "version": "3.9.5"
  }
 },
 "nbformat": 4,
 "nbformat_minor": 4
}
