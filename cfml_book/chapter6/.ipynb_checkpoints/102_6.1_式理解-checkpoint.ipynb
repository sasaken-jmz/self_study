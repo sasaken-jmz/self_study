{
 "cells": [
  {
   "cell_type": "markdown",
   "id": "67b32512-6e3a-4db4-a3ed-2b9c90d46c61",
   "metadata": {},
   "source": [
    "# 102_6.1_式理解.ipynb"
   ]
  },
  {
   "cell_type": "markdown",
   "id": "2dd5142c-ead0-4d02-a0e0-9b455bcd36be",
   "metadata": {},
   "source": [
    "### $\n",
    "p(r_{u,t:t+11} \\mid x_u, a_{u,t-h:t+11})\n",
    "=\n",
    "p(r_{u,t} \\mid x_u, a_{u,t-h:t}) \\,\n",
    "p(r_{u,t+1:t+11} \\mid x_u, a_{u,t-h+1:t+11}, r_{u,t})\n",
    "$ - (6.9)"
   ]
  },
  {
   "cell_type": "markdown",
   "id": "97d934a7-6db5-498a-bb7d-90a1dea26d2b",
   "metadata": {},
   "source": [
    "$\n",
    "\\textcolor{red}{\n",
    "p(r_{u,t:t+11} \\mid x_u, a_{u,t-h:t+11})\n",
    "}\n",
    "=\n",
    "p(r_{u,t} \\mid x_u, a_{u,t-h:t}) \\,\n",
    "p(r_{u,t+1:t+11} \\mid x_u, a_{u,t-h+1:t+11}, r_{u,t})\n",
    "$\n",
    "\n",
    "左辺:  \n",
    "ユーザの状態$x_u$と$t-h$から$t+11$までに取った行動$a_{u,t-h:t+11}$に基づく、  \n",
    "ユーザ$u$が時刻$t$から$t+11$までに得る報酬$r_{u, t:t+11}$の確率分布"
   ]
  },
  {
   "cell_type": "markdown",
   "id": "1cc52c13-bb23-46e7-8bdf-4581d1a9cfd2",
   "metadata": {},
   "source": [
    "$\n",
    "p(r_{u,t:t+11} \\mid x_u, a_{u,t-h:t+11})\n",
    "=\n",
    "\\textcolor{red}{\n",
    "p(r_{u,t} \\mid x_u, a_{u,t-h:t}) \\,\n",
    "}\n",
    "p(r_{u,t+1:t+11} \\mid x_u, a_{u,t-h+1:t+11}, r_{u,t})\n",
    "$\n",
    "\n",
    "右辺①:  \n",
    "ユーザの状態$x_u$と$t-h$から$t$までに取った行動$a_{u,t-h:t}$に基づく、  \n",
    "ユーザ$u$が時刻$t$に得る報酬$r_{u, t}$の確率分布"
   ]
  },
  {
   "cell_type": "markdown",
   "id": "b5347438-1982-4517-bd0f-47edd2295307",
   "metadata": {},
   "source": [
    "$\n",
    "p(r_{u,t:t+11} \\mid x_u, a_{u,t-h:t+11})\n",
    "=\n",
    "p(r_{u,t} \\mid x_u, a_{u,t-h:t}) \\,\n",
    "\\textcolor{red}{\n",
    "p(r_{u,t+1:t+11} \\mid x_u, a_{u,t-h+1:t+11}, r_{u,t})\n",
    "}\n",
    "$\n",
    "\n",
    "右辺②:  \n",
    "ユーザの状態$x_u$と$t-h+1$から$t+11$までに取った行動$a_{u,t-h:t}$と時刻$t$における報酬$r_{u,t}$に基づく、  \n",
    "ユーザ$u$が時刻$t$に得る報酬$r_{u, t:t+11}$の確率分布"
   ]
  },
  {
   "cell_type": "code",
   "execution_count": null,
   "id": "f9ef929e-2548-479c-913e-8e52febb88d6",
   "metadata": {},
   "outputs": [],
   "source": []
  },
  {
   "cell_type": "code",
   "execution_count": null,
   "id": "bcfbdf60-a1f2-4ddc-95f7-bfc48f25aaae",
   "metadata": {},
   "outputs": [],
   "source": []
  },
  {
   "cell_type": "code",
   "execution_count": null,
   "id": "b94baec8-f1f3-45b6-b949-b468a13e66fa",
   "metadata": {},
   "outputs": [],
   "source": []
  },
  {
   "cell_type": "code",
   "execution_count": null,
   "id": "39f3ac9d-e584-4293-a20a-ff98d9eedb53",
   "metadata": {},
   "outputs": [],
   "source": []
  },
  {
   "cell_type": "code",
   "execution_count": null,
   "id": "9f59d79c-9672-4779-a6c1-923fc037c7b9",
   "metadata": {},
   "outputs": [],
   "source": []
  },
  {
   "cell_type": "code",
   "execution_count": null,
   "id": "6ca93eeb-c0de-44f6-acb6-0d9c8f4a246c",
   "metadata": {},
   "outputs": [],
   "source": []
  },
  {
   "cell_type": "markdown",
   "id": "8e88a542-bc67-42e7-9155-d14d0649ae2e",
   "metadata": {},
   "source": [
    "## 流れ確認\n",
    "- 「num_data」固定\n",
    "- 「_」固定"
   ]
  },
  {
   "cell_type": "code",
   "execution_count": 1,
   "id": "e9930aca-6b62-475a-8466-f6049160164b",
   "metadata": {},
   "outputs": [],
   "source": [
    "import warnings\n",
    "warnings.filterwarnings('ignore')\n",
    "\n",
    "import numpy as np\n",
    "import pandas as pd\n",
    "from pandas import DataFrame\n",
    "from tqdm import tqdm\n",
    "from sklearn.utils import check_random_state\n",
    "import seaborn as sns\n",
    "import matplotlib.pyplot as plt\n",
    "import japanize_matplotlib\n",
    "plt.style.use('ggplot')\n",
    "y_label_dict = {\"se\": \"平均二乗誤差\", \"bias\": \"二乗バイアス\", \"variance\": \"バリアンス\", \"selection\": \"方策選択\"}\n",
    "\n",
    "from dataset import generate_synthetic_data, calc_true_value\n",
    "from estimators import calc_online, calc_ips, calc_new\n",
    "from utils import eps_greedy_policy, softmax_policy, aggregate_simulation_results"
   ]
  },
  {
   "cell_type": "code",
   "execution_count": 2,
   "id": "29b4261e-8f57-49e9-b8e5-0cb1dcb7d49a",
   "metadata": {},
   "outputs": [],
   "source": [
    "## シミュレーション設定\n",
    "# num_runs = 1000 # シミュレーションの繰り返し回数\n",
    "dim_context = 10 # 特徴量xの次元\n",
    "num_data = 500 # ログデータのサイズ\n",
    "num_actions = 4 # 行動数, |A|\n",
    "T = 12 # 総時点数\n",
    "eps = 0.0 # データ収集方策のパラメータ, これは共通サポートの仮定を満たさない\n",
    "beta = -5 # 評価方策のパラメータ\n",
    "random_state = 12345\n",
    "random_ = check_random_state(random_state)\n",
    "num_data_list = [250, 500, 1000, 2000, 4000] # ログデータのサイズ"
   ]
  },
  {
   "cell_type": "code",
   "execution_count": 3,
   "id": "705e966b-4f0a-462d-b342-318685993bdf",
   "metadata": {},
   "outputs": [],
   "source": [
    "num_data = 500\n",
    "\n",
    "## 期待報酬関数を定義するためのパラメータを抽出\n",
    "random_ = check_random_state(random_state)\n",
    "theta = random_.normal(size=(dim_context, num_actions))\n",
    "M = random_.normal(size=(dim_context, num_actions))\n",
    "b = random_.normal(size=(1, num_actions))\n",
    "W = random_.uniform(0, 1, size=(T, T))\n",
    "## データ収集方策と評価方策の真の性能(policy value)を近似\n",
    "policy_value_of_pi0, policy_value_of_pi = calc_true_value(\n",
    "    dim_context=dim_context, num_actions=num_actions,\n",
    "    theta=theta, M=M, b=b, W=W, T=T, beta=beta, eps=eps,\n",
    ")"
   ]
  },
  {
   "cell_type": "code",
   "execution_count": 4,
   "id": "c1034825-d18e-4b87-8594-93975824dba7",
   "metadata": {},
   "outputs": [
    {
     "data": {
      "text/plain": [
       "({'online': 0.2121460664550819,\n",
       "  'ips': 0.0014043631786101057,\n",
       "  'new': 0.17601989678339033},\n",
       " {'online': False, 'ips': False, 'new': True})"
      ]
     },
     "execution_count": 4,
     "metadata": {},
     "output_type": "execute_result"
    }
   ],
   "source": [
    "_ = 0\n",
    "## データ収集方策が形成する分布に従いログデータを生成\n",
    "offline_logged_data = generate_synthetic_data(\n",
    "    num_data=num_data, dim_context=dim_context, num_actions=num_actions,\n",
    "    theta=theta, M=M, b=b, W=W, T=T, eps=eps, random_state=_\n",
    ")\n",
    "online_experiment_data = generate_synthetic_data(\n",
    "    num_data=num_data, dim_context=dim_context, num_actions=num_actions,\n",
    "    theta=theta, M=M, b=b, W=W, T=1, beta=beta, is_online=True, random_state=_\n",
    ")\n",
    "\n",
    "## ログデータ上における評価方策の行動選択確率を計算\n",
    "pi = softmax_policy(beta * offline_logged_data[\"base_q_func\"])\n",
    "\n",
    "## ログデータを用いてオフ方策評価を実行する\n",
    "estimated_policy_values, selection_result = dict(), dict()\n",
    "V_hat_online, selection_result_online = calc_online(online_experiment_data)\n",
    "estimated_policy_values[\"online\"] = V_hat_online\n",
    "selection_result[\"online\"] = selection_result_online\n",
    "V_hat_ips, selection_result_ips = calc_ips(offline_logged_data, pi)\n",
    "estimated_policy_values[\"ips\"] = V_hat_ips\n",
    "selection_result[\"ips\"] = selection_result_ips\n",
    "V_hat_new, selection_result_new = calc_new(offline_logged_data, online_experiment_data, pi)\n",
    "estimated_policy_values[\"new\"] = V_hat_new\n",
    "selection_result[\"new\"] = selection_result_new\n",
    "# estimated_policy_value_list.append(estimated_policy_values)\n",
    "# selection_result_list.append(selection_result)\n",
    "\n",
    "estimated_policy_values, selection_result"
   ]
  },
  {
   "cell_type": "markdown",
   "id": "698c1de6-7381-405a-8bdc-3572c2293c85",
   "metadata": {},
   "source": [
    "## 提案方策理解"
   ]
  },
  {
   "cell_type": "code",
   "execution_count": 7,
   "id": "a69ca9f8-a68c-4168-a019-5b9f834df3c4",
   "metadata": {},
   "outputs": [
    {
     "data": {
      "text/plain": [
       "array([[0.32842448, 0.2384514 , 0.21651261, 0.21661151],\n",
       "       [0.24759125, 0.24736038, 0.25688764, 0.24816074],\n",
       "       [0.30134211, 0.30134209, 0.19865696, 0.19865884],\n",
       "       ...,\n",
       "       [0.25028098, 0.24990716, 0.24990593, 0.24990594],\n",
       "       [0.33578588, 0.22140293, 0.22140272, 0.22140847],\n",
       "       [0.21374615, 0.29020368, 0.27882679, 0.21722338]])"
      ]
     },
     "execution_count": 7,
     "metadata": {},
     "output_type": "execute_result"
    }
   ],
   "source": [
    "pi"
   ]
  },
  {
   "cell_type": "code",
   "execution_count": 8,
   "id": "9794983f-b408-442c-92c6-cb2976421e58",
   "metadata": {},
   "outputs": [
    {
     "data": {
      "text/plain": [
       "(500, 4)"
      ]
     },
     "execution_count": 8,
     "metadata": {},
     "output_type": "execute_result"
    }
   ],
   "source": [
    "pi.shape"
   ]
  },
  {
   "cell_type": "markdown",
   "id": "5ad42bfa-7972-4ad3-ba53-c86950d8eaeb",
   "metadata": {},
   "source": [
    "## 推定量詳細確認\n",
    "### online"
   ]
  },
  {
   "cell_type": "code",
   "execution_count": 26,
   "id": "e052d640-7458-4a9a-a8b7-e452df90f12c",
   "metadata": {},
   "outputs": [
    {
     "data": {
      "text/html": [
       "<div>\n",
       "<style scoped>\n",
       "    .dataframe tbody tr th:only-of-type {\n",
       "        vertical-align: middle;\n",
       "    }\n",
       "\n",
       "    .dataframe tbody tr th {\n",
       "        vertical-align: top;\n",
       "    }\n",
       "\n",
       "    .dataframe thead th {\n",
       "        text-align: right;\n",
       "    }\n",
       "</style>\n",
       "<table border=\"1\" class=\"dataframe\">\n",
       "  <thead>\n",
       "    <tr style=\"text-align: right;\">\n",
       "      <th></th>\n",
       "      <th>r_on</th>\n",
       "      <th>w_on</th>\n",
       "    </tr>\n",
       "  </thead>\n",
       "  <tbody>\n",
       "    <tr>\n",
       "      <th>0</th>\n",
       "      <td>1.563695</td>\n",
       "      <td>0</td>\n",
       "    </tr>\n",
       "    <tr>\n",
       "      <th>1</th>\n",
       "      <td>0.246040</td>\n",
       "      <td>1</td>\n",
       "    </tr>\n",
       "    <tr>\n",
       "      <th>2</th>\n",
       "      <td>0.159205</td>\n",
       "      <td>0</td>\n",
       "    </tr>\n",
       "    <tr>\n",
       "      <th>3</th>\n",
       "      <td>0.261394</td>\n",
       "      <td>0</td>\n",
       "    </tr>\n",
       "    <tr>\n",
       "      <th>4</th>\n",
       "      <td>0.608946</td>\n",
       "      <td>0</td>\n",
       "    </tr>\n",
       "  </tbody>\n",
       "</table>\n",
       "</div>"
      ],
      "text/plain": [
       "       r_on  w_on\n",
       "0  1.563695     0\n",
       "1  0.246040     1\n",
       "2  0.159205     0\n",
       "3  0.261394     0\n",
       "4  0.608946     0"
      ]
     },
     "metadata": {},
     "output_type": "display_data"
    },
    {
     "name": "stdout",
     "output_type": "stream",
     "text": [
      "├─r_on: 2024/04テスト時の報酬\n",
      "└─w_on: 2024/04テスト時の新方策フラグ\n"
     ]
    }
   ],
   "source": [
    "df = pd.DataFrame([])\n",
    "dataset_online = online_experiment_data\n",
    "\"\"\"短期実験におけるAVG推定量を実行する.\"\"\"\n",
    "r_on, w_on = dataset_online[\"r_t\"], dataset_online[\"w\"]\n",
    "df['r_on'] = dataset_online[\"r_t\"].flatten()\n",
    "df['w_on'] = dataset_online[\"w\"].flatten()\n",
    "\n",
    "display(df.head())\n",
    "print('├─r_on: 2024/04テスト時の報酬')\n",
    "print('└─w_on: 2024/04テスト時の新方策フラグ')"
   ]
  },
  {
   "cell_type": "code",
   "execution_count": 30,
   "id": "94b5dcfb-6ac4-4a11-af78-35b5b5e6fe6d",
   "metadata": {},
   "outputs": [
    {
     "name": "stdout",
     "output_type": "stream",
     "text": [
      "新方策による報酬期待値: 0.212\n",
      "└─2024/04テスト時の新方策フラグが1のデータの報酬平均値\n",
      "\n",
      "旧方策による報酬期待値: 0.510\n",
      "└─2024/04テスト時の新方策フラグが0のデータの報酬平均値\n",
      "\n",
      "今回の推定量を用いると、「新方策 < 旧方策」と判断する\n"
     ]
    }
   ],
   "source": [
    "estimated_value_of_pi   = df[df['w_on']==1]['r_on'].mean()\n",
    "estimated_value_of_pi_0 = df[df['w_on']==0]['r_on'].mean()\n",
    "estimated_value_of_pi, estimated_value_of_pi_0\n",
    "print(f'新方策による報酬期待値: {estimated_value_of_pi:.3f}')\n",
    "print('└─2024/04テスト時の新方策フラグが1のデータの報酬平均値')\n",
    "print('')\n",
    "print(f'旧方策による報酬期待値: {estimated_value_of_pi_0:.3f}')\n",
    "print('└─2024/04テスト時の新方策フラグが0のデータの報酬平均値')\n",
    "print('')\n",
    "print('今回の推定量を用いると、「新方策 < 旧方策」と判断する')"
   ]
  },
  {
   "cell_type": "code",
   "execution_count": 33,
   "id": "39afe6ae-0c86-42a1-81ac-28c3209f7171",
   "metadata": {},
   "outputs": [
    {
     "data": {
      "text/plain": [
       "(0.2121460664550819, 0.2121460664550819, False)"
      ]
     },
     "execution_count": 33,
     "metadata": {},
     "output_type": "execute_result"
    }
   ],
   "source": [
    "# 計算整合確認\n",
    "\"\"\"短期実験におけるAVG推定量を実行する.\"\"\"\n",
    "dataset_online = online_experiment_data\n",
    "r_on, w_on = dataset_online[\"r_t\"], dataset_online[\"w\"]\n",
    "\n",
    "estimated_value_of_pi = (w_on * r_on.mean(1)).sum() / w_on.sum()\n",
    "estimated_value_of_pi_0 = ((1 - w_on) * r_on.mean(1)).sum() / (1 - w_on).sum()\n",
    "selection_result = estimated_value_of_pi > estimated_value_of_pi_0\n",
    "\n",
    "estimated_value_of_pi, estimated_value_of_pi, selection_result"
   ]
  },
  {
   "cell_type": "code",
   "execution_count": 34,
   "id": "49f54dfa-af24-41c7-8804-d39899145345",
   "metadata": {},
   "outputs": [],
   "source": [
    "# 問題なし"
   ]
  },
  {
   "cell_type": "markdown",
   "id": "9576b27c-832d-4dc8-86b3-aa42239becf1",
   "metadata": {},
   "source": [
    "### IPS"
   ]
  },
  {
   "cell_type": "code",
   "execution_count": 59,
   "id": "4981be67-6b58-4b56-b929-eea5cfc0fa5e",
   "metadata": {},
   "outputs": [
    {
     "name": "stdout",
     "output_type": "stream",
     "text": [
      "新方策による報酬期待値: 0.001\n",
      "\n",
      "旧方策による報酬期待値: 0.078\n",
      "\n",
      "今回の推定量を用いると、「新方策 < 旧方策」と判断する\n"
     ]
    }
   ],
   "source": [
    "dataset = offline_logged_data\n",
    "\n",
    "num_data, T = dataset[\"num_data\"], dataset[\"T\"]\n",
    "a_t, r_t, pi_0 = dataset[\"a_t\"], dataset[\"r_t\"], dataset[\"pi_0\"]\n",
    "\n",
    "target_pscore = np.zeros((num_data, T), dtype=float)\n",
    "logging_pscore = np.zeros((num_data, T), dtype=float)\n",
    "for t in range(T):\n",
    "    target_pscore[:, t] = pi[np.arange(num_data), a_t[:, t]]\n",
    "    logging_pscore[:, t] = pi_0[np.arange(num_data), a_t[:, t]]\n",
    "w_t = target_pscore / logging_pscore  # importance weights\n",
    "\n",
    "ips_estimate = 0.0\n",
    "for t in range(T):\n",
    "    ips_estimate += w_t[:, : t + 1].prod(1) * r_t[:, t] / T # 1ヶ月分の報酬に換算するためにTで割っていると理解\n",
    "\n",
    "estimated_value_of_pi = ips_estimate.mean()\n",
    "estimated_value_of_pi_0 = (r_t.mean(1)).mean()\n",
    "selection_result = estimated_value_of_pi > estimated_value_of_pi_0\n",
    "\n",
    "print(f'新方策による報酬期待値: {estimated_value_of_pi:.3f}')\n",
    "print('')\n",
    "print(f'旧方策による報酬期待値: {estimated_value_of_pi_0:.3f}')\n",
    "print('')\n",
    "print('今回の推定量を用いると、「新方策 < 旧方策」と判断する')"
   ]
  },
  {
   "cell_type": "code",
   "execution_count": 60,
   "id": "242bf916-58bc-4456-a133-d6d94ec48b3a",
   "metadata": {},
   "outputs": [],
   "source": [
    "# 関数そのまま使いつつ理解したので確認は省略する"
   ]
  },
  {
   "cell_type": "code",
   "execution_count": null,
   "id": "84616038-63c4-4681-b815-fa45f20fcaff",
   "metadata": {},
   "outputs": [],
   "source": []
  },
  {
   "cell_type": "code",
   "execution_count": null,
   "id": "b254f8b4-60b9-456c-a1b6-d79c88e771c4",
   "metadata": {},
   "outputs": [],
   "source": []
  },
  {
   "cell_type": "code",
   "execution_count": null,
   "id": "e65ef908-efe6-4f26-9b1d-57640d2fd09e",
   "metadata": {},
   "outputs": [],
   "source": []
  },
  {
   "cell_type": "code",
   "execution_count": null,
   "id": "1bb5e140-3a46-4e4b-a00e-7c1a141f3a3c",
   "metadata": {},
   "outputs": [],
   "source": []
  },
  {
   "cell_type": "code",
   "execution_count": null,
   "id": "c78f9f77-e767-444b-90e1-df9fb9fcd73e",
   "metadata": {},
   "outputs": [],
   "source": []
  },
  {
   "cell_type": "code",
   "execution_count": null,
   "id": "4c9dcb8b-4233-406c-abae-ced13d285ac5",
   "metadata": {},
   "outputs": [],
   "source": []
  },
  {
   "cell_type": "code",
   "execution_count": null,
   "id": "02283c5f-2cac-4b10-bad7-8d125e48ab9d",
   "metadata": {},
   "outputs": [],
   "source": []
  },
  {
   "cell_type": "code",
   "execution_count": null,
   "id": "5fa0c4f7-6cc1-42b3-90aa-4a3d8361d95a",
   "metadata": {},
   "outputs": [],
   "source": []
  }
 ],
 "metadata": {
  "kernelspec": {
   "display_name": "Python 3 (ipykernel)",
   "language": "python",
   "name": "python3"
  },
  "language_info": {
   "codemirror_mode": {
    "name": "ipython",
    "version": 3
   },
   "file_extension": ".py",
   "mimetype": "text/x-python",
   "name": "python",
   "nbconvert_exporter": "python",
   "pygments_lexer": "ipython3",
   "version": "3.9.5"
  }
 },
 "nbformat": 4,
 "nbformat_minor": 5
}
