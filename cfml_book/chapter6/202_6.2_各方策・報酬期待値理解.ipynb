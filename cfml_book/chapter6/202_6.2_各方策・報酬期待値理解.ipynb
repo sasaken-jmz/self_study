{
 "cells": [
  {
   "cell_type": "markdown",
   "metadata": {},
   "source": [
    "# 202_6.2_各方策・報酬期待値理解.ipynb"
   ]
  },
  {
   "cell_type": "markdown",
   "metadata": {},
   "source": [
    "## 6.2 プラットフォーム全体で観測される報酬を最適化する方策学習"
   ]
  },
  {
   "cell_type": "code",
   "execution_count": 2,
   "metadata": {},
   "outputs": [],
   "source": [
    "import warnings\n",
    "warnings.filterwarnings('ignore')\n",
    "\n",
    "import torch\n",
    "import numpy as np\n",
    "import pandas as pd\n",
    "from pandas import DataFrame\n",
    "from tqdm import tqdm\n",
    "from sklearn.utils import check_random_state\n",
    "import seaborn as sns\n",
    "import matplotlib.pyplot as plt\n",
    "import japanize_matplotlib\n",
    "plt.style.use('ggplot')\n",
    "\n",
    "from dataset import generate_synthetic_data2\n",
    "from policylearners import IPSBasedGradientPolicyLearner, CateBasedGradientPolicyLearner\n",
    "from utils import softmax\n",
    "\n",
    "import math\n",
    "from sklearn.linear_model import LogisticRegression\n",
    "import lightgbm as lgb\n",
    "from sklearn.ensemble import HistGradientBoostingClassifier\n",
    "from sklearn.ensemble import RandomForestClassifier\n",
    "from sklearn.model_selection import GridSearchCV\n",
    "from lightgbm import LGBMClassifier\n",
    "from catboost import CatBoostClassifier\n",
    "from sklearn.svm import SVC"
   ]
  },
  {
   "cell_type": "markdown",
   "metadata": {},
   "source": [
    "### ログデータ(トレーニングデータ)のサイズ$n$を変化させたときの方策性能の変化"
   ]
  },
  {
   "cell_type": "code",
   "execution_count": 3,
   "metadata": {},
   "outputs": [],
   "source": [
    "## シミュレーション設定\n",
    "num_runs = 50 # シミュレーションの繰り返し回数\n",
    "dim_x = 5 # 特徴量xの次元\n",
    "num_actions = 10 # 行動数, |A|\n",
    "beta = -0.1 # データ収集方策のパラメータ\n",
    "max_iter = 21 # エポック数\n",
    "test_data_size = 50000 # テストデータのサイズ\n",
    "random_state = 12345\n",
    "torch.manual_seed(random_state)\n",
    "random_ = check_random_state(random_state)\n",
    "num_actions_list = [2, 10] # 行動数\n",
    "num_data_list = [100, 500, 1000, 2000] # トレーニングデータのサイズ"
   ]
  },
  {
   "cell_type": "code",
   "execution_count": 4,
   "metadata": {},
   "outputs": [],
   "source": [
    "num_actions = num_actions_list[1]\n",
    "## 期待報酬関数を定義するためのパラメータを抽出\n",
    "theta_1 = random_.normal(size=(dim_x, num_actions))\n",
    "M_1 = random_.normal(size=(dim_x, num_actions))\n",
    "b_1 = random_.normal(size=(1, num_actions))\n",
    "theta_0 = random_.normal(size=(dim_x, num_actions))\n",
    "M_0 = random_.normal(size=(dim_x, num_actions))\n",
    "b_0 = random_.normal(size=(1, num_actions))\n",
    "## 学習された方策の真の性能を近似するためのテストデータを生成\n",
    "test_data = generate_synthetic_data2(\n",
    "    num_data=test_data_size, beta=beta,\n",
    "    theta_1=theta_1, M_1=M_1, b_1=b_1, theta_0=theta_0, M_0=M_0, b_0=b_0,\n",
    "    dim_context=dim_x, num_actions=num_actions, random_state = random_state\n",
    ")\n",
    "pi_0, q_x_a_1, q_x_a_0 = test_data[\"pi_0\"], test_data[\"q_x_a_1\"], test_data[\"q_x_a_0\"]\n",
    "pi_0_value = (pi_0 * q_x_a_1 + (1. - pi_0) * q_x_a_0).sum(1).mean()"
   ]
  },
  {
   "cell_type": "code",
   "execution_count": 5,
   "metadata": {},
   "outputs": [],
   "source": [
    "num_data = num_data_list[2]\n",
    "test_policy_value_list = []\n",
    "_ = 0\n",
    "\n",
    "## データ収集方策が形成する分布に従いログデータを生成\n",
    "offline_logged_data = generate_synthetic_data2(\n",
    "    num_data=num_data, beta=beta,\n",
    "    theta_1=theta_1, M_1=M_1, b_1=b_1, theta_0=theta_0, M_0=M_0, b_0=b_0,\n",
    "    dim_context=dim_x, num_actions=num_actions, random_state = _\n",
    ")\n",
    "\n",
    "true_value_of_learned_policies = dict()\n",
    "true_value_of_learned_policies[\"logging\"] = pi_0_value\n",
    "\n",
    "## ログデータを用いてオフ方策学習を実行する\n",
    "### 勾配ベースのアプローチ (IPS推定量で方策勾配を推定)\n",
    "ips = IPSBasedGradientPolicyLearner(\n",
    "    dim_x=dim_x, num_actions=num_actions, max_iter=max_iter, random_state=random_state + _\n",
    ")\n",
    "ips.fit(offline_logged_data, test_data)\n",
    "pi_ips = ips.predict(test_data)\n",
    "true_value_of_learned_policies[\"ips-pg\"] = (pi_ips * q_x_a_1 + (1 - pi_ips) * q_x_a_0).sum(1).mean()\n",
    "ips_pg = (pi_ips * q_x_a_1 + (1 - pi_ips) * q_x_a_0).sum(1).mean()\n",
    "### 勾配ベースのアプローチ (新たに開発した推定量で方策勾配を推定)\n",
    "cate = CateBasedGradientPolicyLearner(\n",
    "    dim_x=dim_x, num_actions=num_actions, max_iter=max_iter, random_state=random_state + _\n",
    ")\n",
    "cate.fit(offline_logged_data, test_data)\n",
    "pi_cate = cate.predict(test_data)\n",
    "true_value_of_learned_policies[\"cate-pg\"] = (pi_cate * q_x_a_1 + (1 - pi_cate) * q_x_a_0).sum(1).mean()\n",
    "cate_pg = (pi_cate * q_x_a_1 + (1 - pi_cate) * q_x_a_0).sum(1).mean()\n",
    "\n",
    "test_policy_value_list.append(true_value_of_learned_policies)"
   ]
  },
  {
   "cell_type": "markdown",
   "metadata": {},
   "source": [
    "## 各方策・報酬期待値理解\n",
    "### 旧方策"
   ]
  },
  {
   "cell_type": "code",
   "execution_count": 6,
   "metadata": {},
   "outputs": [
    {
     "name": "stdout",
     "output_type": "stream",
     "text": [
      "旧方策報酬: 2.127\n"
     ]
    }
   ],
   "source": [
    "print(f'旧方策報酬: {pi_0_value:.3f}')"
   ]
  },
  {
   "cell_type": "markdown",
   "metadata": {},
   "source": [
    "### IPS(勾配)"
   ]
  },
  {
   "cell_type": "code",
   "execution_count": 7,
   "metadata": {},
   "outputs": [
    {
     "name": "stdout",
     "output_type": "stream",
     "text": [
      "IPS(勾配)による方策報酬: 1.962\n"
     ]
    }
   ],
   "source": [
    "print(f'IPS(勾配)による方策報酬: {ips_pg:.3f}')"
   ]
  },
  {
   "cell_type": "markdown",
   "metadata": {},
   "source": [
    "### Newによる方策報酬"
   ]
  },
  {
   "cell_type": "code",
   "execution_count": 8,
   "metadata": {},
   "outputs": [
    {
     "name": "stdout",
     "output_type": "stream",
     "text": [
      "Newによる方策報酬: 3.528\n"
     ]
    }
   ],
   "source": [
    "print(f'Newによる方策報酬: {cate_pg:.3f}')"
   ]
  },
  {
   "cell_type": "markdown",
   "metadata": {},
   "source": [
    "## ここから佐々木の方で方策学習を行い、それによる報酬期待値を得る\n",
    "### ちなみにランダムで推薦アイテムを決めた場合の期待報酬を計算してみる"
   ]
  },
  {
   "cell_type": "code",
   "execution_count": 9,
   "metadata": {},
   "outputs": [
    {
     "name": "stdout",
     "output_type": "stream",
     "text": [
      "ランダム割り当てによる方策報酬: 2.280\n"
     ]
    }
   ],
   "source": [
    "pi_random = np.full((50000, num_actions), 1/num_actions)\n",
    "radom_pg = (pi_random * q_x_a_1 + (1 - pi_random) * q_x_a_0).sum(1).mean()\n",
    "print(f'ランダム割り当てによる方策報酬: {radom_pg:.3f}')"
   ]
  },
  {
   "cell_type": "markdown",
   "metadata": {},
   "source": [
    "(まさかのIPS以上New未満...)"
   ]
  },
  {
   "cell_type": "markdown",
   "metadata": {},
   "source": [
    "### シンプル同じようなxを持つユーザー同士で比較したときに、rが高ければその方策いいよね、という考えでやってみる"
   ]
  },
  {
   "cell_type": "code",
   "execution_count": 10,
   "metadata": {},
   "outputs": [
    {
     "data": {
      "text/html": [
       "<div>\n",
       "<style scoped>\n",
       "    .dataframe tbody tr th:only-of-type {\n",
       "        vertical-align: middle;\n",
       "    }\n",
       "\n",
       "    .dataframe tbody tr th {\n",
       "        vertical-align: top;\n",
       "    }\n",
       "\n",
       "    .dataframe thead th {\n",
       "        text-align: right;\n",
       "    }\n",
       "</style>\n",
       "<table border=\"1\" class=\"dataframe\">\n",
       "  <thead>\n",
       "    <tr style=\"text-align: right;\">\n",
       "      <th></th>\n",
       "      <th>x_0</th>\n",
       "      <th>x_1</th>\n",
       "      <th>x_2</th>\n",
       "      <th>x_3</th>\n",
       "      <th>x_4</th>\n",
       "      <th>a</th>\n",
       "      <th>r</th>\n",
       "      <th>pscore</th>\n",
       "    </tr>\n",
       "  </thead>\n",
       "  <tbody>\n",
       "    <tr>\n",
       "      <th>0</th>\n",
       "      <td>1.764052</td>\n",
       "      <td>0.400157</td>\n",
       "      <td>0.978738</td>\n",
       "      <td>2.240893</td>\n",
       "      <td>1.867558</td>\n",
       "      <td>6.0</td>\n",
       "      <td>1.412246</td>\n",
       "      <td>0.137188</td>\n",
       "    </tr>\n",
       "    <tr>\n",
       "      <th>1</th>\n",
       "      <td>-0.977278</td>\n",
       "      <td>0.950088</td>\n",
       "      <td>-0.151357</td>\n",
       "      <td>-0.103219</td>\n",
       "      <td>0.410599</td>\n",
       "      <td>7.0</td>\n",
       "      <td>-1.932179</td>\n",
       "      <td>0.098761</td>\n",
       "    </tr>\n",
       "    <tr>\n",
       "      <th>2</th>\n",
       "      <td>0.144044</td>\n",
       "      <td>1.454274</td>\n",
       "      <td>0.761038</td>\n",
       "      <td>0.121675</td>\n",
       "      <td>0.443863</td>\n",
       "      <td>6.0</td>\n",
       "      <td>-0.568106</td>\n",
       "      <td>0.096473</td>\n",
       "    </tr>\n",
       "    <tr>\n",
       "      <th>3</th>\n",
       "      <td>0.333674</td>\n",
       "      <td>1.494079</td>\n",
       "      <td>-0.205158</td>\n",
       "      <td>0.313068</td>\n",
       "      <td>-0.854096</td>\n",
       "      <td>5.0</td>\n",
       "      <td>1.117016</td>\n",
       "      <td>0.105284</td>\n",
       "    </tr>\n",
       "    <tr>\n",
       "      <th>4</th>\n",
       "      <td>-2.552990</td>\n",
       "      <td>0.653619</td>\n",
       "      <td>0.864436</td>\n",
       "      <td>-0.742165</td>\n",
       "      <td>2.269755</td>\n",
       "      <td>4.0</td>\n",
       "      <td>-0.344649</td>\n",
       "      <td>0.162006</td>\n",
       "    </tr>\n",
       "    <tr>\n",
       "      <th>...</th>\n",
       "      <td>...</td>\n",
       "      <td>...</td>\n",
       "      <td>...</td>\n",
       "      <td>...</td>\n",
       "      <td>...</td>\n",
       "      <td>...</td>\n",
       "      <td>...</td>\n",
       "      <td>...</td>\n",
       "    </tr>\n",
       "    <tr>\n",
       "      <th>995</th>\n",
       "      <td>1.711489</td>\n",
       "      <td>-1.820816</td>\n",
       "      <td>0.163495</td>\n",
       "      <td>-0.813117</td>\n",
       "      <td>-0.605355</td>\n",
       "      <td>1.0</td>\n",
       "      <td>1.831552</td>\n",
       "      <td>0.104161</td>\n",
       "    </tr>\n",
       "    <tr>\n",
       "      <th>996</th>\n",
       "      <td>-1.327524</td>\n",
       "      <td>-0.644172</td>\n",
       "      <td>1.908883</td>\n",
       "      <td>-0.563545</td>\n",
       "      <td>1.082473</td>\n",
       "      <td>5.0</td>\n",
       "      <td>-0.547455</td>\n",
       "      <td>0.103926</td>\n",
       "    </tr>\n",
       "    <tr>\n",
       "      <th>997</th>\n",
       "      <td>-1.951911</td>\n",
       "      <td>2.441216</td>\n",
       "      <td>-0.017285</td>\n",
       "      <td>0.912282</td>\n",
       "      <td>1.239658</td>\n",
       "      <td>9.0</td>\n",
       "      <td>0.157768</td>\n",
       "      <td>0.124637</td>\n",
       "    </tr>\n",
       "    <tr>\n",
       "      <th>998</th>\n",
       "      <td>-0.573367</td>\n",
       "      <td>0.424889</td>\n",
       "      <td>-0.271260</td>\n",
       "      <td>-0.683568</td>\n",
       "      <td>-1.537438</td>\n",
       "      <td>2.0</td>\n",
       "      <td>-1.325663</td>\n",
       "      <td>0.092624</td>\n",
       "    </tr>\n",
       "    <tr>\n",
       "      <th>999</th>\n",
       "      <td>-0.101374</td>\n",
       "      <td>0.746666</td>\n",
       "      <td>0.929182</td>\n",
       "      <td>0.229418</td>\n",
       "      <td>0.414406</td>\n",
       "      <td>6.0</td>\n",
       "      <td>0.849215</td>\n",
       "      <td>0.098278</td>\n",
       "    </tr>\n",
       "  </tbody>\n",
       "</table>\n",
       "<p>1000 rows × 8 columns</p>\n",
       "</div>"
      ],
      "text/plain": [
       "          x_0       x_1       x_2       x_3       x_4    a         r    pscore\n",
       "0    1.764052  0.400157  0.978738  2.240893  1.867558  6.0  1.412246  0.137188\n",
       "1   -0.977278  0.950088 -0.151357 -0.103219  0.410599  7.0 -1.932179  0.098761\n",
       "2    0.144044  1.454274  0.761038  0.121675  0.443863  6.0 -0.568106  0.096473\n",
       "3    0.333674  1.494079 -0.205158  0.313068 -0.854096  5.0  1.117016  0.105284\n",
       "4   -2.552990  0.653619  0.864436 -0.742165  2.269755  4.0 -0.344649  0.162006\n",
       "..        ...       ...       ...       ...       ...  ...       ...       ...\n",
       "995  1.711489 -1.820816  0.163495 -0.813117 -0.605355  1.0  1.831552  0.104161\n",
       "996 -1.327524 -0.644172  1.908883 -0.563545  1.082473  5.0 -0.547455  0.103926\n",
       "997 -1.951911  2.441216 -0.017285  0.912282  1.239658  9.0  0.157768  0.124637\n",
       "998 -0.573367  0.424889 -0.271260 -0.683568 -1.537438  2.0 -1.325663  0.092624\n",
       "999 -0.101374  0.746666  0.929182  0.229418  0.414406  6.0  0.849215  0.098278\n",
       "\n",
       "[1000 rows x 8 columns]"
      ]
     },
     "execution_count": 10,
     "metadata": {},
     "output_type": "execute_result"
    }
   ],
   "source": [
    "# データ整形: 観測される情報のみを持つDataFrameを生成する\n",
    "x = offline_logged_data['x']\n",
    "a = offline_logged_data['a']\n",
    "r = offline_logged_data['r']\n",
    "pscore = offline_logged_data['pscore']\n",
    "combined = np.hstack([x, a.reshape(-1, 1), r.reshape(-1, 1), pscore.reshape(-1, 1)])\n",
    "\n",
    "# データフレームに変換\n",
    "df = pd.DataFrame(combined, columns=[\n",
    "    'x_0',\n",
    "    'x_1',\n",
    "    'x_2',\n",
    "    'x_3',\n",
    "    'x_4',\n",
    "    'a',\n",
    "    'r',\n",
    "    'pscore'\n",
    "])\n",
    "df"
   ]
  },
  {
   "cell_type": "code",
   "execution_count": 11,
   "metadata": {},
   "outputs": [
    {
     "data": {
      "text/html": [
       "<div>\n",
       "<style scoped>\n",
       "    .dataframe tbody tr th:only-of-type {\n",
       "        vertical-align: middle;\n",
       "    }\n",
       "\n",
       "    .dataframe tbody tr th {\n",
       "        vertical-align: top;\n",
       "    }\n",
       "\n",
       "    .dataframe thead th {\n",
       "        text-align: right;\n",
       "    }\n",
       "</style>\n",
       "<table border=\"1\" class=\"dataframe\">\n",
       "  <thead>\n",
       "    <tr style=\"text-align: right;\">\n",
       "      <th></th>\n",
       "      <th>x_0</th>\n",
       "      <th>x_1</th>\n",
       "      <th>x_2</th>\n",
       "      <th>x_3</th>\n",
       "      <th>x_4</th>\n",
       "      <th>a</th>\n",
       "      <th>r</th>\n",
       "      <th>pscore</th>\n",
       "      <th>sample_weight</th>\n",
       "      <th>pseudo_sample_weight</th>\n",
       "    </tr>\n",
       "  </thead>\n",
       "  <tbody>\n",
       "    <tr>\n",
       "      <th>0</th>\n",
       "      <td>1.764052</td>\n",
       "      <td>0.400157</td>\n",
       "      <td>0.978738</td>\n",
       "      <td>2.240893</td>\n",
       "      <td>1.867558</td>\n",
       "      <td>6.0</td>\n",
       "      <td>1.412246</td>\n",
       "      <td>0.137188</td>\n",
       "      <td>10.294210</td>\n",
       "      <td>0.431190</td>\n",
       "    </tr>\n",
       "    <tr>\n",
       "      <th>1</th>\n",
       "      <td>-0.977278</td>\n",
       "      <td>0.950088</td>\n",
       "      <td>-0.151357</td>\n",
       "      <td>-0.103219</td>\n",
       "      <td>0.410599</td>\n",
       "      <td>7.0</td>\n",
       "      <td>-1.932179</td>\n",
       "      <td>0.098761</td>\n",
       "      <td>-19.564157</td>\n",
       "      <td>0.196003</td>\n",
       "    </tr>\n",
       "    <tr>\n",
       "      <th>2</th>\n",
       "      <td>0.144044</td>\n",
       "      <td>1.454274</td>\n",
       "      <td>0.761038</td>\n",
       "      <td>0.121675</td>\n",
       "      <td>0.443863</td>\n",
       "      <td>6.0</td>\n",
       "      <td>-0.568106</td>\n",
       "      <td>0.096473</td>\n",
       "      <td>-5.888762</td>\n",
       "      <td>0.303721</td>\n",
       "    </tr>\n",
       "    <tr>\n",
       "      <th>3</th>\n",
       "      <td>0.333674</td>\n",
       "      <td>1.494079</td>\n",
       "      <td>-0.205158</td>\n",
       "      <td>0.313068</td>\n",
       "      <td>-0.854096</td>\n",
       "      <td>5.0</td>\n",
       "      <td>1.117016</td>\n",
       "      <td>0.105284</td>\n",
       "      <td>10.609596</td>\n",
       "      <td>0.433675</td>\n",
       "    </tr>\n",
       "    <tr>\n",
       "      <th>4</th>\n",
       "      <td>-2.552990</td>\n",
       "      <td>0.653619</td>\n",
       "      <td>0.864436</td>\n",
       "      <td>-0.742165</td>\n",
       "      <td>2.269755</td>\n",
       "      <td>4.0</td>\n",
       "      <td>-0.344649</td>\n",
       "      <td>0.162006</td>\n",
       "      <td>-2.127385</td>\n",
       "      <td>0.333348</td>\n",
       "    </tr>\n",
       "    <tr>\n",
       "      <th>...</th>\n",
       "      <td>...</td>\n",
       "      <td>...</td>\n",
       "      <td>...</td>\n",
       "      <td>...</td>\n",
       "      <td>...</td>\n",
       "      <td>...</td>\n",
       "      <td>...</td>\n",
       "      <td>...</td>\n",
       "      <td>...</td>\n",
       "      <td>...</td>\n",
       "    </tr>\n",
       "    <tr>\n",
       "      <th>995</th>\n",
       "      <td>1.711489</td>\n",
       "      <td>-1.820816</td>\n",
       "      <td>0.163495</td>\n",
       "      <td>-0.813117</td>\n",
       "      <td>-0.605355</td>\n",
       "      <td>1.0</td>\n",
       "      <td>1.831552</td>\n",
       "      <td>0.104161</td>\n",
       "      <td>17.583792</td>\n",
       "      <td>0.488609</td>\n",
       "    </tr>\n",
       "    <tr>\n",
       "      <th>996</th>\n",
       "      <td>-1.327524</td>\n",
       "      <td>-0.644172</td>\n",
       "      <td>1.908883</td>\n",
       "      <td>-0.563545</td>\n",
       "      <td>1.082473</td>\n",
       "      <td>5.0</td>\n",
       "      <td>-0.547455</td>\n",
       "      <td>0.103926</td>\n",
       "      <td>-5.267736</td>\n",
       "      <td>0.308613</td>\n",
       "    </tr>\n",
       "    <tr>\n",
       "      <th>997</th>\n",
       "      <td>-1.951911</td>\n",
       "      <td>2.441216</td>\n",
       "      <td>-0.017285</td>\n",
       "      <td>0.912282</td>\n",
       "      <td>1.239658</td>\n",
       "      <td>9.0</td>\n",
       "      <td>0.157768</td>\n",
       "      <td>0.124637</td>\n",
       "      <td>1.265819</td>\n",
       "      <td>0.360076</td>\n",
       "    </tr>\n",
       "    <tr>\n",
       "      <th>998</th>\n",
       "      <td>-0.573367</td>\n",
       "      <td>0.424889</td>\n",
       "      <td>-0.271260</td>\n",
       "      <td>-0.683568</td>\n",
       "      <td>-1.537438</td>\n",
       "      <td>2.0</td>\n",
       "      <td>-1.325663</td>\n",
       "      <td>0.092624</td>\n",
       "      <td>-14.312241</td>\n",
       "      <td>0.237371</td>\n",
       "    </tr>\n",
       "    <tr>\n",
       "      <th>999</th>\n",
       "      <td>-0.101374</td>\n",
       "      <td>0.746666</td>\n",
       "      <td>0.929182</td>\n",
       "      <td>0.229418</td>\n",
       "      <td>0.414406</td>\n",
       "      <td>6.0</td>\n",
       "      <td>0.849215</td>\n",
       "      <td>0.098278</td>\n",
       "      <td>8.640920</td>\n",
       "      <td>0.418168</td>\n",
       "    </tr>\n",
       "  </tbody>\n",
       "</table>\n",
       "<p>1000 rows × 10 columns</p>\n",
       "</div>"
      ],
      "text/plain": [
       "          x_0       x_1       x_2       x_3       x_4    a         r  \\\n",
       "0    1.764052  0.400157  0.978738  2.240893  1.867558  6.0  1.412246   \n",
       "1   -0.977278  0.950088 -0.151357 -0.103219  0.410599  7.0 -1.932179   \n",
       "2    0.144044  1.454274  0.761038  0.121675  0.443863  6.0 -0.568106   \n",
       "3    0.333674  1.494079 -0.205158  0.313068 -0.854096  5.0  1.117016   \n",
       "4   -2.552990  0.653619  0.864436 -0.742165  2.269755  4.0 -0.344649   \n",
       "..        ...       ...       ...       ...       ...  ...       ...   \n",
       "995  1.711489 -1.820816  0.163495 -0.813117 -0.605355  1.0  1.831552   \n",
       "996 -1.327524 -0.644172  1.908883 -0.563545  1.082473  5.0 -0.547455   \n",
       "997 -1.951911  2.441216 -0.017285  0.912282  1.239658  9.0  0.157768   \n",
       "998 -0.573367  0.424889 -0.271260 -0.683568 -1.537438  2.0 -1.325663   \n",
       "999 -0.101374  0.746666  0.929182  0.229418  0.414406  6.0  0.849215   \n",
       "\n",
       "       pscore  sample_weight  pseudo_sample_weight  \n",
       "0    0.137188      10.294210              0.431190  \n",
       "1    0.098761     -19.564157              0.196003  \n",
       "2    0.096473      -5.888762              0.303721  \n",
       "3    0.105284      10.609596              0.433675  \n",
       "4    0.162006      -2.127385              0.333348  \n",
       "..        ...            ...                   ...  \n",
       "995  0.104161      17.583792              0.488609  \n",
       "996  0.103926      -5.267736              0.308613  \n",
       "997  0.124637       1.265819              0.360076  \n",
       "998  0.092624     -14.312241              0.237371  \n",
       "999  0.098278       8.640920              0.418168  \n",
       "\n",
       "[1000 rows x 10 columns]"
      ]
     },
     "execution_count": 11,
     "metadata": {},
     "output_type": "execute_result"
    }
   ],
   "source": [
    "# # rを重みとして使用する都合上、マイナスがあっては都合が悪いので報酬最小値が0より大きくなるようにする\n",
    "# min_r = df['r'].min()\n",
    "# if min_r < 0:\n",
    "#     _add = math.ceil(-min_r)\n",
    "# else:\n",
    "#     _add = 0\n",
    "# \n",
    "# df['pseudo_r'] = df['r'] + _add\n",
    "# df\n",
    "df['sample_weight'] = df['r'] / df['pscore']\n",
    "col = 'sample_weight'  # スケーリングしたい列名\n",
    "df['pseudo_' + col] = (df[col] - df[col].min()) / (df[col].max() - df[col].min())\n",
    "df"
   ]
  },
  {
   "cell_type": "code",
   "execution_count": 12,
   "metadata": {},
   "outputs": [
    {
     "data": {
      "text/html": [
       "<style>#sk-container-id-1 {color: black;background-color: white;}#sk-container-id-1 pre{padding: 0;}#sk-container-id-1 div.sk-toggleable {background-color: white;}#sk-container-id-1 label.sk-toggleable__label {cursor: pointer;display: block;width: 100%;margin-bottom: 0;padding: 0.3em;box-sizing: border-box;text-align: center;}#sk-container-id-1 label.sk-toggleable__label-arrow:before {content: \"▸\";float: left;margin-right: 0.25em;color: #696969;}#sk-container-id-1 label.sk-toggleable__label-arrow:hover:before {color: black;}#sk-container-id-1 div.sk-estimator:hover label.sk-toggleable__label-arrow:before {color: black;}#sk-container-id-1 div.sk-toggleable__content {max-height: 0;max-width: 0;overflow: hidden;text-align: left;background-color: #f0f8ff;}#sk-container-id-1 div.sk-toggleable__content pre {margin: 0.2em;color: black;border-radius: 0.25em;background-color: #f0f8ff;}#sk-container-id-1 input.sk-toggleable__control:checked~div.sk-toggleable__content {max-height: 200px;max-width: 100%;overflow: auto;}#sk-container-id-1 input.sk-toggleable__control:checked~label.sk-toggleable__label-arrow:before {content: \"▾\";}#sk-container-id-1 div.sk-estimator input.sk-toggleable__control:checked~label.sk-toggleable__label {background-color: #d4ebff;}#sk-container-id-1 div.sk-label input.sk-toggleable__control:checked~label.sk-toggleable__label {background-color: #d4ebff;}#sk-container-id-1 input.sk-hidden--visually {border: 0;clip: rect(1px 1px 1px 1px);clip: rect(1px, 1px, 1px, 1px);height: 1px;margin: -1px;overflow: hidden;padding: 0;position: absolute;width: 1px;}#sk-container-id-1 div.sk-estimator {font-family: monospace;background-color: #f0f8ff;border: 1px dotted black;border-radius: 0.25em;box-sizing: border-box;margin-bottom: 0.5em;}#sk-container-id-1 div.sk-estimator:hover {background-color: #d4ebff;}#sk-container-id-1 div.sk-parallel-item::after {content: \"\";width: 100%;border-bottom: 1px solid gray;flex-grow: 1;}#sk-container-id-1 div.sk-label:hover label.sk-toggleable__label {background-color: #d4ebff;}#sk-container-id-1 div.sk-serial::before {content: \"\";position: absolute;border-left: 1px solid gray;box-sizing: border-box;top: 0;bottom: 0;left: 50%;z-index: 0;}#sk-container-id-1 div.sk-serial {display: flex;flex-direction: column;align-items: center;background-color: white;padding-right: 0.2em;padding-left: 0.2em;position: relative;}#sk-container-id-1 div.sk-item {position: relative;z-index: 1;}#sk-container-id-1 div.sk-parallel {display: flex;align-items: stretch;justify-content: center;background-color: white;position: relative;}#sk-container-id-1 div.sk-item::before, #sk-container-id-1 div.sk-parallel-item::before {content: \"\";position: absolute;border-left: 1px solid gray;box-sizing: border-box;top: 0;bottom: 0;left: 50%;z-index: -1;}#sk-container-id-1 div.sk-parallel-item {display: flex;flex-direction: column;z-index: 1;position: relative;background-color: white;}#sk-container-id-1 div.sk-parallel-item:first-child::after {align-self: flex-end;width: 50%;}#sk-container-id-1 div.sk-parallel-item:last-child::after {align-self: flex-start;width: 50%;}#sk-container-id-1 div.sk-parallel-item:only-child::after {width: 0;}#sk-container-id-1 div.sk-dashed-wrapped {border: 1px dashed gray;margin: 0 0.4em 0.5em 0.4em;box-sizing: border-box;padding-bottom: 0.4em;background-color: white;}#sk-container-id-1 div.sk-label label {font-family: monospace;font-weight: bold;display: inline-block;line-height: 1.2em;}#sk-container-id-1 div.sk-label-container {text-align: center;}#sk-container-id-1 div.sk-container {/* jupyter's `normalize.less` sets `[hidden] { display: none; }` but bootstrap.min.css set `[hidden] { display: none !important; }` so we also need the `!important` here to be able to override the default hidden behavior on the sphinx rendered scikit-learn.org. See: https://github.com/scikit-learn/scikit-learn/issues/21755 */display: inline-block !important;position: relative;}#sk-container-id-1 div.sk-text-repr-fallback {display: none;}</style><div id=\"sk-container-id-1\" class=\"sk-top-container\"><div class=\"sk-text-repr-fallback\"><pre>LogisticRegression()</pre><b>In a Jupyter environment, please rerun this cell to show the HTML representation or trust the notebook. <br />On GitHub, the HTML representation is unable to render, please try loading this page with nbviewer.org.</b></div><div class=\"sk-container\" hidden><div class=\"sk-item\"><div class=\"sk-estimator sk-toggleable\"><input class=\"sk-toggleable__control sk-hidden--visually\" id=\"sk-estimator-id-1\" type=\"checkbox\" checked><label for=\"sk-estimator-id-1\" class=\"sk-toggleable__label sk-toggleable__label-arrow\">LogisticRegression</label><div class=\"sk-toggleable__content\"><pre>LogisticRegression()</pre></div></div></div></div></div>"
      ],
      "text/plain": [
       "LogisticRegression()"
      ]
     },
     "execution_count": 12,
     "metadata": {},
     "output_type": "execute_result"
    }
   ],
   "source": [
    "# x_0~x4を説明変数とし、pseudo_rを重みとして、aを予測するモデルを作成する\n",
    "\n",
    "# 説明変数と目的変数\n",
    "X = np.array(df[[f'x_{i}' for i in range(5)]])  # x_0 ~ x_4\n",
    "y = np.array(df['a'])\n",
    "sample_weight = np.array(df['pseudo_sample_weight'])\n",
    "\n",
    "# モデル作成\n",
    "model = LogisticRegression()\n",
    "# model = lgb.LGBMClassifier()\n",
    "# model = HistGradientBoostingClassifier(max_iter=100)\n",
    "# model = LGBMClassifier(max_depth=5, num_leaves=31)\n",
    "# model = CatBoostClassifier(iterations=100, verbose=0)\n",
    "# model = RandomForestClassifier(n_estimators=100, max_depth=5)\n",
    "# model = SVC(kernel='rbf', C=1.0, probability=True)\n",
    "# model = lgb.LGBMClassifier(objective='multiclass', num_class=num_actions, verbose=1)\n",
    "model.fit(X, y, sample_weight=sample_weight)"
   ]
  },
  {
   "cell_type": "code",
   "execution_count": 13,
   "metadata": {},
   "outputs": [
    {
     "data": {
      "text/plain": [
       "array([[0.12273328, 0.1733627 , 0.11446115, 0.09034823, 0.10266293,\n",
       "        0.05648197, 0.10479457, 0.0938461 , 0.07998743, 0.06132165],\n",
       "       [0.06935579, 0.12850473, 0.15311006, 0.09578087, 0.11342036,\n",
       "        0.064886  , 0.07128453, 0.12436774, 0.11005795, 0.06923198],\n",
       "       [0.07021218, 0.13092849, 0.15641193, 0.09191569, 0.09704682,\n",
       "        0.05951085, 0.08936938, 0.08927335, 0.14057937, 0.07475194],\n",
       "       [0.04796592, 0.10567143, 0.16916526, 0.07703493, 0.08917362,\n",
       "        0.06995643, 0.06498505, 0.10566113, 0.17308327, 0.09730296],\n",
       "       [0.05564602, 0.03677888, 0.08168259, 0.09369834, 0.08806116,\n",
       "        0.11788666, 0.17089659, 0.07096247, 0.07248267, 0.21190462]])"
      ]
     },
     "execution_count": 13,
     "metadata": {},
     "output_type": "execute_result"
    }
   ],
   "source": [
    "# test_dataに適合させる\n",
    "pi_sasaken = model.predict_proba(test_data['x'])\n",
    "pi_sasaken[0:5]"
   ]
  },
  {
   "cell_type": "code",
   "execution_count": 14,
   "metadata": {},
   "outputs": [
    {
     "name": "stdout",
     "output_type": "stream",
     "text": [
      "ささけん割り当てによる方策報酬: 2.230\n"
     ]
    }
   ],
   "source": [
    "# 頼むいい感じになってくれ\n",
    "sasaken_pg = (pi_sasaken * q_x_a_1 + (1 - pi_sasaken) * q_x_a_0).sum(1).mean()\n",
    "print(f'ささけん割り当てによる方策報酬: {sasaken_pg:.3f}')\n",
    "# logi: 2.228\n",
    "# rf  : 2.232\n",
    "# hist: 2.1６４"
   ]
  },
  {
   "cell_type": "markdown",
   "metadata": {},
   "source": [
    "旧方策・IPS以上ランダム未満、まだまだかな、、、"
   ]
  },
  {
   "cell_type": "code",
   "execution_count": 81,
   "metadata": {},
   "outputs": [],
   "source": [
    "# 21:40"
   ]
  },
  {
   "cell_type": "code",
   "execution_count": 16,
   "metadata": {},
   "outputs": [
    {
     "data": {
      "text/plain": [
       "array([[0.13736674, 0.43436949, 0.10885978, ..., 0.05615579, 0.03296701,\n",
       "        0.01359523],\n",
       "       [0.0219956 , 0.17183978, 0.30813365, ..., 0.15408224, 0.10251753,\n",
       "        0.02186499],\n",
       "       [0.02212273, 0.1765676 , 0.31942101, ..., 0.0492648 , 0.22380467,\n",
       "        0.02726081],\n",
       "       ...,\n",
       "       [0.03312743, 0.14952296, 0.13568165, ..., 0.38256727, 0.03260991,\n",
       "        0.04633233],\n",
       "       [0.01679641, 0.08985739, 0.12538274, ..., 0.18549207, 0.1097077 ,\n",
       "        0.14796269],\n",
       "       [0.09122264, 0.04976045, 0.02654771, ..., 0.32553926, 0.00402996,\n",
       "        0.17270305]])"
      ]
     },
     "execution_count": 16,
     "metadata": {},
     "output_type": "execute_result"
    }
   ],
   "source": [
    "# シャープ化温度（小さいほど極端になる）\n",
    "temperature = 0.3\n",
    "\n",
    "# シャープ化\n",
    "sharpened = pi_sasaken ** (1 / temperature)\n",
    "\n",
    "# 行ごとに正規化（合計1にする）\n",
    "sharpened /= sharpened.sum(axis=1, keepdims=True)\n",
    "sharpened"
   ]
  },
  {
   "cell_type": "code",
   "execution_count": 17,
   "metadata": {},
   "outputs": [
    {
     "name": "stdout",
     "output_type": "stream",
     "text": [
      "ささけん割り当てによる方策報酬: 2.128\n"
     ]
    }
   ],
   "source": [
    "# 頼むいい感じになってくれ\n",
    "sharpened_pg = (sharpened * q_x_a_1 + (1 - sharpened) * q_x_a_0).sum(1).mean()\n",
    "print(f'ささけん割り当てによる方策報酬: {sharpened_pg:.3f}')\n",
    "# logi: 2.228\n",
    "# rf  : 2.232\n",
    "# hist: 2.1６４"
   ]
  },
  {
   "cell_type": "code",
   "execution_count": null,
   "metadata": {},
   "outputs": [],
   "source": []
  }
 ],
 "metadata": {
  "kernelspec": {
   "display_name": "Python 3 (ipykernel)",
   "language": "python",
   "name": "python3"
  },
  "language_info": {
   "codemirror_mode": {
    "name": "ipython",
    "version": 3
   },
   "file_extension": ".py",
   "mimetype": "text/x-python",
   "name": "python",
   "nbconvert_exporter": "python",
   "pygments_lexer": "ipython3",
   "version": "3.9.5"
  }
 },
 "nbformat": 4,
 "nbformat_minor": 4
}
