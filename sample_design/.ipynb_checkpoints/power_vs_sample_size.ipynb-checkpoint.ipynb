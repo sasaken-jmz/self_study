{
 "cells": [
  {
   "cell_type": "markdown",
   "id": "2972aa01-48ac-4706-976d-a20788189152",
   "metadata": {},
   "source": [
    "# サンプルサイズと検出力の関係可視化\n",
    "\n",
    "参考: [サンプルサイズの決め方 (統計ライブラリー)](https://www.amazon.co.jp/%E3%82%B5%E3%83%B3%E3%83%97%E3%83%AB%E3%82%B5%E3%82%A4%E3%82%BA%E3%81%AE%E6%B1%BA%E3%82%81%E6%96%B9-%E7%B5%B1%E8%A8%88%E3%83%A9%E3%82%A4%E3%83%96%E3%83%A9%E3%83%AA%E3%83%BC-%E6%B0%B8%E7%94%B0-%E9%9D%96/dp/4254126654)"
   ]
  },
  {
   "cell_type": "markdown",
   "id": "3da94119-1224-40d3-a599-efcececdbd86",
   "metadata": {},
   "source": [
    "## モジュールインポート"
   ]
  },
  {
   "cell_type": "code",
   "execution_count": 63,
   "id": "bfdf7931-3992-4b39-adfe-8d1a9f95ff75",
   "metadata": {},
   "outputs": [],
   "source": [
    "import numpy as np\n",
    "import pandas as pd\n",
    "import matplotlib.pyplot as plt\n",
    "import japanize_matplotlib\n",
    "import matplotlib.ticker as ticker\n",
    "from statsmodels.stats.power import TTestIndPower\n",
    "from scipy.stats import ttest_ind\n",
    "from tqdm import tqdm"
   ]
  },
  {
   "cell_type": "markdown",
   "id": "fa57a58f-1a9b-4d6f-90e7-b69afd1e6a85",
   "metadata": {},
   "source": [
    "## シミュレーション"
   ]
  },
  {
   "cell_type": "markdown",
   "id": "1f94ffca-5e26-463c-b544-97244cbe0974",
   "metadata": {},
   "source": [
    "### データ生成"
   ]
  },
  {
   "cell_type": "code",
   "execution_count": 17,
   "id": "90f4dc5e-da16-4fd8-a1d0-6b81445341c0",
   "metadata": {},
   "outputs": [],
   "source": [
    "def generate_data(random_seed: int, tr_mu: float, cr_mu: float, sigma: float, data_size: int):\n",
    "    '''サンプルサイズ設計対象となるデータを作成する\n",
    "    Args:\n",
    "        random_seed (int)  : 乱数のシード値\n",
    "        tr_mu       (float): Treatment群の平均値\n",
    "        cr_mu       (float): Control群の平均値\n",
    "        sigma       (float): 各群の分散（等分散を仮定）\n",
    "        data_size   (int)  : データの行数\n",
    "\n",
    "    Returns:\n",
    "        tr_data: Treatment群のデータ\n",
    "        cr_data: Control群のデータ\n",
    "    '''\n",
    "    # シード値固定\n",
    "    random_seed = random_seed\n",
    "    np.random.seed(random_seed)\n",
    "    \n",
    "    # データ生成\n",
    "    tr_data = np.random.normal(tr_mu, tr_sigma, data_size)\n",
    "    cr_data = np.random.normal(cr_mu, cr_sigma, data_size)\n",
    "\n",
    "    return tr_data, cr_data"
   ]
  },
  {
   "cell_type": "markdown",
   "id": "f008e327-7c3d-430c-82e7-f4f4ec5aed2d",
   "metadata": {},
   "source": [
    "### サンプルサイズ vs 検出力取得"
   ]
  },
  {
   "cell_type": "code",
   "execution_count": 43,
   "id": "2796522b-23bd-43c3-936f-e0759a01956f",
   "metadata": {},
   "outputs": [],
   "source": [
    "def return_power_by_sample_size(sample_size: int, alpha: float, n_trials: int):\n",
    "    '''サンプルサイズ設計対象となるデータより、サンプルサイズと検出力の関係を得る\n",
    "    Args:\n",
    "        sample_size(int)  : サンプルサイズ\n",
    "        alpha      (float): 有意水準\n",
    "        n_trials   (int)  : シミュレーション繰り返し回数\n",
    "\n",
    "    Returns:\n",
    "        power: 検出力\n",
    "    '''\n",
    "    significant_list = []\n",
    "    for i in range(n_trials):\n",
    "        tr_data, cr_data = generate_data(random_seed=i, tr_mu=2.1, cr_mu=2.0, sigma=0.5, data_size=sample_size)\n",
    "        t_stat, p_value = ttest_ind(tr_data, cr_data, equal_var=True, alternative='greater')\n",
    "        if p_value < alpha:\n",
    "            significant_flag = 1\n",
    "        else:\n",
    "            significant_flag = 0\n",
    "        significant_list.append(significant_flag)\n",
    "    power = np.array(significant_list).mean()\n",
    "\n",
    "    return power"
   ]
  },
  {
   "cell_type": "markdown",
   "id": "3100c5ad-c8ab-417b-aea1-b7b55b12a665",
   "metadata": {},
   "source": [
    "### サンプルサイズ vs 検出力描画"
   ]
  },
  {
   "cell_type": "code",
   "execution_count": null,
   "id": "3829dbe3-4301-4bd0-aa93-d2dcfc892e47",
   "metadata": {},
   "outputs": [],
   "source": [
    "sample_size_list = list(range(100, 901, 100))\n",
    "n_trials = 300\n",
    "\n",
    "alpha = 0.05\n",
    "power_at_alpha_005_list = []\n",
    "for sample_size in sample_size_list:\n",
    "    power = return_power_by_sample_size(sample_size=sample_size, alpha=alpha, n_trials=n_trials)\n",
    "    power_at_alpha_005_list.append(power)\n",
    "\n",
    "alpha = 0.01\n",
    "power_at_alpha_001_list = []\n",
    "for sample_size in sample_size_list:\n",
    "    power = return_power_by_sample_size(sample_size=sample_size, alpha=alpha, n_trials=n_trials)\n",
    "    power_at_alpha_001_list.append(power)\n",
    "\n",
    "alpha = 0.1\n",
    "power_at_alpha_010_list = []\n",
    "for sample_size in sample_size_list:\n",
    "    power = return_power_by_sample_size(sample_size=sample_size, alpha=alpha, n_trials=n_trials)\n",
    "    power_at_alpha_010_list.append(power)\n",
    "\n",
    "plt.figure(figsize=(8, 6))\n",
    "\n",
    "plt.axhline(y=1.0, color='lightgray', linestyle='solid')\n",
    "plt.axhline(y=0.9, color='lightgray', linestyle='dashed')\n",
    "plt.axhline(y=0.8, color='lightgray', linestyle='dashed')\n",
    "\n",
    "plt.plot(sample_size_list, power_at_alpha_010_list, marker='o', label='α=0.10', color='navy', linestyle='dotted', alpha=0.5)\n",
    "plt.plot(sample_size_list, power_at_alpha_005_list, marker='o', label='α=0.05', color='navy')\n",
    "plt.plot(sample_size_list, power_at_alpha_001_list, marker='o', label='α=0.01', color='navy', linestyle='dashed', alpha=0.5)\n",
    "\n",
    "plt.title('サンプルサイズ vs 検出力')\n",
    "plt.xlabel('サンプルサイズ')\n",
    "plt.ylabel('検出力')\n",
    "plt.xlim(0, sample_size_list[-1]*1.2)\n",
    "plt.ylim(0, 1.1)\n",
    "plt.yticks(np.arange(0, 1.1, 0.1))\n",
    "plt.gca().xaxis.set_major_formatter(ticker.FuncFormatter(lambda x, _: f'{int(x):,}'))\n",
    "\n",
    "plt.text(sample_size_list[-1]+30, power_at_alpha_010_list[-1]+0.05, '..:有意水準:10%', color='navy', va='bottom', ha='left', fontsize=8, alpha=0.5)\n",
    "plt.text(sample_size_list[-1]+30, power_at_alpha_005_list[-1],      '- :有意水準: 5%', color='navy', va='bottom', ha='left', fontsize=8)\n",
    "plt.text(sample_size_list[-1]+30, power_at_alpha_001_list[-1]-0.05, '--:有意水準: 1%', color='navy', va='bottom', ha='left', fontsize=8, alpha=0.5)\n",
    "plt.show()"
   ]
  },
  {
   "cell_type": "code",
   "execution_count": null,
   "id": "b5420262-5b6f-4e4e-8e56-4009c22d3cf8",
   "metadata": {},
   "outputs": [],
   "source": []
  }
 ],
 "metadata": {
  "kernelspec": {
   "display_name": "Python 3 (ipykernel)",
   "language": "python",
   "name": "python3"
  },
  "language_info": {
   "codemirror_mode": {
    "name": "ipython",
    "version": 3
   },
   "file_extension": ".py",
   "mimetype": "text/x-python",
   "name": "python",
   "nbconvert_exporter": "python",
   "pygments_lexer": "ipython3",
   "version": "3.9.5"
  }
 },
 "nbformat": 4,
 "nbformat_minor": 5
}
