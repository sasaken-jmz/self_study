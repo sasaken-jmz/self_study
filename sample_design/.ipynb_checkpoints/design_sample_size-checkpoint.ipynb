{
 "cells": [
  {
   "cell_type": "markdown",
   "id": "047f098c-88ad-4ba4-b71f-5c22169a736b",
   "metadata": {},
   "source": [
    "# サンプルサイズ設計"
   ]
  },
  {
   "cell_type": "markdown",
   "id": "d24052f5-7930-4dc4-b6d3-a5b48e26d6bd",
   "metadata": {},
   "source": [
    "## モジュールインポート"
   ]
  },
  {
   "cell_type": "code",
   "execution_count": 11,
   "id": "cc1537b8-0b7d-4b1c-9503-a587b91b1626",
   "metadata": {},
   "outputs": [],
   "source": [
    "import numpy as np\n",
    "import pandas as pd\n",
    "from statsmodels.stats.power import TTestIndPower\n",
    "from scipy.stats import ttest_ind\n",
    "from tqdm import tqdm"
   ]
  },
  {
   "cell_type": "markdown",
   "id": "b6215b10-a9c1-4980-96cc-2a0fcb8a6047",
   "metadata": {},
   "source": [
    "## サンプルサイズ設計の1例を計算してみる"
   ]
  },
  {
   "cell_type": "code",
   "execution_count": 35,
   "id": "2d4b73ce-5365-4bfd-9da7-fb86b2297ef2",
   "metadata": {},
   "outputs": [
    {
     "name": "stdout",
     "output_type": "stream",
     "text": [
      "必要なサンプルサイズ: 69.20\n"
     ]
    }
   ],
   "source": [
    "# パラメータ設定\n",
    "mu1 = 15                          # 1群の平均\n",
    "mu2 = 10                          # 2群の平均\n",
    "sigma = 10                        # 1群・2群の標準偏差\n",
    "effect_size = (mu1 - mu2) / sigma # 効果量: Cohen's d\n",
    "alpha = 0.05                      # 有意水準\n",
    "power = 0.9                       # 検出力\n",
    "\n",
    "# サンプルサイズの計算\n",
    "analysis = TTestIndPower()\n",
    "sample_size = analysis.solve_power(effect_size=effect_size, alpha=alpha, power=power, alternative='larger')\n",
    "\n",
    "print(f\"必要なサンプルサイズ: {sample_size:.2f}\")"
   ]
  },
  {
   "cell_type": "markdown",
   "id": "34e81388-1cf4-4bb4-9bac-2d7f2243609d",
   "metadata": {},
   "source": [
    "## 上記サンプルサイズ設計の結果をもとに、データ生成->検定を行なって意図通りの検出力になっているか確認を行う"
   ]
  },
  {
   "cell_type": "code",
   "execution_count": 42,
   "id": "8e56d8c8-03d3-48ce-bd9d-e277a823c3f5",
   "metadata": {},
   "outputs": [
    {
     "name": "stderr",
     "output_type": "stream",
     "text": [
      "100%|█████████████████████████████████████████████████████████████████████████████████████| 10000/10000 [00:02<00:00, 4769.82it/s]"
     ]
    },
    {
     "name": "stdout",
     "output_type": "stream",
     "text": [
      "有意と判定している割合: 0.891\n"
     ]
    },
    {
     "name": "stderr",
     "output_type": "stream",
     "text": [
      "\n"
     ]
    }
   ],
   "source": [
    "# シミュレーション用設定\n",
    "n = 69               # データのサイズ\n",
    "p_value_thres = 0.05 # 有意水準\n",
    "n_trials = 10000     # 試行回数\n",
    "\n",
    "# パラメータ設定\n",
    "mu1   = 15      # 1群の真の平均\n",
    "mu2   = 10      # 2群の真の平均\n",
    "sigma = 10      # 1・2群の真の標準偏差\n",
    "\n",
    "significant_list = []\n",
    "for i in tqdm(range(n_trials)):\n",
    "    significant_flag = 0\n",
    "    np.random.seed(i) # ランダムシード\n",
    "    # データ生成\n",
    "    data1 = np.random.normal(loc=mu1, scale=sigma, size=n)\n",
    "    data2 = np.random.normal(loc=mu2, scale=sigma, size=n)\n",
    "    \n",
    "    # t検定を実施\n",
    "    t_stat, p_value = ttest_ind(data1, data2, equal_var=True, alternative='greater')  # 等分散を仮定\n",
    "    \n",
    "    if p_value < p_value_thres:\n",
    "        significant_flag = 1\n",
    "    significant_list.append(significant_flag)\n",
    "significant_ratio = np.array(significant_list).mean()\n",
    "print(f'有意と判定している割合: {significant_ratio:,.3f}')"
   ]
  },
  {
   "cell_type": "markdown",
   "id": "e43ce53f-1ea5-4331-baf3-268b9a5c4a5a",
   "metadata": {},
   "source": [
    "意図通り検出力が約90%になっている"
   ]
  },
  {
   "cell_type": "markdown",
   "id": "05230e07-d207-4947-9ace-ea0397936ec2",
   "metadata": {},
   "source": [
    "## 標準偏差を過小に見積もった場合どうなるか実験"
   ]
  },
  {
   "cell_type": "code",
   "execution_count": 39,
   "id": "0d3b4573-b993-4b0b-90b4-16fbffd15885",
   "metadata": {},
   "outputs": [
    {
     "name": "stdout",
     "output_type": "stream",
     "text": [
      "必要なサンプルサイズ: 34.27\n"
     ]
    }
   ],
   "source": [
    "# パラメータ設定\n",
    "mu1 = 15                          # 1群の平均\n",
    "mu2 = 10                          # 2群の平均\n",
    "sigma = 7                         # 1群・2群の標準偏差\n",
    "effect_size = (mu1 - mu2) / sigma # 効果量: Cohen's d\n",
    "alpha = 0.05                      # 有意水準\n",
    "power = 0.9                       # 検出力\n",
    "\n",
    "# サンプルサイズの計算\n",
    "analysis = TTestIndPower()\n",
    "sample_size = analysis.solve_power(effect_size=effect_size, alpha=alpha, power=power, alternative='larger')\n",
    "\n",
    "print(f\"必要なサンプルサイズ: {sample_size:.2f}\")"
   ]
  },
  {
   "cell_type": "code",
   "execution_count": 43,
   "id": "766a73c0-f7ff-439e-80d7-007dccba53b1",
   "metadata": {},
   "outputs": [
    {
     "name": "stderr",
     "output_type": "stream",
     "text": [
      "100%|█████████████████████████████████████████████████████████████████████████████████████| 10000/10000 [00:02<00:00, 4911.04it/s]"
     ]
    },
    {
     "name": "stdout",
     "output_type": "stream",
     "text": [
      "有意と判定している割合: 0.657\n"
     ]
    },
    {
     "name": "stderr",
     "output_type": "stream",
     "text": [
      "\n"
     ]
    }
   ],
   "source": [
    "# シミュレーション用設定\n",
    "n = 34               # データのサイズ\n",
    "p_value_thres = 0.05 # 有意水準\n",
    "n_trials = 10000     # 試行回数\n",
    "\n",
    "# パラメータ設定\n",
    "mu1   = 15      # 1群の真の平均\n",
    "mu2   = 10      # 2群の真の平均\n",
    "sigma = 10      # 1・2群の真の標準偏差: 上記サンプルサイズ設計では「7」と過小に見積もっているという設定\n",
    "\n",
    "significant_list = []\n",
    "for i in tqdm(range(n_trials)):\n",
    "    significant_flag = 0\n",
    "    np.random.seed(i) # ランダムシード\n",
    "    # データ生成\n",
    "    data1 = np.random.normal(loc=mu1, scale=sigma, size=n)\n",
    "    data2 = np.random.normal(loc=mu2, scale=sigma, size=n)\n",
    "    \n",
    "    # t検定を実施\n",
    "    t_stat, p_value = ttest_ind(data1, data2, equal_var=True, alternative='greater')  # 等分散を仮定\n",
    "    \n",
    "    if p_value < p_value_thres:\n",
    "        significant_flag = 1\n",
    "    significant_list.append(significant_flag)\n",
    "significant_ratio = np.array(significant_list).mean()\n",
    "print(f'有意と判定している割合: {significant_ratio:,.3f}')"
   ]
  },
  {
   "cell_type": "markdown",
   "id": "3dcba7b1-9165-46cd-b3ed-94148870b8f4",
   "metadata": {},
   "source": [
    "検出力90%のつもりが、約66%になってしまっている"
   ]
  },
  {
   "cell_type": "code",
   "execution_count": null,
   "id": "2bc93715-896e-457c-bec5-17b958c68ee0",
   "metadata": {},
   "outputs": [],
   "source": []
  }
 ],
 "metadata": {
  "kernelspec": {
   "display_name": "Python 3 (ipykernel)",
   "language": "python",
   "name": "python3"
  },
  "language_info": {
   "codemirror_mode": {
    "name": "ipython",
    "version": 3
   },
   "file_extension": ".py",
   "mimetype": "text/x-python",
   "name": "python",
   "nbconvert_exporter": "python",
   "pygments_lexer": "ipython3",
   "version": "3.9.5"
  }
 },
 "nbformat": 4,
 "nbformat_minor": 5
}
