{
 "cells": [
  {
   "cell_type": "markdown",
   "id": "b5e2e77b-13a6-48c2-bf7b-3ccdc71280c0",
   "metadata": {},
   "source": [
    "# LATE推定量向け検定シミュレーション・サンプルサイズ設計"
   ]
  },
  {
   "cell_type": "markdown",
   "id": "687dc68b-8b8f-4604-a9b5-d4085718702c",
   "metadata": {},
   "source": [
    "## モジュールインポート"
   ]
  },
  {
   "cell_type": "code",
   "execution_count": 7,
   "id": "a58cbea6-4bd0-4d68-871e-4410f8807164",
   "metadata": {},
   "outputs": [],
   "source": [
    "import numpy as np\n",
    "import pandas as pd\n",
    "from scipy import stats\n",
    "from statsmodels.api import OLS, add_constant\n",
    "from statsmodels.stats.weightstats import ttest_ind\n",
    "from tqdm import tqdm"
   ]
  },
  {
   "cell_type": "code",
   "execution_count": 17,
   "id": "dff1f862-4178-48d7-9fa6-7209cfae5e4a",
   "metadata": {},
   "outputs": [
    {
     "name": "stderr",
     "output_type": "stream",
     "text": [
      "100%|██████████████████████████████████████████████████████████████████████████████████████| 10000/10000 [00:11<00:00, 856.88it/s]"
     ]
    },
    {
     "name": "stdout",
     "output_type": "stream",
     "text": [
      "有意と判定している割合: 0.963\n"
     ]
    },
    {
     "name": "stderr",
     "output_type": "stream",
     "text": [
      "\n"
     ]
    }
   ],
   "source": [
    "# シミュレーション用のデータを作成\n",
    "n = 100              # データのサイズ\n",
    "p_value_thres = 0.05 # 有意水準\n",
    "n_trials = 10000     # 試行回数\n",
    "\n",
    "significant_list = []\n",
    "for i in tqdm(range(n_trials)):\n",
    "    significant_flag = 0\n",
    "    np.random.seed(i) # ランダムシード\n",
    "\n",
    "    # ツール変数Z (0 or 1, ランダムに生成)\n",
    "    Z = np.random.choice([0, 1], size=N)\n",
    "    \n",
    "    # 処置変数D: Zに応じて多少の影響を受ける（例：コンプライアンス率が0.7）\n",
    "    compliance_rate = 0.3\n",
    "    D = (Z * compliance_rate + np.random.normal(0.5, 0.5, size=N)).round().clip(0, 1)\n",
    "    \n",
    "    # アウトカム変数Y: LATEの影響をシミュレート\n",
    "    true_LATE = 2  # 真のLATE値\n",
    "    Y = true_LATE * D + np.random.normal(0, 1, size=N)\n",
    "    \n",
    "    # データをまとめる\n",
    "    data = pd.DataFrame({'Z': Z, 'D': D, 'Y': Y})\n",
    "    \n",
    "    # 条件付き期待値を計算\n",
    "    mean_Y_Z1 = data.loc[data['Z'] == 1, 'Y'].mean()\n",
    "    mean_Y_Z0 = data.loc[data['Z'] == 0, 'Y'].mean()\n",
    "    mean_D_Z1 = data.loc[data['Z'] == 1, 'D'].mean()\n",
    "    mean_D_Z0 = data.loc[data['Z'] == 0, 'D'].mean()\n",
    "    \n",
    "    # LATE推定量\n",
    "    estimated_LATE = (mean_Y_Z1 - mean_Y_Z0) / (mean_D_Z1 - mean_D_Z0)\n",
    "    \n",
    "    # 標準誤差の計算\n",
    "    var_Y_Z1 = data.loc[data['Z'] == 1, 'Y'].var()\n",
    "    var_Y_Z0 = data.loc[data['Z'] == 0, 'Y'].var()\n",
    "    var_D_Z1 = data.loc[data['Z'] == 1, 'D'].var()\n",
    "    var_D_Z0 = data.loc[data['Z'] == 0, 'D'].var()\n",
    "    \n",
    "    SE_LATE = np.sqrt(\n",
    "        (var_Y_Z1 / len(data[data['Z'] == 1]) + var_Y_Z0 / len(data[data['Z'] == 0])) / (mean_D_Z1 - mean_D_Z0)**2 +\n",
    "        (mean_Y_Z1 - mean_Y_Z0)**2 *\n",
    "        (var_D_Z1 / len(data[data['Z'] == 1]) + var_D_Z0 / len(data[data['Z'] == 0])) / (mean_D_Z1 - mean_D_Z0)**4\n",
    "    )\n",
    "    \n",
    "    # t統計量の計算\n",
    "    t_stat = estimated_LATE / SE_LATE\n",
    "    # p_value = 2 * (1 - stats.t.cdf(np.abs(t_stat), df=N-2))  # 両側検定\n",
    "    p_value = 1 - stats.t.cdf(t_stat, df=N-2)  # 片側検定 (LATE > 0)\n",
    "    \n",
    "    if p_value < p_value_thres:\n",
    "        significant_flag = 1\n",
    "    significant_list.append(significant_flag)\n",
    "significant_ratio = np.array(significant_list).mean()\n",
    "print(f'有意と判定している割合: {significant_ratio:,.3f}')"
   ]
  },
  {
   "cell_type": "markdown",
   "id": "dab78a82-5ad1-49cf-9289-f470c9746a51",
   "metadata": {},
   "source": [
    "- compliance_rate = 0.2 -> 0.686\n",
    "- compliance_rate = 0.3 -> 0.963"
   ]
  },
  {
   "cell_type": "code",
   "execution_count": null,
   "id": "af29522c-1cb5-4569-9b33-7e6deb940f1f",
   "metadata": {},
   "outputs": [],
   "source": []
  }
 ],
 "metadata": {
  "kernelspec": {
   "display_name": "Python 3 (ipykernel)",
   "language": "python",
   "name": "python3"
  },
  "language_info": {
   "codemirror_mode": {
    "name": "ipython",
    "version": 3
   },
   "file_extension": ".py",
   "mimetype": "text/x-python",
   "name": "python",
   "nbconvert_exporter": "python",
   "pygments_lexer": "ipython3",
   "version": "3.9.5"
  }
 },
 "nbformat": 4,
 "nbformat_minor": 5
}
