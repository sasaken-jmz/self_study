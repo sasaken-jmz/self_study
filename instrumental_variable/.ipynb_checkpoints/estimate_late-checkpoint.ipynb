{
 "cells": [
  {
   "cell_type": "markdown",
   "id": "22b99c4f-429f-40f6-96f4-12420b320aa3",
   "metadata": {},
   "source": [
    "# LATE推定"
   ]
  },
  {
   "cell_type": "markdown",
   "id": "e9b4443e-415c-4e59-a7b0-77c5e763cca1",
   "metadata": {},
   "source": [
    "## セッティング\n",
    "- ECサイトにて、とある施策が実施されていたとする\n",
    "  - そのキャンペーンの効果検証をしたいが、施策対象者はランダムに割り当てられておらず、効果検証が難しい\n",
    "- そこで、施策の訴求方法を工夫することで効果検証が可能かどうかの検証を行う\n",
    "  - 施策の訴求方法の工夫: 訴求方法を2種類用意し、どちらの方法で訴求されるかはユーザーごとにランダムで割り当てる\n",
    "    - Treatment: 画面Aと画面Bの両方で訴求が行われる\n",
    "    - Contorl  : 画面Aのみで訴求が行われる\n",
    "- 検証の流れ\n",
    "  - 訴求の工夫を行わない状態での効果検証\n",
    "    - 効果検証①: バナーを見た人と見ていない人の購入有無を比較する（単純比較）\n",
    "    - 効果検証②: バナーを見た人と見ていない人の購入有無を比較する(傾向スコアマッチング)\n",
    "  - 訴求の工夫を行った状態での効果検証\n",
    "    - 効果検証①: バナーを見た人と見ていない人の購入有無を比較する（単純比較）\n",
    "    - 効果検証②: バナーを見た人と見ていない人の購入有無を比較する(傾向スコアマッチング)\n",
    "    - 効果検証③: 施策訴求方法に工夫ありきの状態でLATE推定を行い、施策認知による購入への効果を推定する\n",
    "  - 総括"
   ]
  },
  {
   "cell_type": "markdown",
   "id": "f1c25b24-22b3-4cee-9f38-48fd65a17002",
   "metadata": {},
   "source": [
    "## モジュールインポート"
   ]
  },
  {
   "cell_type": "code",
   "execution_count": 212,
   "id": "d207f1b1-8dcf-4286-97aa-bc9fa956826d",
   "metadata": {},
   "outputs": [],
   "source": [
    "import numpy as np\n",
    "import pandas as pd\n",
    "from sklearn.linear_model import LogisticRegression\n",
    "import matplotlib.pyplot as plt\n",
    "import japanize_matplotlib\n",
    "from tqdm import tqdm"
   ]
  },
  {
   "cell_type": "markdown",
   "id": "d299c46c-1ae5-4432-8fa5-5c2a8eaa14fe",
   "metadata": {},
   "source": [
    "## 関数定義"
   ]
  },
  {
   "cell_type": "markdown",
   "id": "ea0526b9-ad73-4c00-bab8-de0111b39bec",
   "metadata": {},
   "source": [
    "データ生成とLATE推定のコードはうとしんさんの[こちらの記事](!https://qiita.com/s1ok69oo/items/d9f3a3860388f3b9911d)を参考にさせていただきました"
   ]
  },
  {
   "cell_type": "code",
   "execution_count": 213,
   "id": "0bf57f6e-9e48-43f2-8781-181c6bdbc0f1",
   "metadata": {},
   "outputs": [],
   "source": [
    "def generate_plain_data(random_seed: int, data_size: int):\n",
    "    '''効果検証対象となるデータを作成する(施策訴求方法に工夫なし)\n",
    "\n",
    "    Args:\n",
    "        random_seed (int): 乱数のシード値\n",
    "        data_size   (int): データの行数\n",
    "\n",
    "    Returns:\n",
    "        df: 効果検証対象となるデータフレーム\n",
    "            ├X1: 特徴量1（サイト回遊意欲・購入意欲の高さを示す交絡因子）\n",
    "            ├X2: 特徴量2（サイト回遊意欲・購入意欲の高さを示す交絡因子）\n",
    "            ├X3: 特徴量3（サイト回遊意欲・購入意欲の高さとは関係ない交絡因子でないもの）\n",
    "            ├Z : バナー訴求対象（この状態では全員1）\n",
    "            ├D : バナー閲覧有無\n",
    "            └Y : 購入有無\n",
    "    '''\n",
    "\n",
    "    np.random.seed(random_seed)\n",
    "    size = data_size\n",
    "    \n",
    "    # サイト回遊意欲・購入意欲の高さ: X0・X1・X2が存在し、X0は未観測とする\n",
    "    X0 = np.random.uniform(0, 5, size=size)\n",
    "    X1 = np.random.uniform(0, 5, size=size)\n",
    "    X2 = np.random.uniform(0, 5, size=size)\n",
    "    # サイト回遊意欲・購入意欲の高さとは関係ない観測可能な特徴量X3を設定する\n",
    "    X3 = np.random.uniform(0, 5, size=size)\n",
    "    \n",
    "    # バナー訴求: 訴求の工夫を行わない = 全員画面Aのみで訴求が行われるものとする\n",
    "    Z = np.array([])\n",
    "    for i in range(size):\n",
    "        Z_i = 1\n",
    "        Z = np.append(Z, Z_i)  \n",
    "    \n",
    "    # 施策認知確率: サイト回遊意欲・購入意欲とバナーの影響で施策認知確率も高くなるものとする\n",
    "    d_prob = (X0 + X1 + X2) / 30 + 0.1*Z + np.random.uniform(-0.01, 0.01, size=size) # バナーによる施策認知への効果: 0.1\n",
    "    d_prob = np.clip(d_prob, 0, 1)\n",
    "    D = np.array([])\n",
    "    for i in range(size):\n",
    "        D_i = np.random.choice(2, size=1, p=[1-d_prob[i], d_prob[i]])[0]\n",
    "        D = np.append(D, D_i)\n",
    "    \n",
    "    # 購入の有無: サイト回遊意欲・購入意欲が高いほど、購入確率も高く、また施策認知により購入確率が上がるものとする\n",
    "    y_prob = (X0 + X1 + X2) / 30 + np.random.uniform(-0.01, 0.01, size=size) + 0.15*D # 施策認知による購入への効果: 0.15\n",
    "    y_prob = np.clip(y_prob, 0, 1)\n",
    "    Y = np.array([])\n",
    "    for i in range(size):\n",
    "        Y_i = np.random.choice(2, size=1, p=[1-y_prob[i], y_prob[i]])[0]\n",
    "        Y = np.append(Y, Y_i)\n",
    "    \n",
    "    df = pd.DataFrame({'X1':X1, 'X2':X2, 'X3':X3, 'Z':Z, 'D':D, 'Y': Y}).astype('float')\n",
    "    return df"
   ]
  },
  {
   "cell_type": "code",
   "execution_count": 214,
   "id": "9368ef79-17b3-4c31-8db3-53de36de8cb7",
   "metadata": {},
   "outputs": [],
   "source": [
    "def diff_Y_from_calculate_simple_difference(df: pd.DataFrame):\n",
    "    '''効果検証①: バナーを見た人と見ていない人の購入有無を比較する（単純比較）\n",
    "    \n",
    "    Args:\n",
    "        df(pd.DataFrame): 効果検証対象となるデータフレーム\n",
    "\n",
    "    Returns:\n",
    "        diff_Y: 購入率差分\n",
    "\n",
    "    '''\n",
    "    # バナーを見た人と見ていない人\n",
    "    banner_imp_df = df[df['D']==1]\n",
    "    banner_no_imp_df = df[df['D']==0]\n",
    "    \n",
    "    # 購入有無比較\n",
    "    banner_imp_Y_average = banner_imp_df['Y'].mean()\n",
    "    banner_no_imp_Y_average = banner_no_imp_df['Y'].mean()\n",
    "    diff_Y = banner_imp_Y_average - banner_no_imp_Y_average\n",
    "\n",
    "    return diff_Y"
   ]
  },
  {
   "cell_type": "code",
   "execution_count": 215,
   "id": "947bdd4b-c4c0-475b-a995-4f8a15d290c0",
   "metadata": {},
   "outputs": [],
   "source": [
    "def diff_Y_from_ps_score_matching(df: pd.DataFrame):\n",
    "    '''効果検証②: バナーを見た人と見ていない人の購入有無を比較する(傾向スコアマッチング)\n",
    "    \n",
    "    Args:\n",
    "        df(pd.DataFrame): 効果検証対象となるデータフレーム\n",
    "\n",
    "    Returns:\n",
    "        diff_Y: 購入率差分\n",
    "\n",
    "    '''\n",
    "    # 傾向スコア推定モデル\n",
    "    model = LogisticRegression()\n",
    "    model.fit(df[['X1', 'X2', 'X3']], df['D']) # X3を交絡因子と勘違いしているという設定\n",
    "    pred_pscore = model.predict_proba(df[['X1', 'X2', 'X3']])[:, 1]\n",
    "    df['pred_pscore'] = pred_pscore\n",
    "    # マッチング\n",
    "    df_1 = df[df['D']==1]\n",
    "    df_0 = df[df['D']==0]\n",
    "    \n",
    "    pair_df_list = []\n",
    "    for row in df_1.index:\n",
    "        df_1_pscore = df_1['pred_pscore'][row]\n",
    "        abs_diff = abs(df_0['pred_pscore'] - df_1_pscore)\n",
    "    \n",
    "        nearest_index = abs_diff[abs_diff == abs_diff.min()].index\n",
    "        pair_df = df_0.loc[[nearest_index[0]]]\n",
    "        pair_df_list.append(pair_df)\n",
    "    \n",
    "    concat_pair_df = pd.concat(pair_df_list, axis=0)\n",
    "    concat_pair_df.columns = ['pair_' + col for col in concat_pair_df.columns]\n",
    "    \n",
    "    pair_1_df = df_1.reset_index(drop=True)\n",
    "    pair_0_df = concat_pair_df.reset_index(drop=True)\n",
    "    pair_df = pd.concat([pair_1_df, pair_0_df], axis=1)\n",
    "    \n",
    "    diff_Y = (pair_df['Y'] - pair_df['pair_Y']).mean()    \n",
    "\n",
    "    return diff_Y"
   ]
  },
  {
   "cell_type": "code",
   "execution_count": 216,
   "id": "5778ea06-3068-4150-b2d4-0c39c5adc1a2",
   "metadata": {},
   "outputs": [],
   "source": [
    "def generate_refined_data(random_seed: int, data_size: int):\n",
    "    '''効果検証対象となるデータを作成する(施策訴求方法に工夫あり)\n",
    "       └施策の訴求方法の工夫: 訴求方法を2種類用意し、どちらの方法で訴求されるかはユーザーごとにランダムで割り当てる\n",
    "        ├Treatment(Z=2): 画面Aと画面Bの両方で訴求が行われる\n",
    "        └Contorl  (Z=1): 画面Aのみで訴求が行われる\n",
    "    Args:\n",
    "        random_seed (int): 乱数のシード値\n",
    "        data_size   (int): データの行数\n",
    "\n",
    "    Returns:\n",
    "        df: 効果検証対象となるデータフレーム\n",
    "            ├X1: 特徴量1（サイト回遊意欲・購入意欲の高さを示す交絡因子）\n",
    "            ├X2: 特徴量2（サイト回遊意欲・購入意欲の高さを示す交絡因子）\n",
    "            ├X3: 特徴量3（サイト回遊意欲・購入意欲の高さとは関係ない交絡因子でないもの）\n",
    "            ├Z : バナー訴求対象（Treatmentは2、Controlは1）\n",
    "            ├D : バナー閲覧有無\n",
    "            └Y : 購入有無\n",
    "    '''\n",
    "\n",
    "    np.random.seed(random_seed)\n",
    "    size = data_size\n",
    "    \n",
    "    # サイト回遊意欲・購入意欲の高さ: X0・X1・X2が存在し、X0は未観測とする\n",
    "    X0 = np.random.uniform(0, 5, size=size)\n",
    "    X1 = np.random.uniform(0, 5, size=size)\n",
    "    X2 = np.random.uniform(0, 5, size=size)\n",
    "    # サイト回遊意欲・購入意欲の高さとは関係ない観測可能な特徴量X3を設定する\n",
    "    X3 = np.random.uniform(0, 5, size=size)\n",
    "    \n",
    "    # バナー訴求: ランダムで訴求2パターンが割り当てられるものとする（Treatmentは2、Controlは1）\n",
    "    Z = np.array([])\n",
    "    for i in range(size):\n",
    "        Z_i = np.random.choice(2, size=1, p=[0.5, 0.5])[0] + 1\n",
    "        Z = np.append(Z, Z_i)  \n",
    "    \n",
    "    # 施策認知確率: サイト回遊意欲・購入意欲とバナーの影響で施策認知確率も高くなるものとする\n",
    "    d_prob = (X0 + X1 + X2) / 30 + 0.1*Z + np.random.uniform(-0.01, 0.01, size=size) # バナーによる施策認知への効果: Control:0.1、Treatment:0.2\n",
    "    d_prob = np.clip(d_prob, 0, 1)\n",
    "    D = np.array([])\n",
    "    for i in range(size):\n",
    "        D_i = np.random.choice(2, size=1, p=[1-d_prob[i], d_prob[i]])[0]\n",
    "        D = np.append(D, D_i)\n",
    "    \n",
    "    # 購入の有無: サイト回遊意欲・購入意欲が高いほど、購入確率も高く、また施策認知により購入確率が上がるものとする\n",
    "    y_prob = (X0 + X1 + X2) / 30 + np.random.uniform(-0.01, 0.01, size=size) + 0.15*D # 施策認知による購入への効果: 0.15\n",
    "    y_prob = np.clip(y_prob, 0, 1)\n",
    "    Y = np.array([])\n",
    "    for i in range(size):\n",
    "        Y_i = np.random.choice(2, size=1, p=[1-y_prob[i], y_prob[i]])[0]\n",
    "        Y = np.append(Y, Y_i)\n",
    "    \n",
    "    df = pd.DataFrame({'X1':X1, 'X2':X2, 'X3':X3, 'Z':Z, 'D':D, 'Y': Y}).astype('float')\n",
    "    return df"
   ]
  },
  {
   "cell_type": "code",
   "execution_count": 217,
   "id": "8e22ef6f-bdf7-4024-9de8-6e9b1f5dffef",
   "metadata": {},
   "outputs": [],
   "source": [
    "def diff_Y_from_calculate_late(df: pd.DataFrame):\n",
    "    '''効果検証③: 施策訴求方法に工夫ありきの状態でLATE推定を行い、施策認知による購入への効果を推定する\n",
    "    \n",
    "    Args:\n",
    "        df(pd.DataFrame): 効果検証対象となるデータフレーム\n",
    "\n",
    "    Returns:\n",
    "        diff_Y: 購入率差分\n",
    "\n",
    "    '''\n",
    "    E_Y_Z_1 = df[df['Z']==2]['Y'].mean()\n",
    "    E_Y_Z_0 = df[df['Z']==1]['Y'].mean()\n",
    "    E_D_Z_1 = df[df['Z']==2]['D'].mean()\n",
    "    E_D_Z_0 = df[df['Z']==1]['D'].mean()\n",
    "    late = (E_Y_Z_1 - E_Y_Z_0) / (E_D_Z_1 - E_D_Z_0)\n",
    "    \n",
    "    diff_Y = late\n",
    "\n",
    "    return diff_Y"
   ]
  },
  {
   "cell_type": "code",
   "execution_count": 218,
   "id": "1afde069-f3ef-48b8-8723-3917af474e72",
   "metadata": {},
   "outputs": [],
   "source": [
    "# シミュレーション回数とデータの行数を指定する\n",
    "n_trials = 300\n",
    "data_size = 10000"
   ]
  },
  {
   "cell_type": "markdown",
   "id": "68df8b03-d4a5-42bf-bbb2-5bd24fb922d3",
   "metadata": {},
   "source": [
    "## 訴求の工夫を行わない状態での効果検証"
   ]
  },
  {
   "cell_type": "code",
   "execution_count": 219,
   "id": "3b3f137f-dc17-4aee-abe2-09983b39eb5d",
   "metadata": {},
   "outputs": [],
   "source": [
    "# 手法間比較のために各手法により算出した購入率差分を格納するリストを生成\n",
    "avg_diff_Y_list = []\n",
    "std_diff_Y_list = []"
   ]
  },
  {
   "cell_type": "markdown",
   "id": "a5d68f24-97b0-4731-95fc-e01e5b06447b",
   "metadata": {},
   "source": [
    "### 効果検証①: バナーを見た人と見ていない人の購入有無を比較する（単純比較）"
   ]
  },
  {
   "cell_type": "code",
   "execution_count": null,
   "id": "f8349ffe-e15b-473d-b3fa-160cbab4ea2e",
   "metadata": {},
   "outputs": [
    {
     "name": "stderr",
     "output_type": "stream",
     "text": [
      "  8%|██████▋                                                                                | 23/300 [00:05<01:04,  4.30it/s]"
     ]
    }
   ],
   "source": [
    "diff_Y_list = []\n",
    "for i in tqdm(range(n_trials)):\n",
    "    df = generate_plain_data(random_seed=i, data_size=data_size)\n",
    "    # 単純比較による購入率差分\n",
    "    diff_Y = diff_Y_from_calculate_simple_difference(df)\n",
    "    diff_Y_list.append(diff_Y)\n",
    "\n",
    "# ヒストグラムをプロット\n",
    "plt.hist(diff_Y_list, bins=10, edgecolor='black')\n",
    "plt.title('効果検証①: バナーを見た人と見ていない人の購入有無を比較する（単純比較）')\n",
    "plt.xlabel('推定購入率差分（真の値は0.15）')\n",
    "plt.ylabel('頻度')\n",
    "plt.show()\n",
    "avg_diff_Y = np.array(diff_Y_list).mean()\n",
    "std_diff_Y = np.array(diff_Y_list).std()\n",
    "avg_diff_Y_list.append(avg_diff_Y)\n",
    "std_diff_Y_list.append(std_diff_Y)\n",
    "print(f'単純比較による購入率差分平均   : {avg_diff_Y:,.3f}')\n",
    "print(f'単純比較による購入率差分標準偏差: {std_diff_Y:,.3f}')"
   ]
  },
  {
   "cell_type": "markdown",
   "id": "8d58a89c-3192-441c-92a1-914d7159ccb6",
   "metadata": {},
   "source": [
    "### 効果検証②: バナーを見た人と見ていない人の購入有無を比較する(傾向スコアマッチング)"
   ]
  },
  {
   "cell_type": "code",
   "execution_count": null,
   "id": "71752bb8-2b5c-4f1e-a235-b14f557ffd38",
   "metadata": {},
   "outputs": [],
   "source": [
    "diff_Y_list = []\n",
    "for i in tqdm(range(n_trials)):\n",
    "    df = generate_plain_data(random_seed=i, data_size=data_size)\n",
    "    # 傾向スコアマッチングによる購入率差分\n",
    "    diff_Y = diff_Y_from_ps_score_matching(df)\n",
    "    diff_Y_list.append(diff_Y)\n",
    "\n",
    "# ヒストグラムをプロット\n",
    "plt.hist(diff_Y_list, bins=10, edgecolor='black')\n",
    "plt.title('効果検証②: バナーを見た人と見ていない人の購入有無を比較する(傾向スコアマッチング)')\n",
    "plt.xlabel('推定購入率差分（真の値は0.15）')\n",
    "plt.ylabel('頻度')\n",
    "plt.show()\n",
    "avg_diff_Y = np.array(diff_Y_list).mean()\n",
    "std_diff_Y = np.array(diff_Y_list).std()\n",
    "avg_diff_Y_list.append(avg_diff_Y)\n",
    "std_diff_Y_list.append(std_diff_Y)\n",
    "print(f'傾向スコアマッチング比較による購入率差分平均   : {avg_diff_Y:,.3f}')\n",
    "print(f'傾向スコアマッチング比較による購入率差分標準偏差: {std_diff_Y:,.3f}')"
   ]
  },
  {
   "cell_type": "markdown",
   "id": "6887090f-2348-416f-8d7c-a2351eac60cd",
   "metadata": {},
   "source": [
    "### 各効果検証手法で算出した購入率差分を比較する"
   ]
  },
  {
   "cell_type": "code",
   "execution_count": null,
   "id": "42324526-34ed-4bc6-a623-b90683937b31",
   "metadata": {},
   "outputs": [],
   "source": [
    "# 凡例を設定\n",
    "categories = ['①単純比較', '②傾向スコアマッチング']\n",
    "\n",
    "# 箱ひげ図のデータ生成（平均値 ± 標準偏差）\n",
    "box_data = [\n",
    "    [avg - std, avg, avg + std] for avg, std in zip(avg_diff_Y_list, std_diff_Y_list)\n",
    "]\n",
    "\n",
    "# 比較結果を描画\n",
    "plt.figure(figsize=(8, 5))\n",
    "# 点とエラーバーを描画\n",
    "plt.errorbar(\n",
    "    categories,\n",
    "    avg_diff_Y_list,\n",
    "    yerr=std_diff_Y_list,\n",
    "    fmt='o',  # 点のマーカー\n",
    "    color='blue',  # 点の色\n",
    "    ecolor='gray',  # エラーバーの色\n",
    "    elinewidth=2,  # エラーバーの線幅\n",
    "    capsize=5,  # エラーバーの端の長さ\n",
    "    label='Mean ± Std Dev'\n",
    ")\n",
    "plt.axhline(y=0.15, color='red', linestyle='--', label='treatment effect')\n",
    "plt.title('各効果検証手法で算出した購入率差分')\n",
    "plt.ylabel('購入率差分（真の値は0.15）')\n",
    "plt.grid(axis='y', linestyle='--', alpha=0.7)\n",
    "plt.legend()\n",
    "plt.ylim(0, 0.3)\n",
    "plt.show()"
   ]
  },
  {
   "cell_type": "markdown",
   "id": "3cfb9ece-7db7-4e8e-8eaf-3619c3625fae",
   "metadata": {},
   "source": [
    "## 訴求の工夫を行った状態での効果検証"
   ]
  },
  {
   "cell_type": "code",
   "execution_count": null,
   "id": "967c7607-0236-4867-b379-8db09de8535f",
   "metadata": {},
   "outputs": [],
   "source": [
    "# 手法間比較のために各手法により算出した購入率差分を格納するリストを生成\n",
    "avg_diff_Y_list = []\n",
    "std_diff_Y_list = []"
   ]
  },
  {
   "cell_type": "markdown",
   "id": "8b35b1d6-e52f-49ab-8295-b9360ae05f76",
   "metadata": {},
   "source": [
    "### 効果検証①: バナーを見た人と見ていない人の購入有無を比較する（単純比較）"
   ]
  },
  {
   "cell_type": "code",
   "execution_count": null,
   "id": "4ca764a5-dbde-4549-9771-23201dfd04fe",
   "metadata": {},
   "outputs": [],
   "source": [
    "diff_Y_list = []\n",
    "for i in tqdm(range(n_trials)):\n",
    "    df = generate_refined_data(random_seed=i, data_size=data_size)\n",
    "    # 単純比較による購入率差分\n",
    "    diff_Y = diff_Y_from_calculate_simple_difference(df)\n",
    "    diff_Y_list.append(diff_Y)\n",
    "\n",
    "# ヒストグラムをプロット\n",
    "plt.hist(diff_Y_list, bins=10, edgecolor='black')\n",
    "plt.title('効果検証①: バナーを見た人と見ていない人の購入有無を比較する（単純比較）')\n",
    "plt.xlabel('推定購入率差分（真の値は0.15）')\n",
    "plt.ylabel('頻度')\n",
    "plt.show()\n",
    "avg_diff_Y = np.array(diff_Y_list).mean()\n",
    "std_diff_Y = np.array(diff_Y_list).std()\n",
    "avg_diff_Y_list.append(avg_diff_Y)\n",
    "std_diff_Y_list.append(std_diff_Y)\n",
    "print(f'単純比較による購入率差分平均   : {avg_diff_Y:,.3f}')\n",
    "print(f'単純比較による購入率差分標準偏差: {std_diff_Y:,.3f}')"
   ]
  },
  {
   "cell_type": "markdown",
   "id": "05465c45-6128-4fb2-ac69-b10474a5a93a",
   "metadata": {},
   "source": [
    "### 効果検証②: バナーを見た人と見ていない人の購入有無を比較する(傾向スコアマッチング)"
   ]
  },
  {
   "cell_type": "code",
   "execution_count": null,
   "id": "b92f5657-30a9-4182-bfd0-1d9abf33371e",
   "metadata": {},
   "outputs": [],
   "source": [
    "diff_Y_list = []\n",
    "for i in tqdm(range(n_trials)):\n",
    "    df = generate_refined_data(random_seed=i, data_size=data_size)\n",
    "    # 傾向スコアマッチングによる購入率差分\n",
    "    diff_Y = diff_Y_from_ps_score_matching(df)\n",
    "    diff_Y_list.append(diff_Y)\n",
    "\n",
    "# ヒストグラムをプロット\n",
    "plt.hist(diff_Y_list, bins=10, edgecolor='black')\n",
    "plt.title('効果検証②: バナーを見た人と見ていない人の購入有無を比較する(傾向スコアマッチング)')\n",
    "plt.xlabel('推定購入率差分（真の値は0.15）')\n",
    "plt.ylabel('頻度')\n",
    "plt.show()\n",
    "avg_diff_Y = np.array(diff_Y_list).mean()\n",
    "std_diff_Y = np.array(diff_Y_list).std()\n",
    "avg_diff_Y_list.append(avg_diff_Y)\n",
    "std_diff_Y_list.append(std_diff_Y)\n",
    "print(f'傾向スコアマッチング比較による購入率差分平均   : {avg_diff_Y:,.3f}')\n",
    "print(f'傾向スコアマッチング比較による購入率差分標準偏差: {std_diff_Y:,.3f}')"
   ]
  },
  {
   "cell_type": "markdown",
   "id": "6f6ce4cd-af33-4ef8-a089-669775d81b16",
   "metadata": {},
   "source": [
    "### 効果検証③: 施策訴求方法に工夫ありきの状態でLATE推定を行い、施策認知による購入への効果を推定する"
   ]
  },
  {
   "cell_type": "code",
   "execution_count": null,
   "id": "bb3ede3e-ca62-4015-914b-bf48589e432b",
   "metadata": {},
   "outputs": [],
   "source": [
    "diff_Y_list = []\n",
    "for i in tqdm(range(n_trials)):\n",
    "    df = generate_refined_data(random_seed=i, data_size=data_size)\n",
    "    # 傾向スコアマッチングによる購入率差分\n",
    "    diff_Y = diff_Y_from_calculate_late(df)\n",
    "    diff_Y_list.append(diff_Y)\n",
    "\n",
    "# ヒストグラムをプロット\n",
    "plt.hist(diff_Y_list, bins=10, edgecolor='black')\n",
    "plt.title('効果検証③: LATE推定')\n",
    "plt.xlabel('推定購入率差分（真の値は0.15）')\n",
    "plt.ylabel('頻度')\n",
    "plt.show()\n",
    "avg_diff_Y = np.array(diff_Y_list).mean()\n",
    "std_diff_Y = np.array(diff_Y_list).std()\n",
    "avg_diff_Y_list.append(avg_diff_Y)\n",
    "std_diff_Y_list.append(std_diff_Y)\n",
    "print(f'LATE推定による購入率差分平均   : {avg_diff_Y:,.3f}')\n",
    "print(f'LATE推定による購入率差分標準偏差: {std_diff_Y:,.3f}')"
   ]
  },
  {
   "cell_type": "markdown",
   "id": "2c444d3c-1e3c-42c1-a428-5adea0973199",
   "metadata": {},
   "source": [
    "### 各効果検証手法で算出した購入率差分を比較する"
   ]
  },
  {
   "cell_type": "code",
   "execution_count": null,
   "id": "8e08f178-9f5a-4a45-9bf8-88b86460ccbc",
   "metadata": {},
   "outputs": [],
   "source": [
    "# 凡例を設定\n",
    "categories = ['①単純比較', '②傾向スコアマッチング', '③LATE推定']\n",
    "\n",
    "# 箱ひげ図のデータ生成（平均値 ± 標準偏差）\n",
    "box_data = [\n",
    "    [avg - std, avg, avg + std] for avg, std in zip(avg_diff_Y_list, std_diff_Y_list)\n",
    "]\n",
    "\n",
    "# 比較結果を描画\n",
    "plt.figure(figsize=(8, 5))\n",
    "# 点とエラーバーを描画\n",
    "plt.errorbar(\n",
    "    categories,\n",
    "    avg_diff_Y_list,\n",
    "    yerr=std_diff_Y_list,\n",
    "    fmt='o',  # 点のマーカー\n",
    "    color='blue',  # 点の色\n",
    "    ecolor='gray',  # エラーバーの色\n",
    "    elinewidth=2,  # エラーバーの線幅\n",
    "    capsize=5,  # エラーバーの端の長さ\n",
    "    label='Mean ± Std Dev'\n",
    ")\n",
    "plt.axhline(y=0.15, color='red', linestyle='--', label='treatment effect')\n",
    "plt.title('各効果検証手法で算出した購入率差分')\n",
    "plt.ylabel('購入率差分（真の値は0.15）')\n",
    "plt.grid(axis='y', linestyle='--', alpha=0.7)\n",
    "plt.legend()\n",
    "plt.ylim(0, 0.3)\n",
    "plt.show()"
   ]
  },
  {
   "cell_type": "markdown",
   "id": "1968ea43-9e82-48f8-bb92-d6d7a7635abd",
   "metadata": {},
   "source": [
    "## 総括"
   ]
  },
  {
   "cell_type": "markdown",
   "id": "ab0e267a-6473-4629-91b5-e569265b0cad",
   "metadata": {},
   "source": [
    "#### 訴求の工夫を行わない状態\n",
    "| 効果検証手法 | バイアス | バリアンス |\n",
    "|---------|:---------:|:---------:|\n",
    "| ①単純比較 | × | ○ |\n",
    "| ②傾向スコアマッチング | △ | △ |\n",
    "\n",
    "#### 訴求の工夫を行った状態\n",
    "| 効果検証手法 | バイアス | バリアンス |\n",
    "|---------|:---------:|:---------:|\n",
    "| ①単純比較 | × | ○ |\n",
    "| ②傾向スコアマッチング | △ | △ |\n",
    "| ③LATE推定 | ○ | × |"
   ]
  },
  {
   "cell_type": "code",
   "execution_count": null,
   "id": "129e4966-a8e8-41a4-adf8-60f8195d4e00",
   "metadata": {},
   "outputs": [],
   "source": []
  }
 ],
 "metadata": {
  "kernelspec": {
   "display_name": "Python 3 (ipykernel)",
   "language": "python",
   "name": "python3"
  },
  "language_info": {
   "codemirror_mode": {
    "name": "ipython",
    "version": 3
   },
   "file_extension": ".py",
   "mimetype": "text/x-python",
   "name": "python",
   "nbconvert_exporter": "python",
   "pygments_lexer": "ipython3",
   "version": "3.9.5"
  }
 },
 "nbformat": 4,
 "nbformat_minor": 5
}
