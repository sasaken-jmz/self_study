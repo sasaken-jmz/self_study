{
 "cells": [
  {
   "cell_type": "markdown",
   "id": "22b99c4f-429f-40f6-96f4-12420b320aa3",
   "metadata": {},
   "source": [
    "# LATE推定_分散削減"
   ]
  },
  {
   "cell_type": "markdown",
   "id": "e9b4443e-415c-4e59-a7b0-77c5e763cca1",
   "metadata": {},
   "source": [
    "## セッティング\n",
    "- 前提\n",
    "    - ECサイトにて、とあるエントリー制の施策が実施されており、下記のようにランダムでTr・Crが割り当てられて訴求されているものとする\n",
    "        - Treatment: 画面内で訴求が行われる\n",
    "        - Contorl  : 訴求が行われない"
   ]
  },
  {
   "cell_type": "markdown",
   "id": "f1c25b24-22b3-4cee-9f38-48fd65a17002",
   "metadata": {},
   "source": [
    "## モジュールインポート"
   ]
  },
  {
   "cell_type": "code",
   "execution_count": 138,
   "id": "d207f1b1-8dcf-4286-97aa-bc9fa956826d",
   "metadata": {},
   "outputs": [],
   "source": [
    "import numpy as np\n",
    "import pandas as pd\n",
    "from sklearn.linear_model import LogisticRegression\n",
    "import matplotlib.pyplot as plt\n",
    "import japanize_matplotlib\n",
    "from tqdm import tqdm\n",
    "from linearmodels.iv import IV2SLS"
   ]
  },
  {
   "cell_type": "markdown",
   "id": "d299c46c-1ae5-4432-8fa5-5c2a8eaa14fe",
   "metadata": {},
   "source": [
    "## 関数定義"
   ]
  },
  {
   "cell_type": "markdown",
   "id": "ea0526b9-ad73-4c00-bab8-de0111b39bec",
   "metadata": {},
   "source": [
    "データ生成とLATE推定のコードはうとしんさんの[こちらの記事](https://qiita.com/s1ok69oo/items/d9f3a3860388f3b9911d)を参考にさせていただきました"
   ]
  },
  {
   "cell_type": "code",
   "execution_count": 139,
   "id": "d7fe4190-4224-474d-a939-36d13668235a",
   "metadata": {},
   "outputs": [],
   "source": [
    "def generate_data(random_seed: int, data_size: int):\n",
    "    '''効果検証対象となるデータを作成する\n",
    "       └施策の訴求: 訴求有無を設定し、ユーザーごとにランダムでどちらかを割り当てる\n",
    "        ├Treatment(T=1): 訴求が行われる\n",
    "        └Contorl  (T=0): 訴求が行われない\n",
    "    Args:\n",
    "        random_seed (int): 乱数のシード値\n",
    "        data_size   (int): データの行数\n",
    "\n",
    "    Returns:\n",
    "        df: 効果検証対象となるデータフレーム\n",
    "            ├X: 特徴量（サイト回遊意欲・購入意欲の高さを示す交絡因子）\n",
    "            ├Z : バナー訴求有無（Treatmentは1、Controlは0）\n",
    "            ├D : バナー閲覧有無\n",
    "            └Y : 購入有無\n",
    "    '''\n",
    "\n",
    "    np.random.seed(random_seed)\n",
    "    size = data_size\n",
    "    \n",
    "    # サイト回遊意欲・購入意欲の高さ: X0は未観測で、X0とX1によって効果修飾が行われるものとする\n",
    "    X0 = np.random.uniform(0, 5, size=size)\n",
    "    X1 = np.random.uniform(0, 5, size=size)\n",
    "    X2 = np.random.uniform(0, 5, size=size)\n",
    "    \n",
    "    # 訴求有無: ランダムで訴求2パターンが割り当てられるものとする（Treatmentは1、Controlは0）\n",
    "    Z = np.array([])\n",
    "    for i in range(size):\n",
    "        Z_i = np.random.choice(2, size=1, p=[0.5, 0.5])[0]\n",
    "        Z = np.append(Z, Z_i)\n",
    "    \n",
    "    # バナー閲覧確率: サイト回遊意欲・購入意欲とバナーの影響で施策認知確率も高くなるものとする\n",
    "    # d_prob = (X0 + X1 + X2) / 30 + 0.1 * Z + np.random.uniform(-0.03, 0.03, size=size) # バナーによる施策認知への効果: 0.1\n",
    "    d_prob = (X0 + X1 + X2) / 30 + 0.3 * Z # バナーによる施策認知への効果: 0.3\n",
    "    d_prob = np.clip(d_prob, 0, 1)\n",
    "    D = np.array([])\n",
    "    for i in range(size):\n",
    "        D_i = np.random.choice(2, size=1, p=[1-d_prob[i], d_prob[i]])[0]\n",
    "        D = np.append(D, D_i)\n",
    "\n",
    "    # 購入の有無: サイト回遊意欲・購入意欲が高いほど、購入確率も高く、またバナー閲覧により購入確率が上がるものとする\n",
    "    # y_prob = (X0 + X1 + X2) / 30 + np.random.uniform(-0.05, 0.05, size=size)\n",
    "    y_prob = (X0 + X1 + X2) / 30\n",
    "    y_prob = np.clip(y_prob, 0, 1)\n",
    "    Y0 = np.array([])\n",
    "    for i in range(size):\n",
    "        Y_i = np.random.choice(2, size=1, p=[1-y_prob[i], y_prob[i]])[0]\n",
    "        Y0 = np.append(Y0, Y_i)\n",
    "\n",
    "    # y_prob = (X0 + X1 + X2) / 30 + np.random.uniform(-0.05, 0.05, size=size) + 0.15 * D # バナー閲覧による購入への効果: 0.15 x [0.0~1.5]\n",
    "    y_prob = (X0 + X1 + X2) / 30 + 0.3 * D # バナー閲覧による購入への効果: 0.3 x [0.0~1.5]\n",
    "    y_prob = np.clip(y_prob, 0, 1)\n",
    "    Y1 = np.array([])\n",
    "    for i in range(size):\n",
    "        Y_i = np.random.choice(2, size=1, p=[1-y_prob[i], y_prob[i]])[0]\n",
    "        Y1 = np.append(Y1, Y_i)\n",
    "    \n",
    "    df = pd.DataFrame({'X0': X0, 'X1': X1, 'X2': X2, 'Z': Z, 'D': D, 'Y0': Y0, 'Y1': Y1}).astype('float')\n",
    "    df['Y'] = df['D'] * df['Y1'] + (1-df['D']) * df['Y0']\n",
    "    \n",
    "    return df"
   ]
  },
  {
   "cell_type": "code",
   "execution_count": 140,
   "id": "0bf57f6e-9e48-43f2-8781-181c6bdbc0f1",
   "metadata": {},
   "outputs": [],
   "source": [
    "def generate_hte_data(random_seed: int, data_size: int):\n",
    "    '''効果検証対象となるデータを作成する\n",
    "       └施策の訴求: 訴求有無を設定し、ユーザーごとにランダムでどちらかを割り当てる\n",
    "        ├Treatment(T=1): 訴求が行われる\n",
    "        └Contorl  (T=0): 訴求が行われない\n",
    "    Args:\n",
    "        random_seed (int): 乱数のシード値\n",
    "        data_size   (int): データの行数\n",
    "\n",
    "    Returns:\n",
    "        df: 効果検証対象となるデータフレーム\n",
    "            ├X: 特徴量（サイト回遊意欲・購入意欲の高さを示す交絡因子）\n",
    "            ├Z : バナー訴求有無（Treatmentは1、Controlは0）\n",
    "            ├D : バナー閲覧有無\n",
    "            └Y : 購入有無\n",
    "    '''\n",
    "\n",
    "    np.random.seed(random_seed)\n",
    "    size = data_size\n",
    "    \n",
    "    # サイト回遊意欲・購入意欲の高さ: X0は未観測で、X0とX1によって効果修飾が行われるものとする\n",
    "    X0 = np.random.uniform(0, 5, size=size)\n",
    "    X1 = np.random.uniform(0, 5, size=size)\n",
    "    X2 = np.random.uniform(0, 5, size=size)\n",
    "    \n",
    "    # 訴求有無: ランダムで訴求2パターンが割り当てられるものとする（Treatmentは1、Controlは0）\n",
    "    Z = np.array([])\n",
    "    for i in range(size):\n",
    "        Z_i = np.random.choice(2, size=1, p=[0.5, 0.5])[0]\n",
    "        Z = np.append(Z, Z_i)\n",
    "    \n",
    "    # バナー閲覧確率: サイト回遊意欲・購入意欲とバナーの影響で施策認知確率も高くなるものとする\n",
    "    d_prob = (X0 + X1 + X2) / 30 + 0.1 * Z + np.random.uniform(-0.03, 0.03, size=size) # バナーによる施策認知への効果: 0.1\n",
    "    d_prob = np.clip(d_prob, 0, 1)\n",
    "    D = np.array([])\n",
    "    for i in range(size):\n",
    "        D_i = np.random.choice(2, size=1, p=[1-d_prob[i], d_prob[i]])[0]\n",
    "        D = np.append(D, D_i)\n",
    "\n",
    "    # 購入の有無: サイト回遊意欲・購入意欲が高いほど、購入確率も高く、またバナー閲覧により購入確率が上がるものとする\n",
    "    # y_prob = (X0 + X1 + X2) / 30 + np.random.uniform(-0.05, 0.05, size=size)\n",
    "    y_prob = (X0 + X1 + X2) / 30\n",
    "    y_prob = np.clip(y_prob, 0, 1)\n",
    "    Y0 = np.array([])\n",
    "    for i in range(size):\n",
    "        Y_i = np.random.choice(2, size=1, p=[1-y_prob[i], y_prob[i]])[0]\n",
    "        Y0 = np.append(Y0, Y_i)\n",
    "\n",
    "    # y_prob = (X0 + X1 + X2) / 30 + np.random.uniform(-0.05, 0.05, size=size) + 0.15 * D * ((X0 + X1)/10) # バナー閲覧による購入への効果: 0.15 x [0.0~1.5]\n",
    "    y_prob = (X0 + X1 + X2) / 30 + 0.15 * D * ((X0 + X1)/10) # バナー閲覧による購入への効果: 0.15 x [0.0~1.5]\n",
    "    y_prob = np.clip(y_prob, 0, 1)\n",
    "    Y1 = np.array([])\n",
    "    for i in range(size):\n",
    "        Y_i = np.random.choice(2, size=1, p=[1-y_prob[i], y_prob[i]])[0]\n",
    "        Y1 = np.append(Y1, Y_i)\n",
    "    \n",
    "    df = pd.DataFrame({'X0': X0, 'X1': X1, 'X2': X2, 'Z': Z, 'D': D, 'Y0': Y0, 'Y1': Y1}).astype('float')\n",
    "    df['Y'] = df['D'] * df['Y1'] + (1-df['D']) * df['Y0']\n",
    "    \n",
    "    return df"
   ]
  },
  {
   "cell_type": "code",
   "execution_count": 141,
   "id": "310a2a42-4e47-4a2c-975e-d8f571e9ae2e",
   "metadata": {},
   "outputs": [],
   "source": [
    "def calculate_true_late(df: pd.DataFrame):\n",
    "    '''真のLATEを算出\n",
    "    \n",
    "    Args:\n",
    "        df(pd.DataFrame): 効果検証対象となるデータフレーム\n",
    "\n",
    "    Returns:\n",
    "        true_late\n",
    "\n",
    "    '''\n",
    "    true_late = (df[df['D']==1]['Y1'] - df[df['D']==1]['Y0']).mean()\n",
    "    \n",
    "    return true_late"
   ]
  },
  {
   "cell_type": "code",
   "execution_count": 142,
   "id": "b1ecde01-593a-4f6c-899f-b062b069a525",
   "metadata": {},
   "outputs": [],
   "source": [
    "def calculate_late_estimator(df: pd.DataFrame):\n",
    "    '''LATE推定量を算出\n",
    "    \n",
    "    Args:\n",
    "        df(pd.DataFrame): 効果検証対象となるデータフレーム\n",
    "\n",
    "    Returns:\n",
    "        late_estimator\n",
    "\n",
    "    '''\n",
    "    E_Y_Z_1 = df[df['Z']==1]['Y'].mean()\n",
    "    E_Y_Z_0 = df[df['Z']==0]['Y'].mean()\n",
    "    E_D_Z_1 = df[df['Z']==1]['D'].mean()\n",
    "    E_D_Z_0 = df[df['Z']==0]['D'].mean()\n",
    "    late_estimator = (E_Y_Z_1 - E_Y_Z_0) / (E_D_Z_1 - E_D_Z_0)\n",
    "\n",
    "    return late_estimator"
   ]
  },
  {
   "cell_type": "code",
   "execution_count": 143,
   "id": "73e37abe-a9ff-48f1-92f7-135226691d49",
   "metadata": {},
   "outputs": [],
   "source": [
    "def calculate_iv_estimator(df: pd.DataFrame):\n",
    "    '''操作変数推定量を算出\n",
    "    \n",
    "    Args:\n",
    "        df(pd.DataFrame): 効果検証対象となるデータフレーム\n",
    "\n",
    "    Returns:\n",
    "        iv_estimator\n",
    "\n",
    "    '''\n",
    "    average_z = df['Z'].mean()\n",
    "    average_y = df['Y'].mean()\n",
    "    average_d = df['D'].mean()\n",
    "    beta_hat_1_iv = np.sum((df['Z'] - average_z) * (df['Y'] - average_y)) / np.sum((df['Z'] - average_z) * (df['D'] - average_d))\n",
    "    iv_estimator = beta_hat_1_iv\n",
    "    \n",
    "    return iv_estimator"
   ]
  },
  {
   "cell_type": "markdown",
   "id": "cb213fac-581a-4f99-ab8b-cfd64276fc9d",
   "metadata": {},
   "source": [
    "## LATE推定量（と操作変数推定量）のシミュレーションを行う"
   ]
  },
  {
   "cell_type": "code",
   "execution_count": null,
   "id": "01b5241f-e062-468e-8f17-e537bbdab7d3",
   "metadata": {},
   "outputs": [
    {
     "name": "stderr",
     "output_type": "stream",
     "text": [
      " 21%|██████████████████████▎                                                                                   | 21/100 [00:08<00:33,  2.36it/s]"
     ]
    }
   ],
   "source": [
    "data_size = 10000\n",
    "n_trials = 100\n",
    "\n",
    "true_late_list = []\n",
    "late_estimator_list = []\n",
    "iv_estimator_list = []\n",
    "for i in tqdm(range(n_trials)):\n",
    "    df = generate_data(random_seed=i, data_size=data_size)\n",
    "    true_late = calculate_true_late(df)\n",
    "    true_late_list.append(true_late)\n",
    "    late_estimator = calculate_late_estimator(df)\n",
    "    late_estimator_list.append(late_estimator)\n",
    "    iv_estimator = calculate_iv_estimator(df)\n",
    "    iv_estimator_list.append(iv_estimator)\n",
    "\n",
    "# 算出LATEの平均・標準偏差を取得する\n",
    "avg_list = []\n",
    "avg_list.append(np.mean(true_late_list))\n",
    "avg_list.append(np.mean(late_estimator_list))\n",
    "avg_list.append(np.mean(iv_estimator_list))\n",
    "std_list = []\n",
    "std_list.append(np.std(true_late_list))\n",
    "std_list.append(np.std(late_estimator_list))\n",
    "std_list.append(np.std(iv_estimator_list))\n",
    "\n",
    "# 凡例を設定\n",
    "categories = ['①真のLATE', '②LATE推定量', '③操作変数推定量', '④', '⑤']\n",
    "categories = categories[0: len(avg_list)]\n",
    "\n",
    "# 比較結果を描画\n",
    "plt.figure(figsize=(4, 4))\n",
    "# 点とエラーバーを描画\n",
    "plt.errorbar(\n",
    "    categories,\n",
    "    avg_list,\n",
    "    yerr=std_list,\n",
    "    fmt='o',  # 点のマーカー\n",
    "    color='blue',  # 点の色\n",
    "    ecolor='gray',  # エラーバーの色\n",
    "    elinewidth=2,  # エラーバーの線幅\n",
    "    capsize=5,  # エラーバーの端の長さ\n",
    "    label='Mean ± Std Dev'\n",
    ")\n",
    "plt.title('推定量比較')\n",
    "plt.ylabel('推定量')\n",
    "plt.grid(axis='y', linestyle='--', alpha=0.7)\n",
    "plt.legend()\n",
    "plt.ylim(0, 0.5)\n",
    "plt.show()"
   ]
  },
  {
   "cell_type": "markdown",
   "id": "58448885-ddab-4369-bd7c-ab10992c608e",
   "metadata": {},
   "source": [
    "## ライブラリで計算してみる: 説明変数Xの情報を入れることで分散削減できるのでは？"
   ]
  },
  {
   "cell_type": "code",
   "execution_count": null,
   "id": "edb7285a-2256-43b5-beab-7ed31d0efe5e",
   "metadata": {},
   "outputs": [],
   "source": [
    "data_size = 10000\n",
    "n_trials = 100\n",
    "\n",
    "true_late_list = []\n",
    "late_estimator_list = []\n",
    "ivmodule_estimator_list = []\n",
    "for i in tqdm(range(n_trials)):\n",
    "    df = generate_data(random_seed=i, data_size=data_size)\n",
    "    true_late = calculate_true_late(df)\n",
    "    true_late_list.append(true_late)\n",
    "    late_estimator = calculate_late_estimator(df)\n",
    "    late_estimator_list.append(late_estimator)\n",
    "    iv = IV2SLS.from_formula(\"Y ~ 1 + X0 + X1 + X2 [D ~ Z]\", df).fit()\n",
    "    ivmodule_estimator = iv.params['D']\n",
    "    ivmodule_estimator_list.append(ivmodule_estimator)\n",
    "\n",
    "# 算出LATEの平均・標準偏差を取得する\n",
    "avg_list = []\n",
    "avg_list.append(np.mean(true_late_list))\n",
    "avg_list.append(np.mean(late_estimator_list))\n",
    "avg_list.append(np.mean(ivmodule_estimator_list))\n",
    "std_list = []\n",
    "std_list.append(np.std(true_late_list))\n",
    "std_list.append(np.std(late_estimator_list))\n",
    "std_list.append(np.std(ivmodule_estimator_list))\n",
    "\n",
    "# 凡例を設定\n",
    "categories = ['①真のLATE', '②LATE推定量', '③X入り操作変数推定量', '④', '⑤']\n",
    "categories = categories[0: len(avg_list)]\n",
    "\n",
    "# 比較結果を描画\n",
    "plt.figure(figsize=(6, 4))\n",
    "# 点とエラーバーを描画\n",
    "plt.errorbar(\n",
    "    categories,\n",
    "    avg_list,\n",
    "    yerr=std_list,\n",
    "    fmt='o',  # 点のマーカー\n",
    "    color='blue',  # 点の色\n",
    "    ecolor='gray',  # エラーバーの色\n",
    "    elinewidth=2,  # エラーバーの線幅\n",
    "    capsize=5,  # エラーバーの端の長さ\n",
    "    label='Mean ± Std Dev'\n",
    ")\n",
    "plt.title('推定量比較')\n",
    "plt.ylabel('推定量')\n",
    "plt.grid(axis='y', linestyle='--', alpha=0.7)\n",
    "plt.legend()\n",
    "plt.ylim(0, 0.5)\n",
    "plt.show()"
   ]
  },
  {
   "cell_type": "markdown",
   "id": "427a38d2-e2f1-4090-a0f6-4d2a5abcf03a",
   "metadata": {},
   "source": [
    "Xを使っても分散削減は難しかったのか？"
   ]
  },
  {
   "cell_type": "markdown",
   "id": "f52c8654-e3fc-49e6-96f3-a2fd08413d1c",
   "metadata": {},
   "source": [
    "## 分散の計算を行なってみる"
   ]
  },
  {
   "cell_type": "markdown",
   "id": "9bb248f3-4b0e-44c8-97ff-0e9b1bc984bf",
   "metadata": {},
   "source": [
    "### LATE推定量"
   ]
  },
  {
   "cell_type": "code",
   "execution_count": null,
   "id": "7c6ca70e-90ad-4466-b8e5-4878b9484ac8",
   "metadata": {},
   "outputs": [],
   "source": [
    "data_size = 10000\n",
    "n_trials = 100\n",
    "se_list = []\n",
    "for i in tqdm(range(n_trials)):\n",
    "    df = generate_data(random_seed=i, data_size=data_size)\n",
    "    true_late = calculate_true_late(df)\n",
    "    # print(f'真のLATE: {true_late}')\n",
    "    late_estimator = calculate_late_estimator(df)\n",
    "    # print(f'LATE推定量: {late_estimator}')\n",
    "    # 二乗誤差: LATE推定量は不偏推定量なので、二乗誤差 = 分散\n",
    "    se = (late_estimator - true_late)**2\n",
    "    # print(f'二乗誤差: {se}')\n",
    "    se_list.append(se)\n",
    "\n",
    "# 平均二乗誤差を計算する\n",
    "mse = np.mean(se_list)\n",
    "mse"
   ]
  },
  {
   "cell_type": "markdown",
   "id": "9ec901af-b1c9-427f-be5d-38e5fd028a6d",
   "metadata": {},
   "source": [
    "### 操作変数推定量_formula改善"
   ]
  },
  {
   "cell_type": "code",
   "execution_count": null,
   "id": "34820177-ac5f-4686-a2d3-ccc375916b84",
   "metadata": {},
   "outputs": [],
   "source": [
    "data_size = 10000\n",
    "n_trials = 100\n",
    "se_list = []\n",
    "for i in tqdm(range(n_trials)):\n",
    "    df = generate_data(random_seed=i, data_size=data_size)\n",
    "    true_late = calculate_true_late(df)\n",
    "    # print(f'真のLATE: {true_late}')\n",
    "    iv = IV2SLS.from_formula(\"Y ~ 1 + X0 + X1 + X2 +[D ~ Z]\", df).fit()\n",
    "    ivmodule_estimator = iv.params['D']\n",
    "    # print(f'LATE推定量: {late_estimator}')\n",
    "    # 二乗誤差: LATE推定量は不偏推定量なので、二乗誤差 = 分散\n",
    "    se = (ivmodule_estimator - true_late)**2\n",
    "    # print(f'二乗誤差: {se}')\n",
    "    se_list.append(se)\n",
    "\n",
    "# 平均二乗誤差を計算する\n",
    "mse = np.mean(se_list)\n",
    "mse"
   ]
  },
  {
   "cell_type": "markdown",
   "id": "b9ef95ad-58d9-406f-a6e3-e39b86c6115e",
   "metadata": {},
   "source": [
    "### 操作変数推定量_formula改善②"
   ]
  },
  {
   "cell_type": "code",
   "execution_count": null,
   "id": "129e4966-a8e8-41a4-adf8-60f8195d4e00",
   "metadata": {},
   "outputs": [],
   "source": [
    "data_size = 10000\n",
    "n_trials = 100\n",
    "se_list = []\n",
    "for i in tqdm(range(n_trials)):\n",
    "    df = generate_data(random_seed=i, data_size=data_size)\n",
    "    true_late = calculate_true_late(df)\n",
    "    # print(f'真のLATE: {true_late}')\n",
    "    iv = IV2SLS.from_formula(\"Y ~ 1 + [D ~ Z+ X0 + X1 + X2]\", df).fit()\n",
    "    ivmodule_estimator = iv.params['D']\n",
    "    # print(f'LATE推定量: {late_estimator}')\n",
    "    # 二乗誤差: LATE推定量は不偏推定量なので、二乗誤差 = 分散\n",
    "    se = (ivmodule_estimator - true_late)**2\n",
    "    # print(f'二乗誤差: {se}')\n",
    "    se_list.append(se)\n",
    "\n",
    "# 平均二乗誤差を計算する\n",
    "mse = np.mean(se_list)\n",
    "mse"
   ]
  },
  {
   "cell_type": "code",
   "execution_count": null,
   "id": "dc4e8c3f-08de-4870-bfcb-bacccc3ff67f",
   "metadata": {},
   "outputs": [],
   "source": []
  },
  {
   "cell_type": "code",
   "execution_count": null,
   "id": "d7a82532-d143-4311-af22-7462edea822f",
   "metadata": {},
   "outputs": [],
   "source": []
  }
 ],
 "metadata": {
  "kernelspec": {
   "display_name": "Python 3 (ipykernel)",
   "language": "python",
   "name": "python3"
  },
  "language_info": {
   "codemirror_mode": {
    "name": "ipython",
    "version": 3
   },
   "file_extension": ".py",
   "mimetype": "text/x-python",
   "name": "python",
   "nbconvert_exporter": "python",
   "pygments_lexer": "ipython3",
   "version": "3.9.5"
  }
 },
 "nbformat": 4,
 "nbformat_minor": 5
}
