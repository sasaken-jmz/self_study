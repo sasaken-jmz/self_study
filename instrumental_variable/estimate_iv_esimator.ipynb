{
 "cells": [
  {
   "cell_type": "markdown",
   "id": "76f611a9-042e-4902-94a1-a23f59ef7048",
   "metadata": {},
   "source": [
    "# 操作変数推定量の推定\n",
    "\n",
    "参考: [計量経済学 (New Liberal Arts Selection)](https://www.amazon.co.jp/%E8%A8%88%E9%87%8F%E7%B5%8C%E6%B8%88%E5%AD%A6-New-Liberal-Arts-Selection/dp/4641053855/ref=sr_1_3?adgrpid=111764532464&dib=eyJ2IjoiMSJ9.wQjA-XsmLxKXc8ABZybC23Xra5aMTm7j0E8ZvykKfwW9j5R6Xs4hFNeNmreAbDkYWa3vuOKBh6E_akbaA4hv-Kvhva08UD3A7uMSUVgwQHtJCb_3vccGkO818r8lfH1wSKV3_IPge6JvcwjdC2L4rDwsGNnqkZd8-b8JkAsjjjYfvBLTyrG179n1D5Q9PYahLtBb7c90opKBxYDcXt_Umd8Mof09asxCWcAr2BBlb4ChsW5nzdRxc3Ov-0mBHLysojmQidaKPg6aTCECrqt7q91-VwmG-Qi7ShHj1pU-gRhmNd_is1_RrVeGe8wBGyrTH8yUBTssL9KeDZsRajsNx65RBeQLisUuF8zSQsSTxhTefEw34jQc2q1LEz91tWPJ-X7i4fwk3qHmLITkM6FjasuusnTctT9Pbx7Jmc3l4HzXVmuP4ULwGNwnXqqrq63S.asv14I1-XrVr4bA_8UVKdgQc06EZUFZ_kDq9l_Mcb3M&dib_tag=se&hvadid=679060345133&hvdev=c&hvlocphy=1009309&hvnetw=g&hvqmt=e&hvrand=9602578875003065665&hvtargid=kwd-930097394579&hydadcr=6190_13376777&jp-ad-ap=0&keywords=%E8%A8%88%E9%87%8F%E7%B5%8C%E6%B8%88%E5%AD%A6&mcid=0ac99b911d5b3cb7a4ee11cd5aee374e&qid=1737268178&sr=8-3)p274より\n",
    "\n",
    "単回帰モデルにおける操作変数推定量\n",
    "\n",
    "$$\n",
    "\\hat{\\beta}_{1,IV} = \\frac{\\sum_{i=1}^N (Z_i - \\bar{Z})(Y_i - \\bar{Y})}{\\sum_{i=1}^N (Z_i - \\bar{Z})(X_i - \\bar{X})}\n",
    "$$\n",
    "\n",
    "$$\n",
    "\\hat{\\beta}_{0,IV} = \\bar{Y} - \\hat{\\beta}_{1,IV} \\bar{X}\n",
    "$$"
   ]
  },
  {
   "cell_type": "markdown",
   "id": "6fb5d9dc-2daa-4aa1-9fb5-f3eb65c1f2ea",
   "metadata": {},
   "source": [
    "## モジュールインポート"
   ]
  },
  {
   "cell_type": "code",
   "execution_count": 131,
   "id": "12c6b897-9663-4f8e-bab0-0144fbd1f229",
   "metadata": {},
   "outputs": [],
   "source": [
    "import numpy as np\n",
    "import pandas as pd\n",
    "from sklearn.linear_model import LogisticRegression\n",
    "import matplotlib.pyplot as plt\n",
    "import japanize_matplotlib\n",
    "from tqdm import tqdm\n",
    "\n",
    "from scipy import stats\n",
    "from statsmodels.api import OLS, add_constant\n",
    "from statsmodels.stats.weightstats import ttest_ind"
   ]
  },
  {
   "cell_type": "markdown",
   "id": "3df0f92d-616e-407f-bf93-51f7e85b4699",
   "metadata": {},
   "source": [
    "## 関数定義"
   ]
  },
  {
   "cell_type": "code",
   "execution_count": 132,
   "id": "dd545456-85ed-440d-9231-ab36c2ad64a0",
   "metadata": {},
   "outputs": [],
   "source": [
    "def generate_data(random_seed: int, data_size: int):\n",
    "    '''効果検証対象となるデータを作成する\n",
    "       └施策の訴求: 訴求有無を設定し、ユーザーごとにランダムでどちらかを割り当てる\n",
    "        ├Treatment(T=1): 訴求が行われる\n",
    "        └Contorl  (T=0): 訴求が行われない\n",
    "    Args:\n",
    "        random_seed (int): 乱数のシード値\n",
    "        data_size   (int): データの行数\n",
    "\n",
    "    Returns:\n",
    "        df: 効果検証対象となるデータフレーム\n",
    "            ├X: 特徴量（サイト回遊意欲・購入意欲の高さを示す交絡因子）\n",
    "            ├Z : バナー訴求有無（Treatmentは1、Controlは0）\n",
    "            ├D : バナー閲覧有無\n",
    "            └Y : 購入有無\n",
    "    '''\n",
    "\n",
    "    np.random.seed(random_seed)\n",
    "    size = data_size\n",
    "    \n",
    "    # サイト回遊意欲・購入意欲の高さ\n",
    "    X = np.random.uniform(0, 5, size=size)\n",
    "    \n",
    "    # 訴求有無: ランダムで訴求2パターンが割り当てられるものとする（Treatmentは1、Controlは0）\n",
    "    Z = np.array([])\n",
    "    for i in range(size):\n",
    "        Z_i = np.random.choice(2, size=1, p=[0.5, 0.5])[0]\n",
    "        Z = np.append(Z, Z_i)\n",
    "    \n",
    "    # バナー閲覧確率: サイト回遊意欲・購入意欲とバナーの影響で施策認知確率も高くなるものとする\n",
    "    d_prob = X / 10 + 0.1*Z + np.random.uniform(-0.04, 0.04, size=size) # バナーによる施策認知への効果: 0.1\n",
    "    d_prob = np.clip(d_prob, 0, 1)\n",
    "    D = np.array([])\n",
    "    for i in range(size):\n",
    "        D_i = np.random.choice(2, size=1, p=[1-d_prob[i], d_prob[i]])[0]\n",
    "        D = np.append(D, D_i)\n",
    "\n",
    "    # 購入の有無: サイト回遊意欲・購入意欲が高いほど、購入確率も高く、またバナー閲覧により購入確率が上がるものとする\n",
    "    y_prob = X / 10 + np.random.uniform(-0.08, 0.08, size=size) + 0.15*D # バナー閲覧による購入への効果: 0.15\n",
    "    y_prob = np.clip(y_prob, 0, 1)\n",
    "    Y = np.array([])\n",
    "    for i in range(size):\n",
    "        Y_i = np.random.choice(2, size=1, p=[1-y_prob[i], y_prob[i]])[0]\n",
    "        Y = np.append(Y, Y_i)\n",
    "    \n",
    "    df = pd.DataFrame({'X': X, 'Z': Z, 'D': D, 'Y': Y}).astype('float')\n",
    "    return df"
   ]
  },
  {
   "cell_type": "code",
   "execution_count": 133,
   "id": "d596aad7-a445-4685-b7b9-bf3ecb536d1b",
   "metadata": {},
   "outputs": [],
   "source": [
    "def calculate_late_estimator(df: pd.DataFrame):\n",
    "    '''LATE推定量を算出\n",
    "    \n",
    "    Args:\n",
    "        df(pd.DataFrame): 効果検証対象となるデータフレーム\n",
    "\n",
    "    Returns:\n",
    "        late_estimator\n",
    "\n",
    "    '''\n",
    "    E_Y_Z_1 = df[df['Z']==1]['Y'].mean()\n",
    "    E_Y_Z_0 = df[df['Z']==0]['Y'].mean()\n",
    "    E_D_Z_1 = df[df['Z']==1]['D'].mean()\n",
    "    E_D_Z_0 = df[df['Z']==0]['D'].mean()\n",
    "    late = (E_Y_Z_1 - E_Y_Z_0) / (E_D_Z_1 - E_D_Z_0)\n",
    "\n",
    "    return late_estimator"
   ]
  },
  {
   "cell_type": "code",
   "execution_count": 134,
   "id": "2e86d4dc-6ce3-4145-9779-c07909ebb67f",
   "metadata": {},
   "outputs": [],
   "source": [
    "def calculate_iv_estimator(df: pd.DataFrame):\n",
    "    '''操作変数推定量を算出\n",
    "    \n",
    "    Args:\n",
    "        df(pd.DataFrame): 効果検証対象となるデータフレーム\n",
    "\n",
    "    Returns:\n",
    "        iv_estimator\n",
    "\n",
    "    '''\n",
    "    average_z = df['Z'].mean()\n",
    "    average_y = df['Y'].mean()\n",
    "    average_d = df['D'].mean()\n",
    "    beta_hat_1_iv = np.sum((df['Z'] - average_z) * (df['Y'] - average_y)) / np.sum((df['Z'] - average_z) * (df['D'] - average_d))\n",
    "    iv_estimator = beta_hat_1_iv\n",
    "    \n",
    "    return iv_estimator"
   ]
  },
  {
   "cell_type": "code",
   "execution_count": 135,
   "id": "966c4121-71b8-44d1-b1bd-ccb6afd03eb1",
   "metadata": {},
   "outputs": [],
   "source": [
    "def calculate_iv_estimator_se(df: pd.DataFrame):    \n",
    "    '''操作変数推定量の標準誤差を算出\n",
    "    \n",
    "    Args:\n",
    "        df(pd.DataFrame): 効果検証対象となるデータフレーム\n",
    "\n",
    "    Returns:\n",
    "        iv_estimator_se\n",
    "\n",
    "    '''\n",
    "    iv_estimator = calculate_iv_estimator(df=df)\n",
    "    \n",
    "    # 操作変数推定量の標準誤差を算出する\n",
    "    average_y = df['Y'].mean()\n",
    "    average_d = df['D'].mean()\n",
    "    beta_hat_0_iv = average_y - iv_estimator * average_d\n",
    "    mu_hat_i = df['Y'] - beta_hat_0_iv -  iv_estimator * df['D']\n",
    "    # ルート((1/N)*hoge)のhoge部分の分子と分母を計算する\n",
    "    # 分子: N-2で割ることで自由度を修正する\n",
    "    numerator = (((df['Z'] - df['Z'].mean())**2)*(mu_hat_i**2)).sum() / (data_size - 2)\n",
    "    # 分母\n",
    "    denominator = ((((df['Z'] - df['Z'].mean()) * (df['D'] - df['D'].mean())) / data_size).sum())**2\n",
    "    # 操作変数推定量の標準誤差\n",
    "    se_beta_hat_1_iv = np.sqrt((1/data_size)*(numerator/denominator))\n",
    "    iv_estimator_se = se_beta_hat_1_iv\n",
    "\n",
    "    return iv_estimator_se"
   ]
  },
  {
   "cell_type": "markdown",
   "id": "aa412ca8-f1e7-4906-a82e-eefe5257fced",
   "metadata": {},
   "source": [
    "## LATE推定量と操作変数推定量を比較"
   ]
  },
  {
   "cell_type": "code",
   "execution_count": 136,
   "id": "28f4fbce-e798-43b0-bbad-e875578a94ad",
   "metadata": {},
   "outputs": [
    {
     "name": "stdout",
     "output_type": "stream",
     "text": [
      "LATE推定量: 0.151\n",
      "操作変数推定量: 0.151\n"
     ]
    }
   ],
   "source": [
    "# LATE推定量\n",
    "i = 12345\n",
    "data_size = 10000\n",
    "df = generate_data(random_seed=i, data_size=data_size)\n",
    "late_estimator = calculate_late_estimator(df=df)\n",
    "print(f'LATE推定量: {late_estimator:,.3f}')\n",
    "\n",
    "# 操作変数推定量\n",
    "df = generate_data(random_seed=i, data_size=data_size)\n",
    "iv_estimator = calculate_iv_estimator(df=df)\n",
    "print(f'操作変数推定量: {iv_estimator:,.3f}')"
   ]
  },
  {
   "cell_type": "markdown",
   "id": "9d0c3e86-5e63-42c8-9030-b9b834e55a85",
   "metadata": {},
   "source": [
    "LATE推定量と操作変数推定量は一致する様子"
   ]
  },
  {
   "cell_type": "markdown",
   "id": "a24ed246-f8ae-423e-b410-0e9abe88f6ac",
   "metadata": {},
   "source": [
    "## 操作変数推定量の標準誤差\n",
    "参考: [計量経済学 (New Liberal Arts Selection)](https://www.amazon.co.jp/%E8%A8%88%E9%87%8F%E7%B5%8C%E6%B8%88%E5%AD%A6-New-Liberal-Arts-Selection/dp/4641053855/ref=sr_1_3?adgrpid=111764532464&dib=eyJ2IjoiMSJ9.wQjA-XsmLxKXc8ABZybC23Xra5aMTm7j0E8ZvykKfwW9j5R6Xs4hFNeNmreAbDkYWa3vuOKBh6E_akbaA4hv-Kvhva08UD3A7uMSUVgwQHtJCb_3vccGkO818r8lfH1wSKV3_IPge6JvcwjdC2L4rDwsGNnqkZd8-b8JkAsjjjYfvBLTyrG179n1D5Q9PYahLtBb7c90opKBxYDcXt_Umd8Mof09asxCWcAr2BBlb4ChsW5nzdRxc3Ov-0mBHLysojmQidaKPg6aTCECrqt7q91-VwmG-Qi7ShHj1pU-gRhmNd_is1_RrVeGe8wBGyrTH8yUBTssL9KeDZsRajsNx65RBeQLisUuF8zSQsSTxhTefEw34jQc2q1LEz91tWPJ-X7i4fwk3qHmLITkM6FjasuusnTctT9Pbx7Jmc3l4HzXVmuP4ULwGNwnXqqrq63S.asv14I1-XrVr4bA_8UVKdgQc06EZUFZ_kDq9l_Mcb3M&dib_tag=se&hvadid=679060345133&hvdev=c&hvlocphy=1009309&hvnetw=g&hvqmt=e&hvrand=9602578875003065665&hvtargid=kwd-930097394579&hydadcr=6190_13376777&jp-ad-ap=0&keywords=%E8%A8%88%E9%87%8F%E7%B5%8C%E6%B8%88%E5%AD%A6&mcid=0ac99b911d5b3cb7a4ee11cd5aee374e&qid=1737268178&sr=8-3)p279より\n",
    "\n",
    "### 操作変数推定量の標準誤差\n",
    "\n",
    "$\\hat{u}_i$を操作変数推定の残差\n",
    "\n",
    "$$\n",
    "\\hat{u}_i = Y_i - \\hat{\\beta}_{0,IV} - \\hat{\\beta}_{1,IV} X_i\n",
    "$$\n",
    "として、\n",
    "\n",
    "操作変数推定量の標準誤差は\n",
    "$$\n",
    "SE(\\hat{\\beta}_{1,IV}) = \\sqrt{\\frac{1}{N} \\cdot \\frac{\\sum_{i=1}^N (Z_i - \\bar{Z})^2 \\cdot \\hat{u}_i^2 / N}{\\left(\\sum_{i=1}^N (Z_i - \\bar{Z})(X_i - \\bar{X}) / N \\right)^2}}\n",
    "$$\n",
    "と定義される\n",
    "\n",
    "※分子のNをN-2に変える自由度修正方法もある\n",
    "\n",
    "### 操作変数推定量の標準誤差を用いた検定統計量\n",
    "\n",
    "$$\n",
    "t = \\frac{\\hat{\\beta}_{1,IV} - \\beta_1^{0}}{SE(\\hat{\\beta}_{1,IV})}\n",
    "$$"
   ]
  },
  {
   "cell_type": "code",
   "execution_count": 137,
   "id": "f2aa4a1b-45f6-40db-bf85-1bb612be1f64",
   "metadata": {},
   "outputs": [
    {
     "name": "stderr",
     "output_type": "stream",
     "text": [
      "100%|██████████████████████████████████████████████████████████████████████████████████████████| 100/100 [00:31<00:00,  3.18it/s]"
     ]
    },
    {
     "name": "stdout",
     "output_type": "stream",
     "text": [
      "有意と判定している割合: 0.530\n"
     ]
    },
    {
     "name": "stderr",
     "output_type": "stream",
     "text": [
      "\n"
     ]
    }
   ],
   "source": [
    "# シミュレーション用のデータを作成\n",
    "data_size = 10000    # データのサイズ\n",
    "n_trials = 100       # 試行回数\n",
    "p_value_thres = 0.05 # 有意水準\n",
    "\n",
    "significant_list = []\n",
    "for i in tqdm(range(n_trials)):\n",
    "    significant_flag = 0\n",
    "    np.random.seed(i) # ランダムシード\n",
    "    df = generate_data(random_seed=i, data_size=data_size)\n",
    "    iv_estimator = calculate_iv_estimator(df=df)\n",
    "    iv_estimator_se = calculate_iv_estimator_se(df=df)\n",
    "    \n",
    "    t_stat = (iv_estimator - 0) / iv_estimator_se\n",
    "    p_value = 1 - stats.t.cdf(t_stat, df=data_size-2)                 # 片側検定\n",
    "    # p_value = 2 * (1 - stats.t.cdf(np.abs(t_stat), df=data_size-2)) # 両側検定\n",
    "\n",
    "    if p_value < p_value_thres:\n",
    "        significant_flag = 1\n",
    "    significant_list.append(significant_flag)\n",
    "significant_ratio = np.array(significant_list).mean()\n",
    "print(f'有意と判定している割合: {significant_ratio:,.3f}')"
   ]
  },
  {
   "cell_type": "markdown",
   "id": "3d95442b-a1fd-4e0d-9bc0-d01bcdc97efa",
   "metadata": {},
   "source": [
    "今回のデータでは、サンプルサイズ10,000では検出力が0.530であることがわかった"
   ]
  },
  {
   "cell_type": "code",
   "execution_count": null,
   "id": "46032b51-aeaa-4b38-b1fb-50aedaf482b1",
   "metadata": {},
   "outputs": [],
   "source": []
  },
  {
   "cell_type": "code",
   "execution_count": null,
   "id": "74092330-54a3-4876-9cba-d0ceb2deda72",
   "metadata": {},
   "outputs": [],
   "source": []
  }
 ],
 "metadata": {
  "kernelspec": {
   "display_name": "Python 3 (ipykernel)",
   "language": "python",
   "name": "python3"
  },
  "language_info": {
   "codemirror_mode": {
    "name": "ipython",
    "version": 3
   },
   "file_extension": ".py",
   "mimetype": "text/x-python",
   "name": "python",
   "nbconvert_exporter": "python",
   "pygments_lexer": "ipython3",
   "version": "3.9.5"
  }
 },
 "nbformat": 4,
 "nbformat_minor": 5
}
