{
 "cells": [
  {
   "cell_type": "markdown",
   "id": "2ab9c5d8-caca-4d9f-ad35-5747dac1f809",
   "metadata": {},
   "source": [
    "# 計量経済学（有斐閣）_７章_操作変数法勉強\n",
    "[リンク](https://www.yuhikaku.co.jp/books/detail/9784641053854)\n",
    "\n",
    "## これは何？\n",
    "上記リンクの本の7章の操作変数について書籍で扱われているデータを元に実際に計算を試みることで、自分の計算理解があっているかを確認する"
   ]
  },
  {
   "cell_type": "markdown",
   "id": "d02d2a80-6cf0-49e9-8847-4a8d4dc99fe9",
   "metadata": {},
   "source": [
    "## モジュールインポート"
   ]
  },
  {
   "cell_type": "code",
   "execution_count": 42,
   "id": "88cdb0b7-736c-473d-9a87-49eba30d6d03",
   "metadata": {},
   "outputs": [],
   "source": [
    "import numpy as np\n",
    "import pandas as pd\n",
    "import statsmodels.api as sm"
   ]
  },
  {
   "cell_type": "markdown",
   "id": "8700f8de-31a9-4bf6-bd5f-e37682a3fd6e",
   "metadata": {},
   "source": [
    "## データ読み込み・確認"
   ]
  },
  {
   "cell_type": "code",
   "execution_count": 43,
   "id": "fd513377-8190-4c8f-b4b2-cd7ff379e648",
   "metadata": {},
   "outputs": [
    {
     "data": {
      "text/html": [
       "<div>\n",
       "<style scoped>\n",
       "    .dataframe tbody tr th:only-of-type {\n",
       "        vertical-align: middle;\n",
       "    }\n",
       "\n",
       "    .dataframe tbody tr th {\n",
       "        vertical-align: top;\n",
       "    }\n",
       "\n",
       "    .dataframe thead th {\n",
       "        text-align: right;\n",
       "    }\n",
       "</style>\n",
       "<table border=\"1\" class=\"dataframe\">\n",
       "  <thead>\n",
       "    <tr style=\"text-align: right;\">\n",
       "      <th></th>\n",
       "      <th>Z</th>\n",
       "      <th>D</th>\n",
       "      <th>Y</th>\n",
       "    </tr>\n",
       "  </thead>\n",
       "  <tbody>\n",
       "    <tr>\n",
       "      <th>0</th>\n",
       "      <td>703.280029</td>\n",
       "      <td>92.926834</td>\n",
       "      <td>68.606926</td>\n",
       "    </tr>\n",
       "    <tr>\n",
       "      <th>1</th>\n",
       "      <td>585.739990</td>\n",
       "      <td>98.280365</td>\n",
       "      <td>80.402878</td>\n",
       "    </tr>\n",
       "    <tr>\n",
       "      <th>2</th>\n",
       "      <td>611.419983</td>\n",
       "      <td>92.722054</td>\n",
       "      <td>90.051041</td>\n",
       "    </tr>\n",
       "    <tr>\n",
       "      <th>3</th>\n",
       "      <td>611.419983</td>\n",
       "      <td>99.350861</td>\n",
       "      <td>75.260162</td>\n",
       "    </tr>\n",
       "    <tr>\n",
       "      <th>4</th>\n",
       "      <td>653.890015</td>\n",
       "      <td>99.143509</td>\n",
       "      <td>68.227699</td>\n",
       "    </tr>\n",
       "    <tr>\n",
       "      <th>...</th>\n",
       "      <td>...</td>\n",
       "      <td>...</td>\n",
       "      <td>...</td>\n",
       "    </tr>\n",
       "    <tr>\n",
       "      <th>447</th>\n",
       "      <td>487.839996</td>\n",
       "      <td>0.609857</td>\n",
       "      <td>91.437187</td>\n",
       "    </tr>\n",
       "    <tr>\n",
       "      <th>448</th>\n",
       "      <td>486.739990</td>\n",
       "      <td>3.336322</td>\n",
       "      <td>98.423653</td>\n",
       "    </tr>\n",
       "    <tr>\n",
       "      <th>449</th>\n",
       "      <td>470.820007</td>\n",
       "      <td>1.951110</td>\n",
       "      <td>98.832687</td>\n",
       "    </tr>\n",
       "    <tr>\n",
       "      <th>450</th>\n",
       "      <td>470.630005</td>\n",
       "      <td>2.677881</td>\n",
       "      <td>97.414383</td>\n",
       "    </tr>\n",
       "    <tr>\n",
       "      <th>451</th>\n",
       "      <td>475.809998</td>\n",
       "      <td>2.403308</td>\n",
       "      <td>97.144432</td>\n",
       "    </tr>\n",
       "  </tbody>\n",
       "</table>\n",
       "<p>452 rows × 3 columns</p>\n",
       "</div>"
      ],
      "text/plain": [
       "              Z          D          Y\n",
       "0    703.280029  92.926834  68.606926\n",
       "1    585.739990  98.280365  80.402878\n",
       "2    611.419983  92.722054  90.051041\n",
       "3    611.419983  99.350861  75.260162\n",
       "4    653.890015  99.143509  68.227699\n",
       "..          ...        ...        ...\n",
       "447  487.839996   0.609857  91.437187\n",
       "448  486.739990   3.336322  98.423653\n",
       "449  470.820007   1.951110  98.832687\n",
       "450  470.630005   2.677881  97.414383\n",
       "451  475.809998   2.403308  97.144432\n",
       "\n",
       "[452 rows x 3 columns]"
      ]
     },
     "execution_count": 43,
     "metadata": {},
     "output_type": "execute_result"
    }
   ],
   "source": [
    "# 読み込み\n",
    "df = pd.read_csv('ipehd_qje2009_master.csv')\n",
    "\n",
    "# 必要なカラムのみを取得し、カラム名をリネームする\n",
    "raw_df = df.copy()\n",
    "df = df[['kmwittenberg', 'f_prot', 'f_rw']]\n",
    "df = df.rename(columns={\n",
    "    'kmwittenberg':'Z', # ヴィッテンベルクからの距離\n",
    "    'f_prot':'D',       # 新教徒率\n",
    "    'f_rw':'Y'          # 識字率\n",
    "\n",
    "})\n",
    "df"
   ]
  },
  {
   "cell_type": "markdown",
   "id": "6727eee3-3d0f-408e-9e36-fd49ba872977",
   "metadata": {},
   "source": [
    "## p275: 実証例7.1 単回帰モデルの操作変数推定\n",
    "書籍より、OLS推定の結果は、\n",
    "\n",
    "識字率_hat_{i} = 82.374 + 0.080 × 新教徒率_{i} (7.5)\n",
    "\n",
    "R_squared = 0.055, N = 452"
   ]
  },
  {
   "cell_type": "code",
   "execution_count": 44,
   "id": "56ecebd5-6e04-48d7-9f28-1f84d112b59c",
   "metadata": {},
   "outputs": [
    {
     "name": "stdout",
     "output_type": "stream",
     "text": [
      "                            OLS Regression Results                            \n",
      "==============================================================================\n",
      "Dep. Variable:                      Y   R-squared:                       0.057\n",
      "Model:                            OLS   Adj. R-squared:                  0.055\n",
      "Method:                 Least Squares   F-statistic:                     27.20\n",
      "Date:                Sat, 29 Mar 2025   Prob (F-statistic):           2.80e-07\n",
      "Time:                        16:09:54   Log-Likelihood:                -1775.4\n",
      "No. Observations:                 452   AIC:                             3555.\n",
      "Df Residuals:                     450   BIC:                             3563.\n",
      "Df Model:                           1                                         \n",
      "Covariance Type:            nonrobust                                         \n",
      "==============================================================================\n",
      "                 coef    std err          t      P>|t|      [0.025      0.975]\n",
      "------------------------------------------------------------------------------\n",
      "const         82.3742      1.142     72.121      0.000      80.130      84.619\n",
      "D              0.0800      0.015      5.215      0.000       0.050       0.110\n",
      "==============================================================================\n",
      "Omnibus:                      116.087   Durbin-Watson:                   0.214\n",
      "Prob(Omnibus):                  0.000   Jarque-Bera (JB):              212.006\n",
      "Skew:                          -1.493   Prob(JB):                     9.19e-47\n",
      "Kurtosis:                       4.530   Cond. No.                         147.\n",
      "==============================================================================\n",
      "\n",
      "Notes:\n",
      "[1] Standard Errors assume that the covariance matrix of the errors is correctly specified.\n"
     ]
    }
   ],
   "source": [
    "# 説明変数（D）と目的変数（Y）を定義\n",
    "X = df['D']\n",
    "Y = df['Y']\n",
    "\n",
    "# 定数項（切片）を追加\n",
    "X = sm.add_constant(X)\n",
    "\n",
    "# 回帰モデルの定義とフィッティング\n",
    "model = sm.OLS(Y, X).fit()\n",
    "\n",
    "# 結果を表示\n",
    "print(model.summary())"
   ]
  },
  {
   "cell_type": "markdown",
   "id": "a81ef654-9719-40c2-80b1-7c17154cdc1b",
   "metadata": {},
   "source": [
    "各数値がほぼほぼ一致していることから、データ・カラムの理解は誤っていないと考えられる"
   ]
  },
  {
   "cell_type": "markdown",
   "id": "d52c862c-d435-4a27-8164-f727c27a74c5",
   "metadata": {},
   "source": [
    "## p275: 実証例7.1 操作変数推定\n",
    "書籍より、操作変数推定の結果は、\n",
    "\n",
    "識字率_hat_{i} = 60.451 + 0.422 × 新教徒率_{i} (7.6)\n",
    "\n",
    "N = 452"
   ]
  },
  {
   "cell_type": "code",
   "execution_count": 48,
   "id": "9d66c39f-bd39-46a4-905d-5b18bfa97f0e",
   "metadata": {},
   "outputs": [],
   "source": [
    "def calculate_iv_estimator(df: pd.DataFrame):\n",
    "    '''操作変数推定量を算出\n",
    "    \n",
    "    Args:\n",
    "        df(pd.DataFrame): 効果検証対象となるデータフレーム\n",
    "\n",
    "    Returns:\n",
    "        iv_estimator\n",
    "\n",
    "    '''\n",
    "    average_z = df['Z'].mean()\n",
    "    average_y = df['Y'].mean()\n",
    "    average_d = df['D'].mean()\n",
    "    beta_hat_1_iv = np.sum((df['Z'] - average_z) * (df['Y'] - average_y)) / np.sum((df['Z'] - average_z) * (df['D'] - average_d))\n",
    "    iv_estimator = beta_hat_1_iv\n",
    "    \n",
    "    return iv_estimator\n"
   ]
  },
  {
   "cell_type": "code",
   "execution_count": 49,
   "id": "bb100030-e907-4d25-9f9e-db6556670c84",
   "metadata": {},
   "outputs": [
    {
     "name": "stdout",
     "output_type": "stream",
     "text": [
      "操作変数推定量: 0.422\n"
     ]
    }
   ],
   "source": [
    "iv_estimator = calculate_iv_estimator(df=df)\n",
    "print(f'操作変数推定量: {iv_estimator:,.3f}')"
   ]
  },
  {
   "cell_type": "markdown",
   "id": "526f6e78-fa33-4279-bac6-e8dd19e2c8d8",
   "metadata": {},
   "source": [
    "一致しており、操作変数推定量の計算は誤っていないと考えられる"
   ]
  },
  {
   "cell_type": "markdown",
   "id": "37096343-1792-4c05-b177-d36307af91f2",
   "metadata": {},
   "source": [
    "## p280: 実証例7.2 操作変数推定量標準誤差\n",
    "書籍より、操作変数推定の結果は、\n",
    "\n",
    "識字率_hat_{i} = 60.451 + 0.422 × 新教徒率_{i} (7.10)\n",
    "\n",
    "└標準誤差 0.071\n",
    "\n",
    "N = 452\n",
    "\n",
    "であり、操作変数推定量の標準誤差は0.071である"
   ]
  },
  {
   "cell_type": "code",
   "execution_count": 50,
   "id": "8346bfda-d6bb-4832-805e-19987a637c11",
   "metadata": {},
   "outputs": [],
   "source": [
    "def calculate_iv_estimator_se(df: pd.DataFrame):    \n",
    "    '''操作変数推定量の標準誤差を算出\n",
    "    \n",
    "    Args:\n",
    "        df(pd.DataFrame): 効果検証対象となるデータフレーム\n",
    "\n",
    "    Returns:\n",
    "        iv_estimator_se\n",
    "\n",
    "    '''\n",
    "    iv_estimator = calculate_iv_estimator(df=df)\n",
    "    \n",
    "    # 操作変数推定量の標準誤差を算出する\n",
    "    average_y = df['Y'].mean()\n",
    "    average_d = df['D'].mean()\n",
    "    beta_hat_0_iv = average_y - iv_estimator * average_d\n",
    "    mu_hat_i = df['Y'] - beta_hat_0_iv -  iv_estimator * df['D']\n",
    "    # ルート((1/N)*hoge)のhoge部分の分子と分母を計算する\n",
    "    # 分子: N-2で割ることで自由度を修正する\n",
    "    numerator = (((df['Z'] - df['Z'].mean())**2)*(mu_hat_i**2)).sum() / (len(df) - 2)\n",
    "    # 分母\n",
    "    denominator = ((((df['Z'] - df['Z'].mean()) * (df['D'] - df['D'].mean())) / len(df)).sum())**2\n",
    "    # 操作変数推定量の標準誤差\n",
    "    se_beta_hat_1_iv = np.sqrt((1/len(df))*(numerator/denominator))\n",
    "    iv_estimator_se = se_beta_hat_1_iv\n",
    "\n",
    "    return iv_estimator_se"
   ]
  },
  {
   "cell_type": "code",
   "execution_count": 51,
   "id": "38d564da-0625-4449-a212-507e705fa26a",
   "metadata": {},
   "outputs": [
    {
     "name": "stdout",
     "output_type": "stream",
     "text": [
      "操作変数推定量の標準誤差: 0.071\n"
     ]
    }
   ],
   "source": [
    "iv_estimator_se = calculate_iv_estimator_se(df=df)\n",
    "print(f'操作変数推定量の標準誤差: {iv_estimator_se:,.3f}')"
   ]
  },
  {
   "cell_type": "markdown",
   "id": "c72d68eb-8fef-4a85-a8f2-87c7337102bf",
   "metadata": {},
   "source": [
    "一致しており、操作変数推定量の標準誤差の計算は誤っていないと考えられる"
   ]
  },
  {
   "cell_type": "markdown",
   "id": "8455f9ca-0c7a-4786-9203-303bb7e42ccf",
   "metadata": {},
   "source": [
    "## p298: 実証例7.4 操作変数の強さの判定\n",
    "書籍より、1段階目の推定結果は\n",
    "\n",
    "新教徒率_hat_{i} = -0.095 × 距離 + コントロール変数\n",
    "\n",
    "└標準誤差 0.011\n",
    "\n",
    "R_squared = 0.402, N = 452\n",
    "\n",
    "であり、t値は -0.095 / 0.011 = -8.64\n",
    "\n",
    "1つの係数に関するF統計量はt統計量の2乗であるので、おおよそ74.58\n",
    "\n",
    "これは10より大幅に大きいため、操作変数は十分に強い"
   ]
  },
  {
   "cell_type": "code",
   "execution_count": 54,
   "id": "dad67621-ccf6-4b90-b17c-1a80f51ebb65",
   "metadata": {},
   "outputs": [
    {
     "name": "stdout",
     "output_type": "stream",
     "text": [
      "                            OLS Regression Results                            \n",
      "==============================================================================\n",
      "Dep. Variable:                      D   R-squared:                       0.135\n",
      "Model:                            OLS   Adj. R-squared:                  0.133\n",
      "Method:                 Least Squares   F-statistic:                     70.46\n",
      "Date:                Sat, 29 Mar 2025   Prob (F-statistic):           6.15e-16\n",
      "Time:                        16:31:43   Log-Likelihood:                -2250.2\n",
      "No. Observations:                 452   AIC:                             4504.\n",
      "Df Residuals:                     450   BIC:                             4513.\n",
      "Df Model:                           1                                         \n",
      "Covariance Type:            nonrobust                                         \n",
      "==============================================================================\n",
      "                 coef    std err          t      P>|t|      [0.025      0.975]\n",
      "------------------------------------------------------------------------------\n",
      "const         94.7005      3.995     23.702      0.000      86.849     102.553\n",
      "Z             -0.0936      0.011     -8.394      0.000      -0.115      -0.072\n",
      "==============================================================================\n",
      "Omnibus:                       54.757   Durbin-Watson:                   0.417\n",
      "Prob(Omnibus):                  0.000   Jarque-Bera (JB):               17.721\n",
      "Skew:                          -0.197   Prob(JB):                     0.000142\n",
      "Kurtosis:                       2.114   Cond. No.                         865.\n",
      "==============================================================================\n",
      "\n",
      "Notes:\n",
      "[1] Standard Errors assume that the covariance matrix of the errors is correctly specified.\n",
      "\n",
      "F統計量: 70.46\n"
     ]
    }
   ],
   "source": [
    "# 説明変数（D）と目的変数（Y）を定義\n",
    "X = df['Z']\n",
    "Y = df['D']\n",
    "\n",
    "# 定数項（切片）を追加\n",
    "X = sm.add_constant(X)\n",
    "\n",
    "# 回帰モデルの定義とフィッティング\n",
    "model = sm.OLS(Y, X).fit(ov_type='HC1')\n",
    "\n",
    "# 結果を表示\n",
    "print(model.summary())\n",
    "print('')\n",
    "Z_tstat = model.tvalues[1]\n",
    "Z_fstat = Z_tstat**2\n",
    "print(f'F統計量: {Z_fstat:,.2f}')"
   ]
  },
  {
   "cell_type": "markdown",
   "id": "34edfe3e-3354-4716-95e8-48b215bd4ee4",
   "metadata": {},
   "source": [
    "各数値がほぼほぼ一致していることから、データ・カラムの理解は誤っていないと考えられる"
   ]
  },
  {
   "cell_type": "code",
   "execution_count": null,
   "id": "da267837-3310-452e-ab7c-2b47a1a0d834",
   "metadata": {},
   "outputs": [],
   "source": []
  },
  {
   "cell_type": "code",
   "execution_count": null,
   "id": "9f5a6af6-b83c-45d8-bc64-1d1b176cedb3",
   "metadata": {},
   "outputs": [],
   "source": []
  },
  {
   "cell_type": "code",
   "execution_count": null,
   "id": "731427db-a8a5-42fe-ab2d-396e7fffcced",
   "metadata": {},
   "outputs": [],
   "source": []
  },
  {
   "cell_type": "code",
   "execution_count": null,
   "id": "90943780-acc0-4b74-8bca-29c8099d12ad",
   "metadata": {},
   "outputs": [],
   "source": []
  }
 ],
 "metadata": {
  "kernelspec": {
   "display_name": "Python 3 (ipykernel)",
   "language": "python",
   "name": "python3"
  },
  "language_info": {
   "codemirror_mode": {
    "name": "ipython",
    "version": 3
   },
   "file_extension": ".py",
   "mimetype": "text/x-python",
   "name": "python",
   "nbconvert_exporter": "python",
   "pygments_lexer": "ipython3",
   "version": "3.9.5"
  }
 },
 "nbformat": 4,
 "nbformat_minor": 5
}
