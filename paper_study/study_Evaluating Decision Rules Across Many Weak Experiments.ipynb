{
 "cells": [
  {
   "cell_type": "markdown",
   "metadata": {},
   "source": [
    "# Evaluating Decision Rules Across Many Weak Experiments\n",
    "[リンク](https://arxiv.org/pdf/2502.08763v2)"
   ]
  },
  {
   "cell_type": "code",
   "execution_count": 1,
   "metadata": {},
   "outputs": [],
   "source": [
    "import numpy as np\n",
    "import pandas as pd\n",
    "import random"
   ]
  },
  {
   "cell_type": "code",
   "execution_count": 7,
   "metadata": {},
   "outputs": [
    {
     "name": "stdout",
     "output_type": "stream",
     "text": [
      "armはABテストのAorBを指す\n",
      "expはABテストのテスト番号をを指す\n",
      "outcomeはABテストの対象KPI（CVRなど）をを指す\n"
     ]
    },
    {
     "data": {
      "text/html": [
       "<div>\n",
       "<style scoped>\n",
       "    .dataframe tbody tr th:only-of-type {\n",
       "        vertical-align: middle;\n",
       "    }\n",
       "\n",
       "    .dataframe tbody tr th {\n",
       "        vertical-align: top;\n",
       "    }\n",
       "\n",
       "    .dataframe thead th {\n",
       "        text-align: right;\n",
       "    }\n",
       "</style>\n",
       "<table border=\"1\" class=\"dataframe\">\n",
       "  <thead>\n",
       "    <tr style=\"text-align: right;\">\n",
       "      <th></th>\n",
       "      <th></th>\n",
       "      <th>outcome</th>\n",
       "    </tr>\n",
       "    <tr>\n",
       "      <th>exp</th>\n",
       "      <th>arm</th>\n",
       "      <th></th>\n",
       "    </tr>\n",
       "  </thead>\n",
       "  <tbody>\n",
       "    <tr>\n",
       "      <th rowspan=\"2\" valign=\"top\">1</th>\n",
       "      <th>A</th>\n",
       "      <td>0.09</td>\n",
       "    </tr>\n",
       "    <tr>\n",
       "      <th>B</th>\n",
       "      <td>0.09</td>\n",
       "    </tr>\n",
       "    <tr>\n",
       "      <th rowspan=\"2\" valign=\"top\">2</th>\n",
       "      <th>A</th>\n",
       "      <td>0.14</td>\n",
       "    </tr>\n",
       "    <tr>\n",
       "      <th>B</th>\n",
       "      <td>0.09</td>\n",
       "    </tr>\n",
       "    <tr>\n",
       "      <th>3</th>\n",
       "      <th>A</th>\n",
       "      <td>0.16</td>\n",
       "    </tr>\n",
       "    <tr>\n",
       "      <th>...</th>\n",
       "      <th>...</th>\n",
       "      <td>...</td>\n",
       "    </tr>\n",
       "    <tr>\n",
       "      <th>498</th>\n",
       "      <th>B</th>\n",
       "      <td>0.10</td>\n",
       "    </tr>\n",
       "    <tr>\n",
       "      <th rowspan=\"2\" valign=\"top\">499</th>\n",
       "      <th>A</th>\n",
       "      <td>0.09</td>\n",
       "    </tr>\n",
       "    <tr>\n",
       "      <th>B</th>\n",
       "      <td>0.06</td>\n",
       "    </tr>\n",
       "    <tr>\n",
       "      <th rowspan=\"2\" valign=\"top\">500</th>\n",
       "      <th>A</th>\n",
       "      <td>0.15</td>\n",
       "    </tr>\n",
       "    <tr>\n",
       "      <th>B</th>\n",
       "      <td>0.09</td>\n",
       "    </tr>\n",
       "  </tbody>\n",
       "</table>\n",
       "<p>1000 rows × 1 columns</p>\n",
       "</div>"
      ],
      "text/plain": [
       "         outcome\n",
       "exp arm         \n",
       "1   A       0.09\n",
       "    B       0.09\n",
       "2   A       0.14\n",
       "    B       0.09\n",
       "3   A       0.16\n",
       "...          ...\n",
       "498 B       0.10\n",
       "499 A       0.09\n",
       "    B       0.06\n",
       "500 A       0.15\n",
       "    B       0.09\n",
       "\n",
       "[1000 rows x 1 columns]"
      ]
     },
     "metadata": {},
     "output_type": "display_data"
    }
   ],
   "source": [
    "random.seed(0)\n",
    "np.random.seed(0)\n",
    "\n",
    "# Simulation parameters: AとBに本当は差がないものとしてシミュレーションする\n",
    "n_exp = 500            # number of experiments\n",
    "users_per_arm = 100    # users per arm (A:100, B:100)\n",
    "p_A = 0.10             # true conversion rate A\n",
    "p_B = 0.10             # true conversion rate B  (no true uplift to emphasise bias)\n",
    "\n",
    "records = []\n",
    "for i in range(1, n_exp + 1):\n",
    "    # outcomes for arm A\n",
    "    outcomes_A = np.random.binomial(1, p_A, users_per_arm)\n",
    "    # outcomes for arm B\n",
    "    outcomes_B = np.random.binomial(1, p_B, users_per_arm)\n",
    "    for o in outcomes_A:\n",
    "        records.append({\"exp\": i, \"arm\": \"A\", \"outcome\": o})\n",
    "    for o in outcomes_B:\n",
    "        records.append({\"exp\": i, \"arm\": \"B\", \"outcome\": o})\n",
    "\n",
    "df_big = pd.DataFrame(records)\n",
    "print('armはABテストのAorBを指す')\n",
    "print('expはABテストのテスト番号をを指す')\n",
    "print('outcomeはABテストの対象KPI（CVRなど）をを指す')\n",
    "display(df_big.groupby(['exp', 'arm'])[['outcome']].mean())"
   ]
  },
  {
   "cell_type": "code",
   "execution_count": 15,
   "metadata": {},
   "outputs": [
    {
     "name": "stdout",
     "output_type": "stream",
     "text": [
      "ABテストで勝った方のoutcome平均値\n"
     ]
    },
    {
     "data": {
      "text/plain": [
       "np.float64(0.11722)"
      ]
     },
     "execution_count": 15,
     "metadata": {},
     "output_type": "execute_result"
    }
   ],
   "source": [
    "# Naïve estimator over all experiments\n",
    "naive_success = 0\n",
    "naive_units = 0\n",
    "\n",
    "for i, g in df_big.groupby(\"exp\"): # i: expの番号、g: expごとのグループ\n",
    "    mean_A = g.loc[g[\"arm\"] == \"A\", \"outcome\"].mean()\n",
    "    mean_B = g.loc[g[\"arm\"] == \"B\", \"outcome\"].mean()\n",
    "    winner = \"A\" if mean_A >= mean_B else \"B\"\n",
    "    win_rows = g[g[\"arm\"] == winner]\n",
    "    naive_success += win_rows[\"outcome\"].sum()\n",
    "    naive_units += len(win_rows)\n",
    "\n",
    "naive_rate = naive_success / naive_units\n",
    "print('ABテストで勝った方のoutcome平均値')\n",
    "naive_rate"
   ]
  },
  {
   "cell_type": "code",
   "execution_count": 16,
   "metadata": {},
   "outputs": [
    {
     "data": {
      "text/html": [
       "<div>\n",
       "<style scoped>\n",
       "    .dataframe tbody tr th:only-of-type {\n",
       "        vertical-align: middle;\n",
       "    }\n",
       "\n",
       "    .dataframe tbody tr th {\n",
       "        vertical-align: top;\n",
       "    }\n",
       "\n",
       "    .dataframe thead th {\n",
       "        text-align: right;\n",
       "    }\n",
       "</style>\n",
       "<table border=\"1\" class=\"dataframe\">\n",
       "  <thead>\n",
       "    <tr style=\"text-align: right;\">\n",
       "      <th></th>\n",
       "      <th>Estimator</th>\n",
       "      <th>Estimated Success Rate</th>\n",
       "    </tr>\n",
       "  </thead>\n",
       "  <tbody>\n",
       "    <tr>\n",
       "      <th>0</th>\n",
       "      <td>True (unknown)</td>\n",
       "      <td>0.10000</td>\n",
       "    </tr>\n",
       "    <tr>\n",
       "      <th>1</th>\n",
       "      <td>Naïve plug‑in</td>\n",
       "      <td>0.11722</td>\n",
       "    </tr>\n",
       "    <tr>\n",
       "      <th>2</th>\n",
       "      <td>2‑fold CV</td>\n",
       "      <td>0.10199</td>\n",
       "    </tr>\n",
       "  </tbody>\n",
       "</table>\n",
       "</div>"
      ],
      "text/plain": [
       "        Estimator  Estimated Success Rate\n",
       "0  True (unknown)                 0.10000\n",
       "1   Naïve plug‑in                 0.11722\n",
       "2       2‑fold CV                 0.10199"
      ]
     },
     "execution_count": 16,
     "metadata": {},
     "output_type": "execute_result"
    }
   ],
   "source": [
    "# 2-fold CV estimator\n",
    "cv_success = 0\n",
    "cv_units = 0\n",
    "\n",
    "for i, g in df_big.groupby(\"exp\"):\n",
    "    # 各実験のデータ(200ユーザー、ABそれぞれ100)をシャッフルして、上100行、下100行に分ける\n",
    "    shuffled = g.sample(frac=1, random_state=0).reset_index(drop=True)\n",
    "    foldA = shuffled.iloc[:users_per_arm]   # first 100 rows\n",
    "    foldB = shuffled.iloc[users_per_arm:]   # second 100 rows\n",
    "\n",
    "    for train_fold, eval_fold in [(foldA, foldB), (foldB, foldA)]:\n",
    "        mean_A = train_fold.loc[train_fold[\"arm\"] == \"A\", \"outcome\"].mean()\n",
    "        mean_B = train_fold.loc[train_fold[\"arm\"] == \"B\", \"outcome\"].mean()\n",
    "        winner = \"A\" if mean_A >= mean_B else \"B\"\n",
    "        eval_rows = eval_fold[eval_fold[\"arm\"] == winner]\n",
    "        cv_success += eval_rows[\"outcome\"].sum()\n",
    "        cv_units += len(eval_rows)\n",
    "\n",
    "cv_rate = cv_success / cv_units\n",
    "\n",
    "# Aggregate true rate (for reference)\n",
    "true_rate = (p_A + p_B) / 2  # 0.10\n",
    "\n",
    "summary = pd.DataFrame({\n",
    "    \"Estimator\": [\"True (unknown)\", \"Naïve plug‑in\", \"2‑fold CV\"],\n",
    "    \"Estimated Success Rate\": [true_rate, naive_rate, cv_rate]\n",
    "})\n",
    "\n",
    "summary\n"
   ]
  },
  {
   "cell_type": "code",
   "execution_count": null,
   "metadata": {},
   "outputs": [],
   "source": []
  },
  {
   "cell_type": "code",
   "execution_count": null,
   "metadata": {},
   "outputs": [],
   "source": []
  }
 ],
 "metadata": {
  "kernelspec": {
   "display_name": "3.9.5",
   "language": "python",
   "name": "python3"
  },
  "language_info": {
   "codemirror_mode": {
    "name": "ipython",
    "version": 3
   },
   "file_extension": ".py",
   "mimetype": "text/x-python",
   "name": "python",
   "nbconvert_exporter": "python",
   "pygments_lexer": "ipython3",
   "version": "3.9.5"
  }
 },
 "nbformat": 4,
 "nbformat_minor": 2
}
