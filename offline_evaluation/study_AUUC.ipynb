{
 "cells": [
  {
   "cell_type": "markdown",
   "id": "0571c433-8e86-45f0-976b-ae0e39b1c835",
   "metadata": {},
   "source": [
    "# AUUC勉強"
   ]
  },
  {
   "cell_type": "markdown",
   "id": "e91c11d8-d904-4179-94d4-239320dfa012",
   "metadata": {},
   "source": [
    "## モジュールインポート"
   ]
  },
  {
   "cell_type": "code",
   "execution_count": 1,
   "id": "be00e2bb-09f0-43f8-a886-822953b7d2c9",
   "metadata": {},
   "outputs": [],
   "source": [
    "import numpy as np\n",
    "import pandas as pd"
   ]
  },
  {
   "cell_type": "code",
   "execution_count": null,
   "id": "f1f086dd-ade3-4e2c-b13d-2df4f08b06ef",
   "metadata": {},
   "outputs": [],
   "source": []
  }
 ],
 "metadata": {
  "kernelspec": {
   "display_name": "Python 3 (ipykernel)",
   "language": "python",
   "name": "python3"
  },
  "language_info": {
   "codemirror_mode": {
    "name": "ipython",
    "version": 3
   },
   "file_extension": ".py",
   "mimetype": "text/x-python",
   "name": "python",
   "nbconvert_exporter": "python",
   "pygments_lexer": "ipython3",
   "version": "3.9.5"
  }
 },
 "nbformat": 4,
 "nbformat_minor": 5
}
